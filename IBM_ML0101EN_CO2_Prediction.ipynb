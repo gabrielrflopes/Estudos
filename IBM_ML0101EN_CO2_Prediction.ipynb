{
  "nbformat": 4,
  "nbformat_minor": 0,
  "metadata": {
    "colab": {
      "provenance": [],
      "toc_visible": true,
      "authorship_tag": "ABX9TyNa5sLtEZPuSoptsADFTq5a",
      "include_colab_link": true
    },
    "kernelspec": {
      "name": "python3",
      "display_name": "Python 3"
    },
    "language_info": {
      "name": "python"
    }
  },
  "cells": [
    {
      "cell_type": "markdown",
      "metadata": {
        "id": "view-in-github",
        "colab_type": "text"
      },
      "source": [
        "<a href=\"https://colab.research.google.com/github/gabrielrflopes/Estudos/blob/main/IBM_ML0101EN_CO2_Prediction.ipynb\" target=\"_parent\"><img src=\"https://colab.research.google.com/assets/colab-badge.svg\" alt=\"Open In Colab\"/></a>"
      ]
    },
    {
      "cell_type": "markdown",
      "source": [
        "# IBM - ML0101EN\n",
        "<h3>Machine Learning with Python"
      ],
      "metadata": {
        "id": "CHl3Rtf9QvbL"
      }
    },
    {
      "cell_type": "markdown",
      "source": [
        "## Importando as bibliotecas"
      ],
      "metadata": {
        "id": "Jxe1zpacQsWC"
      }
    },
    {
      "cell_type": "code",
      "execution_count": null,
      "metadata": {
        "id": "B_OFmQiPwOId"
      },
      "outputs": [],
      "source": [
        "import pandas as pd\n",
        "import numpy as np\n",
        "import matplotlib.pyplot as plt\n",
        "import seaborn as sns\n",
        "import pylab as pl\n",
        "\n",
        "%matplotlib inline"
      ]
    },
    {
      "cell_type": "markdown",
      "source": [
        "## Importando os dados"
      ],
      "metadata": {
        "id": "cBdnDPp1wgdy"
      }
    },
    {
      "cell_type": "code",
      "source": [
        "data_path = 'https://raw.githubusercontent.com/gabrielrflopes/estudos/main/datasets/FuelConsumptionCo2.csv'"
      ],
      "metadata": {
        "id": "i8N5uq71wc2S"
      },
      "execution_count": null,
      "outputs": []
    },
    {
      "cell_type": "code",
      "source": [
        "df = pd.read_csv(data_path)\n",
        "\n",
        "df.head()"
      ],
      "metadata": {
        "colab": {
          "base_uri": "https://localhost:8080/",
          "height": 322
        },
        "id": "ECfVMwx_wmqE",
        "outputId": "65f9d6dd-1358-4182-87eb-edcb8ff2cd50"
      },
      "execution_count": null,
      "outputs": [
        {
          "output_type": "execute_result",
          "data": {
            "text/plain": [
              "   MODELYEAR   MAKE       MODEL VEHICLECLASS  ENGINESIZE  CYLINDERS  \\\n",
              "0       2014  ACURA         ILX      COMPACT         2.0          4   \n",
              "1       2014  ACURA         ILX      COMPACT         2.4          4   \n",
              "2       2014  ACURA  ILX HYBRID      COMPACT         1.5          4   \n",
              "3       2014  ACURA     MDX 4WD  SUV - SMALL         3.5          6   \n",
              "4       2014  ACURA     RDX AWD  SUV - SMALL         3.5          6   \n",
              "\n",
              "  TRANSMISSION FUELTYPE  FUELCONSUMPTION_CITY  FUELCONSUMPTION_HWY  \\\n",
              "0          AS5        Z                   9.9                  6.7   \n",
              "1           M6        Z                  11.2                  7.7   \n",
              "2          AV7        Z                   6.0                  5.8   \n",
              "3          AS6        Z                  12.7                  9.1   \n",
              "4          AS6        Z                  12.1                  8.7   \n",
              "\n",
              "   FUELCONSUMPTION_COMB  FUELCONSUMPTION_COMB_MPG  CO2EMISSIONS  \n",
              "0                   8.5                        33           196  \n",
              "1                   9.6                        29           221  \n",
              "2                   5.9                        48           136  \n",
              "3                  11.1                        25           255  \n",
              "4                  10.6                        27           244  "
            ],
            "text/html": [
              "\n",
              "  <div id=\"df-a2e30228-a8e4-4b66-a95a-72a507578bec\">\n",
              "    <div class=\"colab-df-container\">\n",
              "      <div>\n",
              "<style scoped>\n",
              "    .dataframe tbody tr th:only-of-type {\n",
              "        vertical-align: middle;\n",
              "    }\n",
              "\n",
              "    .dataframe tbody tr th {\n",
              "        vertical-align: top;\n",
              "    }\n",
              "\n",
              "    .dataframe thead th {\n",
              "        text-align: right;\n",
              "    }\n",
              "</style>\n",
              "<table border=\"1\" class=\"dataframe\">\n",
              "  <thead>\n",
              "    <tr style=\"text-align: right;\">\n",
              "      <th></th>\n",
              "      <th>MODELYEAR</th>\n",
              "      <th>MAKE</th>\n",
              "      <th>MODEL</th>\n",
              "      <th>VEHICLECLASS</th>\n",
              "      <th>ENGINESIZE</th>\n",
              "      <th>CYLINDERS</th>\n",
              "      <th>TRANSMISSION</th>\n",
              "      <th>FUELTYPE</th>\n",
              "      <th>FUELCONSUMPTION_CITY</th>\n",
              "      <th>FUELCONSUMPTION_HWY</th>\n",
              "      <th>FUELCONSUMPTION_COMB</th>\n",
              "      <th>FUELCONSUMPTION_COMB_MPG</th>\n",
              "      <th>CO2EMISSIONS</th>\n",
              "    </tr>\n",
              "  </thead>\n",
              "  <tbody>\n",
              "    <tr>\n",
              "      <th>0</th>\n",
              "      <td>2014</td>\n",
              "      <td>ACURA</td>\n",
              "      <td>ILX</td>\n",
              "      <td>COMPACT</td>\n",
              "      <td>2.0</td>\n",
              "      <td>4</td>\n",
              "      <td>AS5</td>\n",
              "      <td>Z</td>\n",
              "      <td>9.9</td>\n",
              "      <td>6.7</td>\n",
              "      <td>8.5</td>\n",
              "      <td>33</td>\n",
              "      <td>196</td>\n",
              "    </tr>\n",
              "    <tr>\n",
              "      <th>1</th>\n",
              "      <td>2014</td>\n",
              "      <td>ACURA</td>\n",
              "      <td>ILX</td>\n",
              "      <td>COMPACT</td>\n",
              "      <td>2.4</td>\n",
              "      <td>4</td>\n",
              "      <td>M6</td>\n",
              "      <td>Z</td>\n",
              "      <td>11.2</td>\n",
              "      <td>7.7</td>\n",
              "      <td>9.6</td>\n",
              "      <td>29</td>\n",
              "      <td>221</td>\n",
              "    </tr>\n",
              "    <tr>\n",
              "      <th>2</th>\n",
              "      <td>2014</td>\n",
              "      <td>ACURA</td>\n",
              "      <td>ILX HYBRID</td>\n",
              "      <td>COMPACT</td>\n",
              "      <td>1.5</td>\n",
              "      <td>4</td>\n",
              "      <td>AV7</td>\n",
              "      <td>Z</td>\n",
              "      <td>6.0</td>\n",
              "      <td>5.8</td>\n",
              "      <td>5.9</td>\n",
              "      <td>48</td>\n",
              "      <td>136</td>\n",
              "    </tr>\n",
              "    <tr>\n",
              "      <th>3</th>\n",
              "      <td>2014</td>\n",
              "      <td>ACURA</td>\n",
              "      <td>MDX 4WD</td>\n",
              "      <td>SUV - SMALL</td>\n",
              "      <td>3.5</td>\n",
              "      <td>6</td>\n",
              "      <td>AS6</td>\n",
              "      <td>Z</td>\n",
              "      <td>12.7</td>\n",
              "      <td>9.1</td>\n",
              "      <td>11.1</td>\n",
              "      <td>25</td>\n",
              "      <td>255</td>\n",
              "    </tr>\n",
              "    <tr>\n",
              "      <th>4</th>\n",
              "      <td>2014</td>\n",
              "      <td>ACURA</td>\n",
              "      <td>RDX AWD</td>\n",
              "      <td>SUV - SMALL</td>\n",
              "      <td>3.5</td>\n",
              "      <td>6</td>\n",
              "      <td>AS6</td>\n",
              "      <td>Z</td>\n",
              "      <td>12.1</td>\n",
              "      <td>8.7</td>\n",
              "      <td>10.6</td>\n",
              "      <td>27</td>\n",
              "      <td>244</td>\n",
              "    </tr>\n",
              "  </tbody>\n",
              "</table>\n",
              "</div>\n",
              "      <button class=\"colab-df-convert\" onclick=\"convertToInteractive('df-a2e30228-a8e4-4b66-a95a-72a507578bec')\"\n",
              "              title=\"Convert this dataframe to an interactive table.\"\n",
              "              style=\"display:none;\">\n",
              "        \n",
              "  <svg xmlns=\"http://www.w3.org/2000/svg\" height=\"24px\"viewBox=\"0 0 24 24\"\n",
              "       width=\"24px\">\n",
              "    <path d=\"M0 0h24v24H0V0z\" fill=\"none\"/>\n",
              "    <path d=\"M18.56 5.44l.94 2.06.94-2.06 2.06-.94-2.06-.94-.94-2.06-.94 2.06-2.06.94zm-11 1L8.5 8.5l.94-2.06 2.06-.94-2.06-.94L8.5 2.5l-.94 2.06-2.06.94zm10 10l.94 2.06.94-2.06 2.06-.94-2.06-.94-.94-2.06-.94 2.06-2.06.94z\"/><path d=\"M17.41 7.96l-1.37-1.37c-.4-.4-.92-.59-1.43-.59-.52 0-1.04.2-1.43.59L10.3 9.45l-7.72 7.72c-.78.78-.78 2.05 0 2.83L4 21.41c.39.39.9.59 1.41.59.51 0 1.02-.2 1.41-.59l7.78-7.78 2.81-2.81c.8-.78.8-2.07 0-2.86zM5.41 20L4 18.59l7.72-7.72 1.47 1.35L5.41 20z\"/>\n",
              "  </svg>\n",
              "      </button>\n",
              "      \n",
              "  <style>\n",
              "    .colab-df-container {\n",
              "      display:flex;\n",
              "      flex-wrap:wrap;\n",
              "      gap: 12px;\n",
              "    }\n",
              "\n",
              "    .colab-df-convert {\n",
              "      background-color: #E8F0FE;\n",
              "      border: none;\n",
              "      border-radius: 50%;\n",
              "      cursor: pointer;\n",
              "      display: none;\n",
              "      fill: #1967D2;\n",
              "      height: 32px;\n",
              "      padding: 0 0 0 0;\n",
              "      width: 32px;\n",
              "    }\n",
              "\n",
              "    .colab-df-convert:hover {\n",
              "      background-color: #E2EBFA;\n",
              "      box-shadow: 0px 1px 2px rgba(60, 64, 67, 0.3), 0px 1px 3px 1px rgba(60, 64, 67, 0.15);\n",
              "      fill: #174EA6;\n",
              "    }\n",
              "\n",
              "    [theme=dark] .colab-df-convert {\n",
              "      background-color: #3B4455;\n",
              "      fill: #D2E3FC;\n",
              "    }\n",
              "\n",
              "    [theme=dark] .colab-df-convert:hover {\n",
              "      background-color: #434B5C;\n",
              "      box-shadow: 0px 1px 3px 1px rgba(0, 0, 0, 0.15);\n",
              "      filter: drop-shadow(0px 1px 2px rgba(0, 0, 0, 0.3));\n",
              "      fill: #FFFFFF;\n",
              "    }\n",
              "  </style>\n",
              "\n",
              "      <script>\n",
              "        const buttonEl =\n",
              "          document.querySelector('#df-a2e30228-a8e4-4b66-a95a-72a507578bec button.colab-df-convert');\n",
              "        buttonEl.style.display =\n",
              "          google.colab.kernel.accessAllowed ? 'block' : 'none';\n",
              "\n",
              "        async function convertToInteractive(key) {\n",
              "          const element = document.querySelector('#df-a2e30228-a8e4-4b66-a95a-72a507578bec');\n",
              "          const dataTable =\n",
              "            await google.colab.kernel.invokeFunction('convertToInteractive',\n",
              "                                                     [key], {});\n",
              "          if (!dataTable) return;\n",
              "\n",
              "          const docLinkHtml = 'Like what you see? Visit the ' +\n",
              "            '<a target=\"_blank\" href=https://colab.research.google.com/notebooks/data_table.ipynb>data table notebook</a>'\n",
              "            + ' to learn more about interactive tables.';\n",
              "          element.innerHTML = '';\n",
              "          dataTable['output_type'] = 'display_data';\n",
              "          await google.colab.output.renderOutput(dataTable, element);\n",
              "          const docLink = document.createElement('div');\n",
              "          docLink.innerHTML = docLinkHtml;\n",
              "          element.appendChild(docLink);\n",
              "        }\n",
              "      </script>\n",
              "    </div>\n",
              "  </div>\n",
              "  "
            ]
          },
          "metadata": {},
          "execution_count": 3
        }
      ]
    },
    {
      "cell_type": "markdown",
      "source": [
        "O dataset contém dados sobre o consumo de combustível e emissões de CO2 de modelos específicos de veículos leves do Canadá.\n",
        "\n",
        "### Dicionário de Variáveis\n",
        "\n",
        "- `MODELYEAR` - Ano de fabricação do veículo;\n",
        "- `MAKE` - Montadora;\n",
        "- `MODEL` - Modelo do veículo;\n",
        "- `VEHICLECLASS` - Classe do veículo, e.g compacto, SUV;\n",
        "- `ENGINESIZE` - Tamanho do motor;\n",
        "- `CYLINDERS` - Quantidade de cilíndros;\n",
        "- `TRANSMISSION`- Tipo de embreagem;\n",
        "- `FUELTYPE`- Tipo de combustível;\n",
        "- `FUELCONSUMPTION_CITY` - Consumo de combustível na cidade;\n",
        "- `FUELCONSUMPTION_HWY` - Consumo de combustível na estrada;\n",
        "- `FUELCONSUMPTION_COMB` - Média do consumo de combustível;\n",
        "- `FUELCONSUMPTION_COMB_MPG` - Média de milhas por galão de combustível;\n",
        "- `CO2EMISSIONS`- Emissões de CO2"
      ],
      "metadata": {
        "id": "RwxmnzapxFlJ"
      }
    },
    {
      "cell_type": "markdown",
      "source": [
        "## Análise exploratória dos dados"
      ],
      "metadata": {
        "id": "OZ8Csxz8zJFb"
      }
    },
    {
      "cell_type": "markdown",
      "source": [
        "- **Dimensões do dataset**"
      ],
      "metadata": {
        "id": "V7-FbrDszrg7"
      }
    },
    {
      "cell_type": "code",
      "source": [
        "print('Entradas:\\t', df.shape[0],\n",
        "      '\\nVariáveis:\\t', df.shape[1])"
      ],
      "metadata": {
        "colab": {
          "base_uri": "https://localhost:8080/"
        },
        "id": "vG3_WezIzujA",
        "outputId": "edbfcd7e-4b60-4ca6-fc8e-4742f94b3aec"
      },
      "execution_count": null,
      "outputs": [
        {
          "output_type": "stream",
          "name": "stdout",
          "text": [
            "Entradas:\t 1067 \n",
            "Variáveis:\t 13\n"
          ]
        }
      ]
    },
    {
      "cell_type": "markdown",
      "source": [
        "- **Análise dos tipos das variáveis**"
      ],
      "metadata": {
        "id": "9VNuw0Xk1egy"
      }
    },
    {
      "cell_type": "code",
      "source": [
        "df.dtypes"
      ],
      "metadata": {
        "colab": {
          "base_uri": "https://localhost:8080/"
        },
        "id": "jX9TB_xsz3cF",
        "outputId": "ab2a8a38-539d-454e-8c2e-263c4a609ef8"
      },
      "execution_count": null,
      "outputs": [
        {
          "output_type": "execute_result",
          "data": {
            "text/plain": [
              "MODELYEAR                     int64\n",
              "MAKE                         object\n",
              "MODEL                        object\n",
              "VEHICLECLASS                 object\n",
              "ENGINESIZE                  float64\n",
              "CYLINDERS                     int64\n",
              "TRANSMISSION                 object\n",
              "FUELTYPE                     object\n",
              "FUELCONSUMPTION_CITY        float64\n",
              "FUELCONSUMPTION_HWY         float64\n",
              "FUELCONSUMPTION_COMB        float64\n",
              "FUELCONSUMPTION_COMB_MPG      int64\n",
              "CO2EMISSIONS                  int64\n",
              "dtype: object"
            ]
          },
          "metadata": {},
          "execution_count": 5
        }
      ]
    },
    {
      "cell_type": "markdown",
      "source": [
        "- **Valores ausentes**"
      ],
      "metadata": {
        "id": "LFwKbNUQ0nGX"
      }
    },
    {
      "cell_type": "code",
      "source": [
        "nan_pct = df.isna().sum() / df.__len__() * 100\n",
        "\n",
        "if nan_pct.max() == 0:\n",
        "  print('Não há valores ausentes')\n",
        "else:\n",
        "  print(nan_pct)"
      ],
      "metadata": {
        "colab": {
          "base_uri": "https://localhost:8080/"
        },
        "id": "Q5Ej9Uc00qV9",
        "outputId": "72bae037-5de4-4dfe-a574-31b9907d591e"
      },
      "execution_count": null,
      "outputs": [
        {
          "output_type": "stream",
          "name": "stdout",
          "text": [
            "Não há valores ausentes\n"
          ]
        }
      ]
    },
    {
      "cell_type": "markdown",
      "source": [
        "- **Explorando os valores únicos das variáveis categóricas**"
      ],
      "metadata": {
        "id": "cz-lME_z0Za3"
      }
    },
    {
      "cell_type": "markdown",
      "source": [
        "A análise de valores únicos servirá para ter uma noção de o que cada variável avalia, além de servir para notar se existe alguma entrada inválida que não foi contada entre os valores ausentes."
      ],
      "metadata": {
        "id": "ZkvEq4WoM1c4"
      }
    },
    {
      "cell_type": "code",
      "source": [
        "print('Quantidade de valores únicos por variável categórica:\\n')\n",
        "df.select_dtypes('object').nunique()"
      ],
      "metadata": {
        "colab": {
          "base_uri": "https://localhost:8080/"
        },
        "id": "dVkBEsGmTdja",
        "outputId": "7e5a8afe-dca5-4b61-9bfb-a11da155ea39"
      },
      "execution_count": null,
      "outputs": [
        {
          "output_type": "stream",
          "name": "stdout",
          "text": [
            "Quantidade de valores únicos por variável categórica:\n",
            "\n"
          ]
        },
        {
          "output_type": "execute_result",
          "data": {
            "text/plain": [
              "MAKE             39\n",
              "MODEL           663\n",
              "VEHICLECLASS     16\n",
              "TRANSMISSION     22\n",
              "FUELTYPE          4\n",
              "dtype: int64"
            ]
          },
          "metadata": {},
          "execution_count": 7
        }
      ]
    },
    {
      "cell_type": "code",
      "source": [
        "df['MAKE'].unique()"
      ],
      "metadata": {
        "colab": {
          "base_uri": "https://localhost:8080/"
        },
        "id": "DAOdznXHz90x",
        "outputId": "7f66a4c9-252a-4631-8d39-f4cfc09eb7ba"
      },
      "execution_count": null,
      "outputs": [
        {
          "output_type": "execute_result",
          "data": {
            "text/plain": [
              "array(['ACURA', 'ASTON MARTIN', 'AUDI', 'BENTLEY', 'BMW', 'BUICK',\n",
              "       'CADILLAC', 'CHEVROLET', 'CHRYSLER', 'DODGE', 'FIAT', 'FORD',\n",
              "       'GMC', 'HONDA', 'HYUNDAI', 'INFINITI', 'JAGUAR', 'JEEP', 'KIA',\n",
              "       'LAMBORGHINI', 'LAND ROVER', 'LEXUS', 'LINCOLN', 'MASERATI',\n",
              "       'MAZDA', 'MERCEDES-BENZ', 'MINI', 'MITSUBISHI', 'NISSAN',\n",
              "       'PORSCHE', 'RAM', 'ROLLS-ROYCE', 'SCION', 'SMART', 'SRT', 'SUBARU',\n",
              "       'TOYOTA', 'VOLKSWAGEN', 'VOLVO'], dtype=object)"
            ]
          },
          "metadata": {},
          "execution_count": 8
        }
      ]
    },
    {
      "cell_type": "code",
      "source": [
        "df['VEHICLECLASS'].unique()"
      ],
      "metadata": {
        "colab": {
          "base_uri": "https://localhost:8080/"
        },
        "id": "HGKw8rBE0B9r",
        "outputId": "b5594ca9-4841-49a7-eecb-dc51545c3e17"
      },
      "execution_count": null,
      "outputs": [
        {
          "output_type": "execute_result",
          "data": {
            "text/plain": [
              "array(['COMPACT', 'SUV - SMALL', 'MID-SIZE', 'MINICOMPACT', 'SUBCOMPACT',\n",
              "       'TWO-SEATER', 'FULL-SIZE', 'STATION WAGON - SMALL',\n",
              "       'SUV - STANDARD', 'VAN - CARGO', 'VAN - PASSENGER',\n",
              "       'PICKUP TRUCK - STANDARD', 'MINIVAN', 'SPECIAL PURPOSE VEHICLE',\n",
              "       'STATION WAGON - MID-SIZE', 'PICKUP TRUCK - SMALL'], dtype=object)"
            ]
          },
          "metadata": {},
          "execution_count": 9
        }
      ]
    },
    {
      "cell_type": "code",
      "source": [
        "df['TRANSMISSION'].unique()"
      ],
      "metadata": {
        "colab": {
          "base_uri": "https://localhost:8080/"
        },
        "id": "3c_4wQEi0J3_",
        "outputId": "71b623fc-26b8-47c5-e48a-5979474a21c5"
      },
      "execution_count": null,
      "outputs": [
        {
          "output_type": "execute_result",
          "data": {
            "text/plain": [
              "array(['AS5', 'M6', 'AV7', 'AS6', 'A6', 'AM7', 'AV8', 'AS8', 'A7', 'A8',\n",
              "       'M7', 'A4', 'M5', 'AV', 'A5', 'AM6', 'AS7', 'A9', 'AS9', 'AV6',\n",
              "       'AS4', 'AM5'], dtype=object)"
            ]
          },
          "metadata": {},
          "execution_count": 10
        }
      ]
    },
    {
      "cell_type": "code",
      "source": [
        "df['FUELTYPE'].unique()"
      ],
      "metadata": {
        "colab": {
          "base_uri": "https://localhost:8080/"
        },
        "id": "1lqfghpo0R64",
        "outputId": "3d1a6a37-a7be-4b9e-f246-38c2691cd2b7"
      },
      "execution_count": null,
      "outputs": [
        {
          "output_type": "execute_result",
          "data": {
            "text/plain": [
              "array(['Z', 'D', 'X', 'E'], dtype=object)"
            ]
          },
          "metadata": {},
          "execution_count": 11
        }
      ]
    },
    {
      "cell_type": "markdown",
      "source": [
        "- **Sumário estatístico das variáveis numéricas**"
      ],
      "metadata": {
        "id": "K2ex1aXC0ewq"
      }
    },
    {
      "cell_type": "code",
      "source": [
        "df.describe().round(2)"
      ],
      "metadata": {
        "colab": {
          "base_uri": "https://localhost:8080/",
          "height": 300
        },
        "id": "4i-zsRMDzNWF",
        "outputId": "9b3302a5-f9b2-46b5-d483-e1381323a481"
      },
      "execution_count": null,
      "outputs": [
        {
          "output_type": "execute_result",
          "data": {
            "text/plain": [
              "       MODELYEAR  ENGINESIZE  CYLINDERS  FUELCONSUMPTION_CITY  \\\n",
              "count     1067.0     1067.00    1067.00               1067.00   \n",
              "mean      2014.0        3.35       5.79                 13.30   \n",
              "std          0.0        1.42       1.80                  4.10   \n",
              "min       2014.0        1.00       3.00                  4.60   \n",
              "25%       2014.0        2.00       4.00                 10.25   \n",
              "50%       2014.0        3.40       6.00                 12.60   \n",
              "75%       2014.0        4.30       8.00                 15.55   \n",
              "max       2014.0        8.40      12.00                 30.20   \n",
              "\n",
              "       FUELCONSUMPTION_HWY  FUELCONSUMPTION_COMB  FUELCONSUMPTION_COMB_MPG  \\\n",
              "count              1067.00               1067.00                   1067.00   \n",
              "mean                  9.47                 11.58                     26.44   \n",
              "std                   2.79                  3.49                      7.47   \n",
              "min                   4.90                  4.70                     11.00   \n",
              "25%                   7.50                  9.00                     21.00   \n",
              "50%                   8.80                 10.90                     26.00   \n",
              "75%                  10.85                 13.35                     31.00   \n",
              "max                  20.50                 25.80                     60.00   \n",
              "\n",
              "       CO2EMISSIONS  \n",
              "count       1067.00  \n",
              "mean         256.23  \n",
              "std           63.37  \n",
              "min          108.00  \n",
              "25%          207.00  \n",
              "50%          251.00  \n",
              "75%          294.00  \n",
              "max          488.00  "
            ],
            "text/html": [
              "\n",
              "  <div id=\"df-aca32ae9-58ee-41a8-aecc-9054be9031c6\">\n",
              "    <div class=\"colab-df-container\">\n",
              "      <div>\n",
              "<style scoped>\n",
              "    .dataframe tbody tr th:only-of-type {\n",
              "        vertical-align: middle;\n",
              "    }\n",
              "\n",
              "    .dataframe tbody tr th {\n",
              "        vertical-align: top;\n",
              "    }\n",
              "\n",
              "    .dataframe thead th {\n",
              "        text-align: right;\n",
              "    }\n",
              "</style>\n",
              "<table border=\"1\" class=\"dataframe\">\n",
              "  <thead>\n",
              "    <tr style=\"text-align: right;\">\n",
              "      <th></th>\n",
              "      <th>MODELYEAR</th>\n",
              "      <th>ENGINESIZE</th>\n",
              "      <th>CYLINDERS</th>\n",
              "      <th>FUELCONSUMPTION_CITY</th>\n",
              "      <th>FUELCONSUMPTION_HWY</th>\n",
              "      <th>FUELCONSUMPTION_COMB</th>\n",
              "      <th>FUELCONSUMPTION_COMB_MPG</th>\n",
              "      <th>CO2EMISSIONS</th>\n",
              "    </tr>\n",
              "  </thead>\n",
              "  <tbody>\n",
              "    <tr>\n",
              "      <th>count</th>\n",
              "      <td>1067.0</td>\n",
              "      <td>1067.00</td>\n",
              "      <td>1067.00</td>\n",
              "      <td>1067.00</td>\n",
              "      <td>1067.00</td>\n",
              "      <td>1067.00</td>\n",
              "      <td>1067.00</td>\n",
              "      <td>1067.00</td>\n",
              "    </tr>\n",
              "    <tr>\n",
              "      <th>mean</th>\n",
              "      <td>2014.0</td>\n",
              "      <td>3.35</td>\n",
              "      <td>5.79</td>\n",
              "      <td>13.30</td>\n",
              "      <td>9.47</td>\n",
              "      <td>11.58</td>\n",
              "      <td>26.44</td>\n",
              "      <td>256.23</td>\n",
              "    </tr>\n",
              "    <tr>\n",
              "      <th>std</th>\n",
              "      <td>0.0</td>\n",
              "      <td>1.42</td>\n",
              "      <td>1.80</td>\n",
              "      <td>4.10</td>\n",
              "      <td>2.79</td>\n",
              "      <td>3.49</td>\n",
              "      <td>7.47</td>\n",
              "      <td>63.37</td>\n",
              "    </tr>\n",
              "    <tr>\n",
              "      <th>min</th>\n",
              "      <td>2014.0</td>\n",
              "      <td>1.00</td>\n",
              "      <td>3.00</td>\n",
              "      <td>4.60</td>\n",
              "      <td>4.90</td>\n",
              "      <td>4.70</td>\n",
              "      <td>11.00</td>\n",
              "      <td>108.00</td>\n",
              "    </tr>\n",
              "    <tr>\n",
              "      <th>25%</th>\n",
              "      <td>2014.0</td>\n",
              "      <td>2.00</td>\n",
              "      <td>4.00</td>\n",
              "      <td>10.25</td>\n",
              "      <td>7.50</td>\n",
              "      <td>9.00</td>\n",
              "      <td>21.00</td>\n",
              "      <td>207.00</td>\n",
              "    </tr>\n",
              "    <tr>\n",
              "      <th>50%</th>\n",
              "      <td>2014.0</td>\n",
              "      <td>3.40</td>\n",
              "      <td>6.00</td>\n",
              "      <td>12.60</td>\n",
              "      <td>8.80</td>\n",
              "      <td>10.90</td>\n",
              "      <td>26.00</td>\n",
              "      <td>251.00</td>\n",
              "    </tr>\n",
              "    <tr>\n",
              "      <th>75%</th>\n",
              "      <td>2014.0</td>\n",
              "      <td>4.30</td>\n",
              "      <td>8.00</td>\n",
              "      <td>15.55</td>\n",
              "      <td>10.85</td>\n",
              "      <td>13.35</td>\n",
              "      <td>31.00</td>\n",
              "      <td>294.00</td>\n",
              "    </tr>\n",
              "    <tr>\n",
              "      <th>max</th>\n",
              "      <td>2014.0</td>\n",
              "      <td>8.40</td>\n",
              "      <td>12.00</td>\n",
              "      <td>30.20</td>\n",
              "      <td>20.50</td>\n",
              "      <td>25.80</td>\n",
              "      <td>60.00</td>\n",
              "      <td>488.00</td>\n",
              "    </tr>\n",
              "  </tbody>\n",
              "</table>\n",
              "</div>\n",
              "      <button class=\"colab-df-convert\" onclick=\"convertToInteractive('df-aca32ae9-58ee-41a8-aecc-9054be9031c6')\"\n",
              "              title=\"Convert this dataframe to an interactive table.\"\n",
              "              style=\"display:none;\">\n",
              "        \n",
              "  <svg xmlns=\"http://www.w3.org/2000/svg\" height=\"24px\"viewBox=\"0 0 24 24\"\n",
              "       width=\"24px\">\n",
              "    <path d=\"M0 0h24v24H0V0z\" fill=\"none\"/>\n",
              "    <path d=\"M18.56 5.44l.94 2.06.94-2.06 2.06-.94-2.06-.94-.94-2.06-.94 2.06-2.06.94zm-11 1L8.5 8.5l.94-2.06 2.06-.94-2.06-.94L8.5 2.5l-.94 2.06-2.06.94zm10 10l.94 2.06.94-2.06 2.06-.94-2.06-.94-.94-2.06-.94 2.06-2.06.94z\"/><path d=\"M17.41 7.96l-1.37-1.37c-.4-.4-.92-.59-1.43-.59-.52 0-1.04.2-1.43.59L10.3 9.45l-7.72 7.72c-.78.78-.78 2.05 0 2.83L4 21.41c.39.39.9.59 1.41.59.51 0 1.02-.2 1.41-.59l7.78-7.78 2.81-2.81c.8-.78.8-2.07 0-2.86zM5.41 20L4 18.59l7.72-7.72 1.47 1.35L5.41 20z\"/>\n",
              "  </svg>\n",
              "      </button>\n",
              "      \n",
              "  <style>\n",
              "    .colab-df-container {\n",
              "      display:flex;\n",
              "      flex-wrap:wrap;\n",
              "      gap: 12px;\n",
              "    }\n",
              "\n",
              "    .colab-df-convert {\n",
              "      background-color: #E8F0FE;\n",
              "      border: none;\n",
              "      border-radius: 50%;\n",
              "      cursor: pointer;\n",
              "      display: none;\n",
              "      fill: #1967D2;\n",
              "      height: 32px;\n",
              "      padding: 0 0 0 0;\n",
              "      width: 32px;\n",
              "    }\n",
              "\n",
              "    .colab-df-convert:hover {\n",
              "      background-color: #E2EBFA;\n",
              "      box-shadow: 0px 1px 2px rgba(60, 64, 67, 0.3), 0px 1px 3px 1px rgba(60, 64, 67, 0.15);\n",
              "      fill: #174EA6;\n",
              "    }\n",
              "\n",
              "    [theme=dark] .colab-df-convert {\n",
              "      background-color: #3B4455;\n",
              "      fill: #D2E3FC;\n",
              "    }\n",
              "\n",
              "    [theme=dark] .colab-df-convert:hover {\n",
              "      background-color: #434B5C;\n",
              "      box-shadow: 0px 1px 3px 1px rgba(0, 0, 0, 0.15);\n",
              "      filter: drop-shadow(0px 1px 2px rgba(0, 0, 0, 0.3));\n",
              "      fill: #FFFFFF;\n",
              "    }\n",
              "  </style>\n",
              "\n",
              "      <script>\n",
              "        const buttonEl =\n",
              "          document.querySelector('#df-aca32ae9-58ee-41a8-aecc-9054be9031c6 button.colab-df-convert');\n",
              "        buttonEl.style.display =\n",
              "          google.colab.kernel.accessAllowed ? 'block' : 'none';\n",
              "\n",
              "        async function convertToInteractive(key) {\n",
              "          const element = document.querySelector('#df-aca32ae9-58ee-41a8-aecc-9054be9031c6');\n",
              "          const dataTable =\n",
              "            await google.colab.kernel.invokeFunction('convertToInteractive',\n",
              "                                                     [key], {});\n",
              "          if (!dataTable) return;\n",
              "\n",
              "          const docLinkHtml = 'Like what you see? Visit the ' +\n",
              "            '<a target=\"_blank\" href=https://colab.research.google.com/notebooks/data_table.ipynb>data table notebook</a>'\n",
              "            + ' to learn more about interactive tables.';\n",
              "          element.innerHTML = '';\n",
              "          dataTable['output_type'] = 'display_data';\n",
              "          await google.colab.output.renderOutput(dataTable, element);\n",
              "          const docLink = document.createElement('div');\n",
              "          docLink.innerHTML = docLinkHtml;\n",
              "          element.appendChild(docLink);\n",
              "        }\n",
              "      </script>\n",
              "    </div>\n",
              "  </div>\n",
              "  "
            ]
          },
          "metadata": {},
          "execution_count": 12
        }
      ]
    },
    {
      "cell_type": "markdown",
      "source": [
        "###  Visualizando os dados"
      ],
      "metadata": {
        "id": "t8qVT-1MzO6Y"
      }
    },
    {
      "cell_type": "markdown",
      "source": [
        "- **Histogramas**"
      ],
      "metadata": {
        "id": "DNoz-oKa3mWj"
      }
    },
    {
      "cell_type": "markdown",
      "source": [
        "Vamos selecionar alguns atributos interessantes para nossa análise, bem como a variável-alvo `CO2EMISSIONS`, para visualizar suas distribuições em histogramas."
      ],
      "metadata": {
        "id": "z-vIsbEY2prz"
      }
    },
    {
      "cell_type": "code",
      "source": [
        "fig,ax = plt.subplots(1, 4, figsize = (18, 4))\n",
        "\n",
        "df[['ENGINESIZE','CYLINDERS','FUELCONSUMPTION_COMB','CO2EMISSIONS']].hist(ax = ax, grid = False, bins = 15);\n",
        "\n",
        "fig.tight_layout()\n",
        "fig.show()"
      ],
      "metadata": {
        "colab": {
          "base_uri": "https://localhost:8080/",
          "height": 297
        },
        "id": "HpYmQcqg2gr2",
        "outputId": "02c4dec5-673b-4c1e-801e-9ff73b385d75"
      },
      "execution_count": null,
      "outputs": [
        {
          "output_type": "display_data",
          "data": {
            "text/plain": [
              "<Figure size 1800x400 with 4 Axes>"
            ],
            "image/png": "[encoded data removed]"
          },
          "metadata": {}
        }
      ]
    },
    {
      "cell_type": "markdown",
      "source": [
        "- **Gráficos de dispersão com a variável-alvo**"
      ],
      "metadata": {
        "id": "yHySbp3z3lXN"
      }
    },
    {
      "cell_type": "code",
      "source": [
        "fig, ax = plt.subplots(1, 3, figsize = (15, 4))\n",
        "\n",
        "ax[0].scatter(x = 'FUELCONSUMPTION_COMB', y = 'CO2EMISSIONS', data = df);\n",
        "ax[1].scatter(x = 'ENGINESIZE', y = 'CO2EMISSIONS', data = df, color = 'g');\n",
        "ax[2].scatter(x = 'CYLINDERS', y = 'CO2EMISSIONS', data = df, color = 'r')\n",
        "\n",
        "ax[0].set_title('Média de consumo x Emissão de CO2', fontsize = 14)\n",
        "ax[0].set_xlabel('Média de consumo', fontsize = 12)\n",
        "ax[0].set_ylabel('Emissão de CO2', fontsize = 12)\n",
        "\n",
        "ax[1].set_title('Tamanho do motor x Emissão de CO2', fontsize = 14)\n",
        "ax[1].set_xlabel('Tamanho do motor', fontsize = 12)\n",
        "\n",
        "ax[2].set_title('Número de cilíndros x Emissão de CO2', fontsize = 14)\n",
        "ax[2].set_xlabel('Número de cilíndros', fontsize = 12)\n",
        "\n",
        "fig.tight_layout()\n",
        "fig.show()"
      ],
      "metadata": {
        "colab": {
          "base_uri": "https://localhost:8080/",
          "height": 353
        },
        "id": "ZeLkXEbk3ssL",
        "outputId": "15fb5747-abc7-4769-a927-6649bac332ad"
      },
      "execution_count": null,
      "outputs": [
        {
          "output_type": "display_data",
          "data": {
            "text/plain": [
              "<Figure size 1500x400 with 3 Axes>"
            ],
            "image/png": "[encoded data removed]"
          },
          "metadata": {}
        }
      ]
    },
    {
      "cell_type": "markdown",
      "source": [
        "## Modelo de regressão linear para a variável `ENGINESIZE`"
      ],
      "metadata": {
        "id": "CrtkbBc48weF"
      }
    },
    {
      "cell_type": "markdown",
      "source": [
        "- **Importando as bibliotecas necessárias**"
      ],
      "metadata": {
        "id": "X1avx6TZDSoe"
      }
    },
    {
      "cell_type": "code",
      "source": [
        "from sklearn.model_selection import train_test_split\n",
        "from sklearn.linear_model import LinearRegression\n",
        "from sklearn.metrics import mean_squared_error, mean_absolute_error, r2_score"
      ],
      "metadata": {
        "id": "brZ5cw-86CcK"
      },
      "execution_count": null,
      "outputs": []
    },
    {
      "cell_type": "markdown",
      "source": [
        "- **Separando as variáveis independente e dependente**"
      ],
      "metadata": {
        "id": "sWy2cwsqNvTV"
      }
    },
    {
      "cell_type": "code",
      "source": [
        "X = np.array(df['ENGINESIZE']).reshape(-1, 1)\n",
        "y = df['CO2EMISSIONS']"
      ],
      "metadata": {
        "id": "dNDwnPJ06cGo"
      },
      "execution_count": null,
      "outputs": []
    },
    {
      "cell_type": "markdown",
      "source": [
        "- **Dividindo os conjuntos de teste e treino**"
      ],
      "metadata": {
        "id": "BbvEiy0rN1ya"
      }
    },
    {
      "cell_type": "code",
      "source": [
        "X_train, X_test, y_train, y_test = train_test_split(X, y, test_size = 0.2, random_state = 42)"
      ],
      "metadata": {
        "id": "jmRA5i7p6WAU"
      },
      "execution_count": null,
      "outputs": []
    },
    {
      "cell_type": "code",
      "source": [
        "print('Dimensão do conjunto original:', df.shape)\n",
        "\n",
        "print('\\nDimensões dos conjuntos de treino e teste',\n",
        "      '\\nX_train:', X_train.shape,\n",
        "      '\\ny_train:', y_train.shape,\n",
        "      '\\nX_test:\\t', X_test.shape,\n",
        "      '\\ny_test:\\t', y_test.shape)"
      ],
      "metadata": {
        "colab": {
          "base_uri": "https://localhost:8080/"
        },
        "id": "3JLFsoYR656F",
        "outputId": "e8af3fdf-4f41-4855-f48a-e266389403ab"
      },
      "execution_count": null,
      "outputs": [
        {
          "output_type": "stream",
          "name": "stdout",
          "text": [
            "Dimensão do conjunto original: (1067, 13)\n",
            "\n",
            "Dimensões dos conjuntos de treino e teste \n",
            "X_train: (853, 1) \n",
            "y_train: (853,) \n",
            "X_test:\t (214, 1) \n",
            "y_test:\t (214,)\n"
          ]
        }
      ]
    },
    {
      "cell_type": "code",
      "source": [
        "#Instanciar o modelo\n",
        "slr = LinearRegression()\n",
        "\n",
        "# Ajustar o modelo nos dados de treino\n",
        "model_slr = slr.fit(X_train, y_train)\n",
        "\n",
        "# Realizar as previsões com o modelo\n",
        "y_pred_slr = model_slr.predict(X_test)"
      ],
      "metadata": {
        "id": "hTjKIc_-7TfX"
      },
      "execution_count": null,
      "outputs": []
    },
    {
      "cell_type": "code",
      "source": [
        "print('Coeficiente linear: {:.2f}'.format(model_slr.coef_[0]),\n",
        "      '\\nIntercepto: {:.2f}'.format(model_slr.intercept_))"
      ],
      "metadata": {
        "colab": {
          "base_uri": "https://localhost:8080/"
        },
        "id": "n4jzTFYO-aBL",
        "outputId": "b266617c-ab8e-41f7-bb01-bcb0c0ef33a6"
      },
      "execution_count": null,
      "outputs": [
        {
          "output_type": "stream",
          "name": "stdout",
          "text": [
            "Coeficiente linear: 38.99 \n",
            "Intercepto: 126.29\n"
          ]
        }
      ]
    },
    {
      "cell_type": "markdown",
      "source": [
        "Portanto, o modelo linear ajustou uma reta que pode ser expressa como:\n",
        "\n",
        "$$ \\text{Emissões de CO2} = 126.29 + 38.99x $$\n",
        "\n",
        "em que _x_ se refere ao atributo `ENGINESIZE`."
      ],
      "metadata": {
        "id": "lL-4B0T9-776"
      }
    },
    {
      "cell_type": "markdown",
      "source": [
        "### **Visualizando o modelo ajustado aos dados**"
      ],
      "metadata": {
        "id": "jqEMiC1l9uZ8"
      }
    },
    {
      "cell_type": "code",
      "source": [
        "fig, ax = plt.subplots()\n",
        "\n",
        "ax.scatter(x = 'ENGINESIZE', y = 'CO2EMISSIONS', data = df, label = 'Dados históricos');\n",
        "ax.plot(X_train, model_slr.coef_[0]*X_train + model_slr.intercept_, 'r-', label = 'Valor previsto');\n",
        "\n",
        "ax.set_title('Regressão linear simples - Engine Size', fontsize = 14)\n",
        "ax.set_ylabel('Emissões de CO2', fontsize = 12, labelpad = 12)\n",
        "ax.set_xlabel('Tamanho do motor', fontsize = 12, labelpad = 12)\n",
        "\n",
        "ax.legend()\n",
        "\n",
        "fig.tight_layout()\n",
        "fig.show()"
      ],
      "metadata": {
        "colab": {
          "base_uri": "https://localhost:8080/",
          "height": 487
        },
        "id": "DhbdxeLu-EDp",
        "outputId": "8b561f5f-d247-4f5b-c141-2e265a78dffa"
      },
      "execution_count": null,
      "outputs": [
        {
          "output_type": "display_data",
          "data": {
            "text/plain": [
              "<Figure size 640x480 with 1 Axes>"
            ],
            "image/png": "[encoded data removed]"
          },
          "metadata": {}
        }
      ]
    },
    {
      "cell_type": "markdown",
      "source": [
        "### Avaliando métricas"
      ],
      "metadata": {
        "id": "SH9Se0neDDpa"
      }
    },
    {
      "cell_type": "code",
      "source": [
        "print('Erro absoluto médio: {:.2f}'.format(mean_absolute_error(y_test, y_pred_slr)))\n",
        "print('Erro quadrático médio: {:.2f}'.format(mean_squared_error(y_test, y_pred_slr)))\n",
        "print('R2 score: {:.2f}'.format(r2_score(y_test, y_pred_slr)))"
      ],
      "metadata": {
        "colab": {
          "base_uri": "https://localhost:8080/"
        },
        "id": "YC6dB613DHfK",
        "outputId": "3316a6b0-be38-4197-82d5-918c2e7f9ab2"
      },
      "execution_count": null,
      "outputs": [
        {
          "output_type": "stream",
          "name": "stdout",
          "text": [
            "Erro absoluto médio: 24.10\n",
            "Erro quadrático médio: 985.94\n",
            "R2 score: 0.76\n"
          ]
        }
      ]
    },
    {
      "cell_type": "markdown",
      "source": [
        "## Modelo de regressão linear para o atributo `FUELCONSUMPTION_COMB`"
      ],
      "metadata": {
        "id": "uJZNpxM6EtHP"
      }
    },
    {
      "cell_type": "code",
      "source": [
        "X = np.array(df['FUELCONSUMPTION_COMB']).reshape(-1, 1)\n",
        "y = df['CO2EMISSIONS']"
      ],
      "metadata": {
        "id": "icXZoxtoExgd"
      },
      "execution_count": null,
      "outputs": []
    },
    {
      "cell_type": "code",
      "source": [
        "X_train, X_test, y_train, y_test = train_test_split(X, y, test_size = 0.2)"
      ],
      "metadata": {
        "id": "kZpoQTaVFAMx"
      },
      "execution_count": null,
      "outputs": []
    },
    {
      "cell_type": "code",
      "source": [
        "print('Dimensão do conjunto original:', df.shape)\n",
        "\n",
        "print('\\nDimensões dos conjuntos de treino e teste',\n",
        "      '\\nX_train:', X_train.shape,\n",
        "      '\\ny_train:', y_train.shape,\n",
        "      '\\nX_test:', X_test.shape,\n",
        "      '\\ny_test:', y_test.shape)"
      ],
      "metadata": {
        "colab": {
          "base_uri": "https://localhost:8080/"
        },
        "id": "Oj8Ua4zzFKLX",
        "outputId": "5aeda61d-70f2-4e0a-8eab-99013c6aad57"
      },
      "execution_count": null,
      "outputs": [
        {
          "output_type": "stream",
          "name": "stdout",
          "text": [
            "Dimensão do conjunto original: (1067, 13)\n",
            "\n",
            "Dimensões dos conjuntos de treino e teste \n",
            "X_train: (853, 1) \n",
            "y_train: (853,) \n",
            "X_test: (214, 1) \n",
            "y_test: (214,)\n"
          ]
        }
      ]
    },
    {
      "cell_type": "code",
      "source": [
        "# Ajustando o modelo\n",
        "model2_slr = slr.fit(X_train, y_train)\n",
        "\n",
        "# Realizando as previsões\n",
        "y2_pred_slr = model2_slr.predict(X_test)"
      ],
      "metadata": {
        "id": "RHfbbiHdFQIs"
      },
      "execution_count": null,
      "outputs": []
    },
    {
      "cell_type": "code",
      "source": [
        "print('Coeficiente linear:', model2_slr.coef_[0].round(2),\n",
        "      '\\nIntercepto:', model2_slr.intercept_.round(2))"
      ],
      "metadata": {
        "colab": {
          "base_uri": "https://localhost:8080/"
        },
        "id": "4CbX_6MyFrRp",
        "outputId": "62ad23c8-f705-4ad8-a00b-d01a0ab222b6"
      },
      "execution_count": null,
      "outputs": [
        {
          "output_type": "stream",
          "name": "stdout",
          "text": [
            "Coeficiente linear: 16.49 \n",
            "Intercepto: 65.62\n"
          ]
        }
      ]
    },
    {
      "cell_type": "markdown",
      "source": [
        "### Visualizando o modelo ajustado aos dados"
      ],
      "metadata": {
        "id": "FbIOpJ7sHu_R"
      }
    },
    {
      "cell_type": "code",
      "source": [
        "fig, ax = plt.subplots()\n",
        "\n",
        "ax.scatter(x = 'FUELCONSUMPTION_COMB', y = 'CO2EMISSIONS', data = df, label = 'Dados históricos');\n",
        "ax.plot(X_train, 16.04*X_train + 70.17, 'r-', label = 'Previsão');\n",
        "\n",
        "ax.set_title('Regressão linear - Fuel Consumption', fontsize = 14)\n",
        "ax.set_ylabel('Emissões de CO2', fontsize = 12, labelpad = 12)\n",
        "ax.set_xlabel('Consumo médio de combustível', fontsize = 12, labelpad = 12)\n",
        "ax.legend()\n",
        "\n",
        "fig.tight_layout()\n",
        "fig.show()"
      ],
      "metadata": {
        "colab": {
          "base_uri": "https://localhost:8080/",
          "height": 487
        },
        "id": "bcT2SYfUF8c5",
        "outputId": "2575537e-ac1a-43ad-84fb-caafc079e29c"
      },
      "execution_count": null,
      "outputs": [
        {
          "output_type": "display_data",
          "data": {
            "text/plain": [
              "<Figure size 640x480 with 1 Axes>"
            ],
            "image/png": "[encoded data removed]"
          },
          "metadata": {}
        }
      ]
    },
    {
      "cell_type": "markdown",
      "source": [
        "### Avaliando as métricas"
      ],
      "metadata": {
        "id": "bxguq3F0Gvrp"
      }
    },
    {
      "cell_type": "code",
      "source": [
        "print('Erro absoluto médio: {:.2f}'.format(mean_absolute_error(y_test, y2_pred_slr)))\n",
        "print('Erro quadrático médio: {:.2f}'.format(mean_squared_error(y_test, y2_pred_slr)))\n",
        "print('R2 Score: {:.2f}'.format(r2_score(y_test, y2_pred_slr)))"
      ],
      "metadata": {
        "colab": {
          "base_uri": "https://localhost:8080/"
        },
        "id": "BT6Cd6EgGyAX",
        "outputId": "c8e527db-b189-44d3-b4a8-e2c3075e4b48"
      },
      "execution_count": null,
      "outputs": [
        {
          "output_type": "stream",
          "name": "stdout",
          "text": [
            "Erro absoluto médio: 21.52\n",
            "Erro quadrático médio: 951.96\n",
            "R2 Score: 0.77\n"
          ]
        }
      ]
    },
    {
      "cell_type": "markdown",
      "source": [
        "As métricas de desempenho para a variável de consumo médio mostram que esse atributo é bom na previsão da emissão de CO2 do combustível, obtendo um R2 Score por volta de 0,8 e um MSE baixo."
      ],
      "metadata": {
        "id": "ef825ivTHQdf"
      }
    },
    {
      "cell_type": "markdown",
      "source": [
        "## Modelo de regressão linear para a variável `CYLINDERS`"
      ],
      "metadata": {
        "id": "hnOzhbQnB1Xl"
      }
    },
    {
      "cell_type": "code",
      "source": [
        "X = np.array(df['CYLINDERS']).reshape(-1, 1)\n",
        "y = df['CO2EMISSIONS']"
      ],
      "metadata": {
        "id": "rHrTh7iGB7LM"
      },
      "execution_count": null,
      "outputs": []
    },
    {
      "cell_type": "code",
      "source": [
        "X_train, X_test, y_train, y_test = train_test_split(X, y, test_size = 0.2)"
      ],
      "metadata": {
        "id": "l3xtxusOCl-L"
      },
      "execution_count": null,
      "outputs": []
    },
    {
      "cell_type": "code",
      "source": [
        "# Instanciando o modelo\n",
        "model3_slr = slr.fit(X_train, y_train)\n",
        "\n",
        "# Realilzando as previsões\n",
        "y3_pred_slr = model3_slr.predict(X_test, )"
      ],
      "metadata": {
        "id": "nZRpiVN3Cw23"
      },
      "execution_count": null,
      "outputs": []
    },
    {
      "cell_type": "code",
      "source": [
        "print('Coeficiente linear: {:.2f}'.format(model3_slr.coef_[0]),\n",
        "      '\\nIntercepto: {:.2f}'.format(model3_slr.intercept_))"
      ],
      "metadata": {
        "colab": {
          "base_uri": "https://localhost:8080/"
        },
        "id": "kpyLNTLnDB2I",
        "outputId": "71b34959-ca3f-44a7-cebd-8cc8833ba930"
      },
      "execution_count": null,
      "outputs": [
        {
          "output_type": "stream",
          "name": "stdout",
          "text": [
            "Coeficiente linear: 30.02 \n",
            "Intercepto: 82.41\n"
          ]
        }
      ]
    },
    {
      "cell_type": "markdown",
      "source": [
        "### Visualizando o modelo ajustado aos dados"
      ],
      "metadata": {
        "id": "Dg63VGN_E25O"
      }
    },
    {
      "cell_type": "code",
      "source": [
        "fig, ax = plt.subplots()\n",
        "\n",
        "ax.scatter(x = 'CYLINDERS', y = 'CO2EMISSIONS', data = df)\n",
        "ax.plot(X_train, model3_slr.coef_[0]*X_train + model3_slr.intercept_, 'r-')\n",
        "\n",
        "ax.set_xlabel('Número de cilíndros', fontsize = 12, labelpad = 12)\n",
        "ax.set_ylabel('Emissões de CO2', fontsize = 12, labelpad = 12)\n",
        "ax.set_title('Regressão linear - Cilíndros', fontsize = 14)\n",
        "ax.set_xlim(.5, 13)\n",
        "ax.set_ylim(0, 600)\n",
        "ax.legend(labels = ['Dados históricos', 'Previsão'])\n",
        "\n",
        "fig.tight_layout()\n",
        "fig.show()"
      ],
      "metadata": {
        "colab": {
          "base_uri": "https://localhost:8080/",
          "height": 487
        },
        "id": "uVvyamYQDmtY",
        "outputId": "f3f7f236-3cd7-411d-94fe-c140fbea6425"
      },
      "execution_count": null,
      "outputs": [
        {
          "output_type": "display_data",
          "data": {
            "text/plain": [
              "<Figure size 640x480 with 1 Axes>"
            ],
            "image/png": "[encoded data removed]"
          },
          "metadata": {}
        }
      ]
    },
    {
      "cell_type": "markdown",
      "source": [
        "### Avaliando as métricas de desempenho"
      ],
      "metadata": {
        "id": "AGbHSXqgE5g0"
      }
    },
    {
      "cell_type": "code",
      "source": [
        "print('Erro absoluto médio: {:.2f}'.format(mean_absolute_error(y_test, y3_pred_slr)))\n",
        "print('Erro quadrático médio: {:.2f}'.format(mean_squared_error(y_test, y3_pred_slr)))\n",
        "print('R2 Score: {:.2f}'.format(r2_score(y_test, y3_pred_slr)))"
      ],
      "metadata": {
        "colab": {
          "base_uri": "https://localhost:8080/"
        },
        "id": "Ne-s8jKHEHwW",
        "outputId": "5bce1605-b4a5-43d6-9980-d757d14bc927"
      },
      "execution_count": null,
      "outputs": [
        {
          "output_type": "stream",
          "name": "stdout",
          "text": [
            "Erro absoluto médio: 24.13\n",
            "Erro quadrático médio: 994.50\n",
            "R2 Score: 0.74\n"
          ]
        }
      ]
    },
    {
      "cell_type": "markdown",
      "source": [
        "O modelo linear simples funcionou relativamente bem para a variável `CYLINDERS`. Note que o valor de R2 está por volta de 0.7, o que é uma boa marca. Além disso, o erro quadrático médio não difere muito daquele encontrado para o primeiro modelo aplicado à variável `ENGINESIZE`."
      ],
      "metadata": {
        "id": "xsNrTo4jEi0v"
      }
    },
    {
      "cell_type": "markdown",
      "source": [
        "## Regressão Linear Múltipla"
      ],
      "metadata": {
        "id": "K32uhspFEzDb"
      }
    },
    {
      "cell_type": "markdown",
      "source": [
        "Avaliando os três primeiros modelos criados a partir das variáveis individuais, tentando prever a variável-alvo, podemos ver que todas elas apresentam informações que ajudam na previsão da emissão de CO2 por um novo veículo.\n",
        "\n",
        "Sendo assim, agora vamos implementar um modelo de regressão linear múltipla, em que vamos utilizar as três variáveis `ENGINESIZE`, `FUELCONSUMPTION_COMB` e `CYLINDERS` para estimar a emissão de CO2. Dessa forma, o modelo terá mais atributos informativos para trabalhar, fornecendo o peso relativo para cada variável, isto é, a importância relativa entre elas para a previsão de quantidade de CO2 emitido por um novo veículo."
      ],
      "metadata": {
        "id": "U4be97T4FIbc"
      }
    },
    {
      "cell_type": "code",
      "source": [
        "# Definindo a matriz de atributos e a variável-alvo\n",
        "X = df[['CYLINDERS', 'ENGINESIZE', 'FUELCONSUMPTION_COMB']]\n",
        "y = df['CO2EMISSIONS']"
      ],
      "metadata": {
        "id": "8nhv0YBiF-1l"
      },
      "execution_count": null,
      "outputs": []
    },
    {
      "cell_type": "code",
      "source": [
        "print('Dimensões da matriz de atributos e da variável-alvo',\n",
        "      '\\nX:', X.shape,\n",
        "      '\\ny:', y.shape)"
      ],
      "metadata": {
        "colab": {
          "base_uri": "https://localhost:8080/"
        },
        "id": "obf4rgxxGIlv",
        "outputId": "d5d52a1f-a889-4ff3-8091-60a4c9019a4d"
      },
      "execution_count": null,
      "outputs": [
        {
          "output_type": "stream",
          "name": "stdout",
          "text": [
            "Dimensões da matriz de atributos e da variável-alvo \n",
            "X: (1067, 3) \n",
            "y: (1067,)\n"
          ]
        }
      ]
    },
    {
      "cell_type": "code",
      "source": [
        "# Dividindo os dados entre treino e teste\n",
        "X_train, X_test, y_train, y_test = train_test_split(X, y, test_size = 0.2)"
      ],
      "metadata": {
        "id": "HwzNdQjVGNCD"
      },
      "execution_count": null,
      "outputs": []
    },
    {
      "cell_type": "code",
      "source": [
        "# Instanciando o modelo\n",
        "mlr = LinearRegression()\n",
        "\n",
        "# Realizando o ajuste\n",
        "model_mlr = mlr.fit(X_train, y_train)\n",
        "\n",
        "# Realizando as previsões\n",
        "y_pred_mlr = model_mlr.predict(X_test)"
      ],
      "metadata": {
        "id": "PcZ1dy3-Gnrr"
      },
      "execution_count": null,
      "outputs": []
    },
    {
      "cell_type": "code",
      "source": [
        "print('Coeficientes:', model_mlr.coef_.round(2),\n",
        "      '\\nIntercepto:', model_mlr.intercept_.round(2))"
      ],
      "metadata": {
        "colab": {
          "base_uri": "https://localhost:8080/"
        },
        "id": "tetkopchGw4y",
        "outputId": "66cec17c-0162-4e6d-f14b-c4d89aad2321"
      },
      "execution_count": null,
      "outputs": [
        {
          "output_type": "stream",
          "name": "stdout",
          "text": [
            "Coeficientes: [ 7.51 10.89  9.77] \n",
            "Intercepto: 63.31\n"
          ]
        }
      ]
    },
    {
      "cell_type": "markdown",
      "source": [
        "Note, a partir dos coeficientes, que o modelo atribuiu diferentes pesos para cada uma das variáveis, segundo sua importância na previsão do alvo. Seguindo a ordem estabelecida quando definimos a variável X, o tamanho do motor tem o maior peso na previsão das emissões de CO2, segundo esse modelo.\n",
        "\n",
        "Explicitamente, o modelo de regressão linear múltipla pode ser descrito com a seguinte equação:\n",
        "\n",
        "$$ f(x_1, x_2, x_3) = 6.6x_1 + 12.31x_2 + 9.49x_3 + 67.18$$\n",
        "\n",
        "Em que $x_1$, $x_2$ e $x_3$ correspondem às variáveis `CYLINDERS`, `ENGINESIZSE`e `FUELCONSUMPTION_COMB`, respectivamente."
      ],
      "metadata": {
        "id": "ZNQkR0opHC9g"
      }
    },
    {
      "cell_type": "markdown",
      "source": [
        "### Avaliando as métricas de desempenho"
      ],
      "metadata": {
        "id": "qsc_21-pHXRb"
      }
    },
    {
      "cell_type": "code",
      "source": [
        "print('Erro absoluto médio: {:.2f}'.format(mean_absolute_error(y_test, y_pred_mlr)))\n",
        "print('Erro quadrático médio: {:.2f}'.format(mean_squared_error(y_test, y_pred_mlr)))\n",
        "print('R2 Score: {:.2f}'.format(r2_score(y_test, y_pred_mlr)))"
      ],
      "metadata": {
        "colab": {
          "base_uri": "https://localhost:8080/"
        },
        "id": "hmhXnSj4H_if",
        "outputId": "815b9b73-52ee-4625-a346-e03dae350a49"
      },
      "execution_count": null,
      "outputs": [
        {
          "output_type": "stream",
          "name": "stdout",
          "text": [
            "Erro absoluto médio: 17.20\n",
            "Erro quadrático médio: 560.37\n",
            "R2 Score: 0.85\n"
          ]
        }
      ]
    },
    {
      "cell_type": "markdown",
      "source": [
        "Note como a qualidade do modelo melhorou muito quando utilizamos mais variáveis independentes para prever o alvo. A métrica R2 Score passou a valer aproximadamente 0.85 e o erro quadrático médio diminuiu por volta de 550. Na regressão linear, o melhor valor obtido com relação ao MSE foi de 985.94."
      ],
      "metadata": {
        "id": "agRrpZcOIdLS"
      }
    },
    {
      "cell_type": "markdown",
      "source": [
        "### Testando variações"
      ],
      "metadata": {
        "id": "Ro4dVcj3I3am"
      }
    },
    {
      "cell_type": "markdown",
      "source": [
        "No modelo acima, utilizamos a média do consumo de combustível como variável independente. Agora, queremos fazer uma variação: ao invés de usar a média, vamos usar os dados referentes ao consumo na cidade e na estrada."
      ],
      "metadata": {
        "id": "RpXpw6foJPy1"
      }
    },
    {
      "cell_type": "code",
      "source": [
        "X = df[['CYLINDERS', 'ENGINESIZE', 'FUELCONSUMPTION_HWY', 'FUELCONSUMPTION_CITY']]\n",
        "y = df['CO2EMISSIONS']"
      ],
      "metadata": {
        "id": "g2Gp3-FjJC8l"
      },
      "execution_count": null,
      "outputs": []
    },
    {
      "cell_type": "code",
      "source": [
        "print('X:', X.shape,\n",
        "      '\\ny:', y.shape)"
      ],
      "metadata": {
        "colab": {
          "base_uri": "https://localhost:8080/"
        },
        "id": "2Wn7E21MJHmt",
        "outputId": "b0b8e718-780e-42f4-8ce3-8a6b8127bd02"
      },
      "execution_count": null,
      "outputs": [
        {
          "output_type": "stream",
          "name": "stdout",
          "text": [
            "X: (1067, 4) \n",
            "y: (1067,)\n"
          ]
        }
      ]
    },
    {
      "cell_type": "code",
      "source": [
        "# Dividindo os dados entre treino e teste\n",
        "X_train, X_test, y_train, y_test = train_test_split(X, y, test_size = 0.2)"
      ],
      "metadata": {
        "id": "HbuXN9CeJPKU"
      },
      "execution_count": null,
      "outputs": []
    },
    {
      "cell_type": "code",
      "source": [
        "# Ajustando o modelo\n",
        "model2_mlr = mlr.fit(X_train, y_train)\n",
        "\n",
        "# Realizando as previsões\n",
        "y2_pred_mlr = model2_mlr.predict(X_test)"
      ],
      "metadata": {
        "id": "ZXK4U8EiJopD"
      },
      "execution_count": null,
      "outputs": []
    },
    {
      "cell_type": "code",
      "source": [
        "print('Coeficientes:', model2_mlr.coef_.round(2),\n",
        "      '\\nIntercepto:', model2_mlr.intercept_.round(2))"
      ],
      "metadata": {
        "colab": {
          "base_uri": "https://localhost:8080/"
        },
        "id": "uyLwKGsJJ1Kg",
        "outputId": "d3fb8e46-5437-44f3-a7ad-79f5777e6165"
      },
      "execution_count": null,
      "outputs": [
        {
          "output_type": "stream",
          "name": "stdout",
          "text": [
            "Coeficientes: [ 7.62 10.69  4.06  5.53] \n",
            "Intercepto: 64.59\n"
          ]
        }
      ]
    },
    {
      "cell_type": "markdown",
      "source": [
        "### Avaliando as métricas de desempenho"
      ],
      "metadata": {
        "id": "Q-PAAmumKD5S"
      }
    },
    {
      "cell_type": "code",
      "source": [
        "print('Erro absoluto médio: {:.2f}'.format(mean_absolute_error(y_test, y2_pred_mlr)))\n",
        "print('Erro quadrático médio: {:.2f}'.format(mean_squared_error(y_test, y2_pred_mlr)))\n",
        "print('R2 Score: {:.2f}'.format(r2_score(y_test, y2_pred_mlr)))"
      ],
      "metadata": {
        "colab": {
          "base_uri": "https://localhost:8080/"
        },
        "id": "GKL0Fb4GKIJK",
        "outputId": "7a35516e-423e-4278-d537-162a2bbc3f82"
      },
      "execution_count": null,
      "outputs": [
        {
          "output_type": "stream",
          "name": "stdout",
          "text": [
            "Erro absoluto médio: 17.54\n",
            "Erro quadrático médio: 566.76\n",
            "R2 Score: 0.85\n"
          ]
        }
      ]
    },
    {
      "cell_type": "markdown",
      "source": [
        "Aumentando o número de atributos informativos para 4, com as informações de consumo de combustível na cidade e na estrada, conseguimos melhorar o desempenho do modelo de regressão linear múltipla. O R2 Score aumentou por volta de 0.03."
      ],
      "metadata": {
        "id": "obXv7NODKPH-"
      }
    },
    {
      "cell_type": "markdown",
      "source": [
        "## Regressão polinomial"
      ],
      "metadata": {
        "id": "SzZo0NUpKki5"
      }
    },
    {
      "cell_type": "markdown",
      "source": [
        "A regressão polinomial busca ajustar uma curva aos dados, supondo que estes tenham uma natureza não-linear. Na regressão polinomial, nota-se que relação das variáveis dependente e a independente pode ser modelada por um polinômio de grau n, com n sendo um número inteiro que denota se tal relação é quadrática, cúbica, quaternária, etc.\n",
        "\n",
        "Uma equação que representaria um modelo de regressão polinomial seria:\n",
        "\n",
        "$$ f(x) = \\theta_0 + \\theta_1x + \\theta_2x^2 $$\n",
        "\n",
        "É importante notar que, na regressão polinomial, a função que prediz as variáveis é linear com relação aos parâmetros $\\theta_i$. Ou seja, não existe nenhuma combinação ou operação não-linear envolvendo esses parâmetros."
      ],
      "metadata": {
        "id": "Wn5Hp80RNN0i"
      }
    },
    {
      "cell_type": "markdown",
      "source": [
        "A partir dessa exposição, como podemos ajustar uma regressão polinomial aos dados do conjunto de previsão de CO2?\n",
        "\n",
        "Pegue, por exemplo, a variável `ENGINESIZE`, que apresenta apenas valores lineares em X. Podemos utilizar o método `PolynomialFeatures()` para, a partir de um atributo, criar k novos atributos que correspondem, cada um, a um grau de polinômio aplicado aos dados do atributo original.\n",
        "\n",
        "Em outras palavras, se para a variável `ENGINESIZE` queremos avaliar o seu desempenho num modelo quadrático, então aplicaríamos a transformação `PolynomialFeatures(degree = 2)`. O método transformaria o atributo original em 3 novos atributos, cada um correspondendo a um grau menor ou igual àquele que foi especificado, neste caso 0, 1 e 2."
      ],
      "metadata": {
        "id": "twmfDk1Vzbjp"
      }
    },
    {
      "cell_type": "markdown",
      "source": [
        "$$\n",
        "\\begin{bmatrix}\n",
        "    v_1\\\\\\\\\n",
        "    v_2\\\\\\\\\n",
        "    \\vdots\\\\\\\\\n",
        "    v_n\n",
        "\\end{bmatrix}\\longrightarrow \\begin{bmatrix}\n",
        "    [ 1 & v_1 & v_1^2]\\\\\\\\\n",
        "    [ 1 & v_2 & v_2^2]\\\\\\\\\n",
        "    \\vdots & \\vdots & \\vdots\\\\\\\\\n",
        "    [ 1 & v_n & v_n^2]\n",
        "\\end{bmatrix}\n",
        "$$\n",
        "\n",
        "\n",
        "\n",
        "\n",
        "$$\n",
        "\\begin{bmatrix}\n",
        "    2.\\\\\\\\\n",
        "    2.4\\\\\\\\\n",
        "    1.5\\\\\\\\\n",
        "    \\vdots\n",
        "\\end{bmatrix} \\longrightarrow \\begin{bmatrix}\n",
        "    [ 1 & 2. & 4.]\\\\\\\\\n",
        "    [ 1 & 2.4 & 5.76]\\\\\\\\\n",
        "    [ 1 & 1.5 & 2.25]\\\\\\\\\n",
        "    \\vdots & \\vdots & \\vdots\\\\\\\\\n",
        "\\end{bmatrix}\n",
        "$$"
      ],
      "metadata": {
        "id": "BCWCe_M05Tu-"
      }
    },
    {
      "cell_type": "markdown",
      "source": [
        "Teríamos assim múltiplas variáveis que podem ser modeladas a partir de uma Regressão Linear Múltipla. Neste processo, porém, temos que cada uma das variáveis que compõem o modelo de MLR correspondem a um grau distinto dos valores para a mesma variável. Ou seja, estamos considerando $x$ como sendo $x_1$ e $x^2$ como sendo $x_2$, enquanto mantemos os parâmetros $\\theta$ lineares com relação à $f(x)$. A equação resultante pode ser descrita como:\n",
        "\n",
        "$$ f(x) = \\theta_0 + \\theta_1x_1 + \\theta_2x_2$$\n",
        "\n",
        "Agora, podemos lidar com o problema como se fosse uma regressão linear sobre as variáveis $x_1$ e $x_2$. De fato, esse tipo de Regressão Polinomial é considerado um caso especial da Regressão Linear Múltipla."
      ],
      "metadata": {
        "id": "qhpOG6n-5Ubm"
      }
    },
    {
      "cell_type": "code",
      "source": [
        "# Importando as bibliotecas\n",
        "from sklearn.preprocessing import PolynomialFeatures\n",
        "from sklearn.linear_model import LinearRegression\n",
        "\n",
        "# Definindo as variáveis independente e dependente\n",
        "X = np.array(df['ENGINESIZE']).reshape(-1, 1)\n",
        "y = df['CO2EMISSIONS']"
      ],
      "metadata": {
        "id": "EE4aXYNj5pbD"
      },
      "execution_count": null,
      "outputs": []
    },
    {
      "cell_type": "code",
      "source": [
        "# Instanciando o transformador\n",
        "poly = PolynomialFeatures(degree = 3)\n",
        "\n",
        "# Dividindo os conjuntos de treino e teste\n",
        "X_train, X_test, y_train, y_test = train_test_split(X, y, test_size = 0.2)\n",
        "\n",
        "# Transformando os dados de treino\n",
        "polyX_train = poly.fit_transform(X_train)"
      ],
      "metadata": {
        "id": "c_11cVRj7isC"
      },
      "execution_count": null,
      "outputs": []
    },
    {
      "cell_type": "code",
      "source": [
        "polyX_train"
      ],
      "metadata": {
        "colab": {
          "base_uri": "https://localhost:8080/"
        },
        "id": "iG-v_-9V7XWh",
        "outputId": "1ce275de-ec5b-4e4d-cd6a-f2efd9d46e88"
      },
      "execution_count": null,
      "outputs": [
        {
          "output_type": "execute_result",
          "data": {
            "text/plain": [
              "array([[ 1.   ,  2.4  ,  5.76 , 13.824],\n",
              "       [ 1.   ,  3.7  , 13.69 , 50.653],\n",
              "       [ 1.   ,  3.5  , 12.25 , 42.875],\n",
              "       ...,\n",
              "       [ 1.   ,  3.5  , 12.25 , 42.875],\n",
              "       [ 1.   ,  3.4  , 11.56 , 39.304],\n",
              "       [ 1.   ,  3.5  , 12.25 , 42.875]])"
            ]
          },
          "metadata": {},
          "execution_count": 50
        }
      ]
    },
    {
      "cell_type": "markdown",
      "source": [
        "Note que o resultado da transformação é um array com três colunas, correspondendo respectivamente aos graus 0, 1, 2 e 3."
      ],
      "metadata": {
        "id": "k-j62aDO8aDU"
      }
    },
    {
      "cell_type": "code",
      "source": [
        "# Instanciando o modelo\n",
        "mlr_poly = LinearRegression()\n",
        "\n",
        "# Ajustando o modelo\n",
        "mlr_poly.fit(polyX_train, y_train)\n",
        "\n",
        "# Coeficientes e intercepto\n",
        "print(f'Coeficientes: {mlr_poly.coef_.round(2)}',\n",
        "      f'Intercepto:{mlr_poly.intercept_.round(2)}')"
      ],
      "metadata": {
        "colab": {
          "base_uri": "https://localhost:8080/"
        },
        "id": "zvJG8U4c8sBJ",
        "outputId": "e98f6ed8-92d1-4224-f01b-8168e3a5e932"
      },
      "execution_count": null,
      "outputs": [
        {
          "output_type": "stream",
          "name": "stdout",
          "text": [
            "Coeficientes: [ 0.   32.44  3.69 -0.45] Intercepto:126.32\n"
          ]
        }
      ]
    },
    {
      "cell_type": "markdown",
      "source": [
        "A partir dos resultados dos **coeficientes** e do **intercepto**, vemos que o modelo ajustou a seguinte função:\n",
        "\n",
        "$$ \\text{CO2 Emissions(Engine Size)} = 126.32 + 32.44x + 3.69x^2 - 0.45x^3 $$"
      ],
      "metadata": {
        "id": "5BtO1HNw9PZu"
      }
    },
    {
      "cell_type": "markdown",
      "source": [
        "- **Visualizando a curva resultante**"
      ],
      "metadata": {
        "id": "UXqGOWKU-Rt9"
      }
    },
    {
      "cell_type": "code",
      "source": [
        "fig, ax = plt.subplots()\n",
        "\n",
        "x = np.arange(0, 10, 0.1)\n",
        "y = mlr_poly.intercept_ + mlr_poly.coef_[1] * x + mlr_poly.coef_[2] * x ** 2 + mlr_poly.coef_[3] * x ** 3\n",
        "\n",
        "ax.plot(x, y, 'r-')\n",
        "\n",
        "ax.set_title('Ajuste Cúbico - EngineSize', fontsize = 14)\n",
        "ax.set_xlabel('Tamanho do Motor', fontsize = 12)\n",
        "ax.set_ylabel('Emissões de CO2', fontsize = 12)\n",
        "\n",
        "fig.tight_layout()\n",
        "fig.show()"
      ],
      "metadata": {
        "colab": {
          "base_uri": "https://localhost:8080/",
          "height": 487
        },
        "id": "giszOBDD9osb",
        "outputId": "418e3cf4-7998-41f1-c1dd-c3984eaf2fa4"
      },
      "execution_count": null,
      "outputs": [
        {
          "output_type": "display_data",
          "data": {
            "text/plain": [
              "<Figure size 640x480 with 1 Axes>"
            ],
            "image/png": "[encoded data removed]"
          },
          "metadata": {}
        }
      ]
    },
    {
      "cell_type": "markdown",
      "source": [
        "- **Avaliando no conjunto de testes**"
      ],
      "metadata": {
        "id": "iStOtR4A_eKW"
      }
    },
    {
      "cell_type": "code",
      "source": [
        "from sklearn.metrics import r2_score\n",
        "\n",
        "# Transformar o conjunto de testes\n",
        "polyX_test = poly.transform(X_test)\n",
        "\n",
        "# Realizar as previsões\n",
        "ypoly_pred = mlr_poly.predict(polyX_test)\n",
        "\n",
        "# Métricas\n",
        "print(f'MAE:\\t {mean_absolute_error(y_test, ypoly_pred):.2f}',\n",
        "      f'\\nMSE:\\t {mean_squared_error(y_test, ypoly_pred):.2f}',\n",
        "      f'\\nR2:\\t {r2_score(y_test, ypoly_pred):.2f}')"
      ],
      "metadata": {
        "colab": {
          "base_uri": "https://localhost:8080/"
        },
        "id": "FTH32GqP_gwY",
        "outputId": "025e1ba3-7742-442d-c79a-e4d6fb149ed6"
      },
      "execution_count": null,
      "outputs": [
        {
          "output_type": "stream",
          "name": "stdout",
          "text": [
            "MAE:\t 21.17 \n",
            "MSE:\t 748.85 \n",
            "R2:\t 0.81\n"
          ]
        }
      ]
    },
    {
      "cell_type": "markdown",
      "source": [
        "Avaliando as métricas, vemos que o ajuste polinomial do modelo sobre a variável `ENGINESIZE` resultou em um valor muito bom para o _R2 Score_, de aproximadamente 0,81. O MSE também melhorou se comparado ao modelo puramente linear."
      ],
      "metadata": {
        "id": "YMGMinvBBEqq"
      }
    }
  ]
}