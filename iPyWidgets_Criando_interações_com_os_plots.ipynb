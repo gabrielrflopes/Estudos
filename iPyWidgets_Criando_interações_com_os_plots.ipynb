{
  "nbformat": 4,
  "nbformat_minor": 0,
  "metadata": {
    "colab": {
      "provenance": [],
      "authorship_tag": "ABX9TyPX3mQqhvfZMli3O185aoRL",
      "include_colab_link": true
    },
    "kernelspec": {
      "name": "python3",
      "display_name": "Python 3"
    },
    "language_info": {
      "name": "python"
    },
    "widgets": {
      "application/vnd.jupyter.widget-state+json": {
        "3a0157bb51b44a15bea9daee08d12e02": {
          "model_module": "@jupyter-widgets/controls",
          "model_name": "VBoxModel",
          "model_module_version": "1.5.0",
          "state": {
            "_dom_classes": [
              "widget-interact"
            ],
            "_model_module": "@jupyter-widgets/controls",
            "_model_module_version": "1.5.0",
            "_model_name": "VBoxModel",
            "_view_count": null,
            "_view_module": "@jupyter-widgets/controls",
            "_view_module_version": "1.5.0",
            "_view_name": "VBoxView",
            "box_style": "",
            "children": [
              "IPY_MODEL_9d9aab48497b4907ad3be8866df62756",
              "IPY_MODEL_f6abc241a04b475aba63ba701a149f3e"
            ],
            "layout": "IPY_MODEL_bae872d4d665423a856602bd38d42b21"
          }
        },
        "9d9aab48497b4907ad3be8866df62756": {
          "model_module": "@jupyter-widgets/controls",
          "model_name": "FloatSliderModel",
          "model_module_version": "1.5.0",
          "state": {
            "_dom_classes": [],
            "_model_module": "@jupyter-widgets/controls",
            "_model_module_version": "1.5.0",
            "_model_name": "FloatSliderModel",
            "_view_count": null,
            "_view_module": "@jupyter-widgets/controls",
            "_view_module_version": "1.5.0",
            "_view_name": "FloatSliderView",
            "continuous_update": true,
            "description": "b",
            "description_tooltip": null,
            "disabled": false,
            "layout": "IPY_MODEL_fcd1537eb667421fbcc05f562d13dd73",
            "max": 5,
            "min": 0,
            "orientation": "horizontal",
            "readout": true,
            "readout_format": ".2f",
            "step": 0.5,
            "style": "IPY_MODEL_ce5ed0967c7043299bd79e753cbb355e",
            "value": 0
          }
        },
        "f6abc241a04b475aba63ba701a149f3e": {
          "model_module": "@jupyter-widgets/output",
          "model_name": "OutputModel",
          "model_module_version": "1.0.0",
          "state": {
            "_dom_classes": [],
            "_model_module": "@jupyter-widgets/output",
            "_model_module_version": "1.0.0",
            "_model_name": "OutputModel",
            "_view_count": null,
            "_view_module": "@jupyter-widgets/output",
            "_view_module_version": "1.0.0",
            "_view_name": "OutputView",
            "layout": "IPY_MODEL_a4a57f82e59a4b729d51077799de2c67",
            "msg_id": "",
            "outputs": [
              {
                "output_type": "display_data",
                "data": {
                  "text/plain": "<Figure size 432x288 with 1 Axes>",
                  "image/png": "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\n"
                },
                "metadata": {
                  "needs_background": "light"
                }
              }
            ]
          }
        },
        "bae872d4d665423a856602bd38d42b21": {
          "model_module": "@jupyter-widgets/base",
          "model_name": "LayoutModel",
          "model_module_version": "1.2.0",
          "state": {
            "_model_module": "@jupyter-widgets/base",
            "_model_module_version": "1.2.0",
            "_model_name": "LayoutModel",
            "_view_count": null,
            "_view_module": "@jupyter-widgets/base",
            "_view_module_version": "1.2.0",
            "_view_name": "LayoutView",
            "align_content": null,
            "align_items": null,
            "align_self": null,
            "border": null,
            "bottom": null,
            "display": null,
            "flex": null,
            "flex_flow": null,
            "grid_area": null,
            "grid_auto_columns": null,
            "grid_auto_flow": null,
            "grid_auto_rows": null,
            "grid_column": null,
            "grid_gap": null,
            "grid_row": null,
            "grid_template_areas": null,
            "grid_template_columns": null,
            "grid_template_rows": null,
            "height": null,
            "justify_content": null,
            "justify_items": null,
            "left": null,
            "margin": null,
            "max_height": null,
            "max_width": null,
            "min_height": null,
            "min_width": null,
            "object_fit": null,
            "object_position": null,
            "order": null,
            "overflow": null,
            "overflow_x": null,
            "overflow_y": null,
            "padding": null,
            "right": null,
            "top": null,
            "visibility": null,
            "width": null
          }
        },
        "fcd1537eb667421fbcc05f562d13dd73": {
          "model_module": "@jupyter-widgets/base",
          "model_name": "LayoutModel",
          "model_module_version": "1.2.0",
          "state": {
            "_model_module": "@jupyter-widgets/base",
            "_model_module_version": "1.2.0",
            "_model_name": "LayoutModel",
            "_view_count": null,
            "_view_module": "@jupyter-widgets/base",
            "_view_module_version": "1.2.0",
            "_view_name": "LayoutView",
            "align_content": null,
            "align_items": null,
            "align_self": null,
            "border": null,
            "bottom": null,
            "display": null,
            "flex": null,
            "flex_flow": null,
            "grid_area": null,
            "grid_auto_columns": null,
            "grid_auto_flow": null,
            "grid_auto_rows": null,
            "grid_column": null,
            "grid_gap": null,
            "grid_row": null,
            "grid_template_areas": null,
            "grid_template_columns": null,
            "grid_template_rows": null,
            "height": null,
            "justify_content": null,
            "justify_items": null,
            "left": null,
            "margin": null,
            "max_height": null,
            "max_width": null,
            "min_height": null,
            "min_width": null,
            "object_fit": null,
            "object_position": null,
            "order": null,
            "overflow": null,
            "overflow_x": null,
            "overflow_y": null,
            "padding": null,
            "right": null,
            "top": null,
            "visibility": null,
            "width": null
          }
        },
        "ce5ed0967c7043299bd79e753cbb355e": {
          "model_module": "@jupyter-widgets/controls",
          "model_name": "SliderStyleModel",
          "model_module_version": "1.5.0",
          "state": {
            "_model_module": "@jupyter-widgets/controls",
            "_model_module_version": "1.5.0",
            "_model_name": "SliderStyleModel",
            "_view_count": null,
            "_view_module": "@jupyter-widgets/base",
            "_view_module_version": "1.2.0",
            "_view_name": "StyleView",
            "description_width": "",
            "handle_color": null
          }
        },
        "a4a57f82e59a4b729d51077799de2c67": {
          "model_module": "@jupyter-widgets/base",
          "model_name": "LayoutModel",
          "model_module_version": "1.2.0",
          "state": {
            "_model_module": "@jupyter-widgets/base",
            "_model_module_version": "1.2.0",
            "_model_name": "LayoutModel",
            "_view_count": null,
            "_view_module": "@jupyter-widgets/base",
            "_view_module_version": "1.2.0",
            "_view_name": "LayoutView",
            "align_content": null,
            "align_items": null,
            "align_self": null,
            "border": null,
            "bottom": null,
            "display": null,
            "flex": null,
            "flex_flow": null,
            "grid_area": null,
            "grid_auto_columns": null,
            "grid_auto_flow": null,
            "grid_auto_rows": null,
            "grid_column": null,
            "grid_gap": null,
            "grid_row": null,
            "grid_template_areas": null,
            "grid_template_columns": null,
            "grid_template_rows": null,
            "height": null,
            "justify_content": null,
            "justify_items": null,
            "left": null,
            "margin": null,
            "max_height": null,
            "max_width": null,
            "min_height": null,
            "min_width": null,
            "object_fit": null,
            "object_position": null,
            "order": null,
            "overflow": null,
            "overflow_x": null,
            "overflow_y": null,
            "padding": null,
            "right": null,
            "top": null,
            "visibility": null,
            "width": null
          }
        },
        "75ce8ebde72e4832a15fee9a4554ffa2": {
          "model_module": "@jupyter-widgets/controls",
          "model_name": "VBoxModel",
          "model_module_version": "1.5.0",
          "state": {
            "_dom_classes": [
              "widget-interact"
            ],
            "_model_module": "@jupyter-widgets/controls",
            "_model_module_version": "1.5.0",
            "_model_name": "VBoxModel",
            "_view_count": null,
            "_view_module": "@jupyter-widgets/controls",
            "_view_module_version": "1.5.0",
            "_view_name": "VBoxView",
            "box_style": "",
            "children": [
              "IPY_MODEL_38218deebc3a45a8829274cacb3d8b00",
              "IPY_MODEL_9a95c053f1474c36a7331c66bfccfe46",
              "IPY_MODEL_7b9393c8af4c4751be408ddfa1a679b3"
            ],
            "layout": "IPY_MODEL_0030e3de05aa408290822ddda782fc6a"
          }
        },
        "38218deebc3a45a8829274cacb3d8b00": {
          "model_module": "@jupyter-widgets/controls",
          "model_name": "DropdownModel",
          "model_module_version": "1.5.0",
          "state": {
            "_dom_classes": [],
            "_model_module": "@jupyter-widgets/controls",
            "_model_module_version": "1.5.0",
            "_model_name": "DropdownModel",
            "_options_labels": [
              "100",
              "200",
              "500",
              "1000"
            ],
            "_view_count": null,
            "_view_module": "@jupyter-widgets/controls",
            "_view_module_version": "1.5.0",
            "_view_name": "DropdownView",
            "description": "samples",
            "description_tooltip": null,
            "disabled": false,
            "index": 1,
            "layout": "IPY_MODEL_2255f5904e8f4fa0b3f17bf36a1c096e",
            "style": "IPY_MODEL_1051dc6929f3457490790bd71b381214"
          }
        },
        "9a95c053f1474c36a7331c66bfccfe46": {
          "model_module": "@jupyter-widgets/controls",
          "model_name": "FloatSliderModel",
          "model_module_version": "1.5.0",
          "state": {
            "_dom_classes": [],
            "_model_module": "@jupyter-widgets/controls",
            "_model_module_version": "1.5.0",
            "_model_name": "FloatSliderModel",
            "_view_count": null,
            "_view_module": "@jupyter-widgets/controls",
            "_view_module_version": "1.5.0",
            "_view_name": "FloatSliderView",
            "continuous_update": true,
            "description": "noise",
            "description_tooltip": null,
            "disabled": false,
            "layout": "IPY_MODEL_99de1405be4a440abd8be9ef6d54a1bd",
            "max": 2,
            "min": 0,
            "orientation": "horizontal",
            "readout": true,
            "readout_format": ".2f",
            "step": 0.025,
            "style": "IPY_MODEL_652336e131a048e5a9bc64ec473e694a",
            "value": 0
          }
        },
        "7b9393c8af4c4751be408ddfa1a679b3": {
          "model_module": "@jupyter-widgets/output",
          "model_name": "OutputModel",
          "model_module_version": "1.0.0",
          "state": {
            "_dom_classes": [],
            "_model_module": "@jupyter-widgets/output",
            "_model_module_version": "1.0.0",
            "_model_name": "OutputModel",
            "_view_count": null,
            "_view_module": "@jupyter-widgets/output",
            "_view_module_version": "1.0.0",
            "_view_name": "OutputView",
            "layout": "IPY_MODEL_28d21cb997434562bce908ee49f4eba2",
            "msg_id": "",
            "outputs": [
              {
                "output_type": "display_data",
                "data": {
                  "text/plain": "<Figure size 432x288 with 1 Axes>",
                  "image/png": "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\n"
                },
                "metadata": {
                  "needs_background": "light"
                }
              }
            ]
          }
        },
        "0030e3de05aa408290822ddda782fc6a": {
          "model_module": "@jupyter-widgets/base",
          "model_name": "LayoutModel",
          "model_module_version": "1.2.0",
          "state": {
            "_model_module": "@jupyter-widgets/base",
            "_model_module_version": "1.2.0",
            "_model_name": "LayoutModel",
            "_view_count": null,
            "_view_module": "@jupyter-widgets/base",
            "_view_module_version": "1.2.0",
            "_view_name": "LayoutView",
            "align_content": null,
            "align_items": null,
            "align_self": null,
            "border": null,
            "bottom": null,
            "display": null,
            "flex": null,
            "flex_flow": null,
            "grid_area": null,
            "grid_auto_columns": null,
            "grid_auto_flow": null,
            "grid_auto_rows": null,
            "grid_column": null,
            "grid_gap": null,
            "grid_row": null,
            "grid_template_areas": null,
            "grid_template_columns": null,
            "grid_template_rows": null,
            "height": null,
            "justify_content": null,
            "justify_items": null,
            "left": null,
            "margin": null,
            "max_height": null,
            "max_width": null,
            "min_height": null,
            "min_width": null,
            "object_fit": null,
            "object_position": null,
            "order": null,
            "overflow": null,
            "overflow_x": null,
            "overflow_y": null,
            "padding": null,
            "right": null,
            "top": null,
            "visibility": null,
            "width": null
          }
        },
        "2255f5904e8f4fa0b3f17bf36a1c096e": {
          "model_module": "@jupyter-widgets/base",
          "model_name": "LayoutModel",
          "model_module_version": "1.2.0",
          "state": {
            "_model_module": "@jupyter-widgets/base",
            "_model_module_version": "1.2.0",
            "_model_name": "LayoutModel",
            "_view_count": null,
            "_view_module": "@jupyter-widgets/base",
            "_view_module_version": "1.2.0",
            "_view_name": "LayoutView",
            "align_content": null,
            "align_items": null,
            "align_self": null,
            "border": null,
            "bottom": null,
            "display": null,
            "flex": null,
            "flex_flow": null,
            "grid_area": null,
            "grid_auto_columns": null,
            "grid_auto_flow": null,
            "grid_auto_rows": null,
            "grid_column": null,
            "grid_gap": null,
            "grid_row": null,
            "grid_template_areas": null,
            "grid_template_columns": null,
            "grid_template_rows": null,
            "height": null,
            "justify_content": null,
            "justify_items": null,
            "left": null,
            "margin": null,
            "max_height": null,
            "max_width": null,
            "min_height": null,
            "min_width": null,
            "object_fit": null,
            "object_position": null,
            "order": null,
            "overflow": null,
            "overflow_x": null,
            "overflow_y": null,
            "padding": null,
            "right": null,
            "top": null,
            "visibility": null,
            "width": null
          }
        },
        "1051dc6929f3457490790bd71b381214": {
          "model_module": "@jupyter-widgets/controls",
          "model_name": "DescriptionStyleModel",
          "model_module_version": "1.5.0",
          "state": {
            "_model_module": "@jupyter-widgets/controls",
            "_model_module_version": "1.5.0",
            "_model_name": "DescriptionStyleModel",
            "_view_count": null,
            "_view_module": "@jupyter-widgets/base",
            "_view_module_version": "1.2.0",
            "_view_name": "StyleView",
            "description_width": ""
          }
        },
        "99de1405be4a440abd8be9ef6d54a1bd": {
          "model_module": "@jupyter-widgets/base",
          "model_name": "LayoutModel",
          "model_module_version": "1.2.0",
          "state": {
            "_model_module": "@jupyter-widgets/base",
            "_model_module_version": "1.2.0",
            "_model_name": "LayoutModel",
            "_view_count": null,
            "_view_module": "@jupyter-widgets/base",
            "_view_module_version": "1.2.0",
            "_view_name": "LayoutView",
            "align_content": null,
            "align_items": null,
            "align_self": null,
            "border": null,
            "bottom": null,
            "display": null,
            "flex": null,
            "flex_flow": null,
            "grid_area": null,
            "grid_auto_columns": null,
            "grid_auto_flow": null,
            "grid_auto_rows": null,
            "grid_column": null,
            "grid_gap": null,
            "grid_row": null,
            "grid_template_areas": null,
            "grid_template_columns": null,
            "grid_template_rows": null,
            "height": null,
            "justify_content": null,
            "justify_items": null,
            "left": null,
            "margin": null,
            "max_height": null,
            "max_width": null,
            "min_height": null,
            "min_width": null,
            "object_fit": null,
            "object_position": null,
            "order": null,
            "overflow": null,
            "overflow_x": null,
            "overflow_y": null,
            "padding": null,
            "right": null,
            "top": null,
            "visibility": null,
            "width": null
          }
        },
        "652336e131a048e5a9bc64ec473e694a": {
          "model_module": "@jupyter-widgets/controls",
          "model_name": "SliderStyleModel",
          "model_module_version": "1.5.0",
          "state": {
            "_model_module": "@jupyter-widgets/controls",
            "_model_module_version": "1.5.0",
            "_model_name": "SliderStyleModel",
            "_view_count": null,
            "_view_module": "@jupyter-widgets/base",
            "_view_module_version": "1.2.0",
            "_view_name": "StyleView",
            "description_width": "",
            "handle_color": null
          }
        },
        "28d21cb997434562bce908ee49f4eba2": {
          "model_module": "@jupyter-widgets/base",
          "model_name": "LayoutModel",
          "model_module_version": "1.2.0",
          "state": {
            "_model_module": "@jupyter-widgets/base",
            "_model_module_version": "1.2.0",
            "_model_name": "LayoutModel",
            "_view_count": null,
            "_view_module": "@jupyter-widgets/base",
            "_view_module_version": "1.2.0",
            "_view_name": "LayoutView",
            "align_content": null,
            "align_items": null,
            "align_self": null,
            "border": null,
            "bottom": null,
            "display": null,
            "flex": null,
            "flex_flow": null,
            "grid_area": null,
            "grid_auto_columns": null,
            "grid_auto_flow": null,
            "grid_auto_rows": null,
            "grid_column": null,
            "grid_gap": null,
            "grid_row": null,
            "grid_template_areas": null,
            "grid_template_columns": null,
            "grid_template_rows": null,
            "height": null,
            "justify_content": null,
            "justify_items": null,
            "left": null,
            "margin": null,
            "max_height": null,
            "max_width": null,
            "min_height": null,
            "min_width": null,
            "object_fit": null,
            "object_position": null,
            "order": null,
            "overflow": null,
            "overflow_x": null,
            "overflow_y": null,
            "padding": null,
            "right": null,
            "top": null,
            "visibility": null,
            "width": null
          }
        },
        "1150ee5a2d2143c5a931817c2b7793f2": {
          "model_module": "@jupyter-widgets/controls",
          "model_name": "VBoxModel",
          "model_module_version": "1.5.0",
          "state": {
            "_dom_classes": [
              "widget-interact"
            ],
            "_model_module": "@jupyter-widgets/controls",
            "_model_module_version": "1.5.0",
            "_model_name": "VBoxModel",
            "_view_count": null,
            "_view_module": "@jupyter-widgets/controls",
            "_view_module_version": "1.5.0",
            "_view_name": "VBoxView",
            "box_style": "",
            "children": [
              "IPY_MODEL_f17bc07bdd4644b9aa10e22d9a973229",
              "IPY_MODEL_f4b5fac3a2b74b4591aeecf6fe2d6d53",
              "IPY_MODEL_b048ae7039ee45b5b840f398e08ec859",
              "IPY_MODEL_94f50945b2324ab0b57b19466a9d0ef3",
              "IPY_MODEL_0ce55dc94621406faa21e4418ad34c55",
              "IPY_MODEL_496d2eed47f945ad97f01ed65e2ad916",
              "IPY_MODEL_24e955d9571746c2b46358ea7e5c8e99"
            ],
            "layout": "IPY_MODEL_ab1fe9185e764321996ff80a0e39786b"
          }
        },
        "f17bc07bdd4644b9aa10e22d9a973229": {
          "model_module": "@jupyter-widgets/controls",
          "model_name": "IntSliderModel",
          "model_module_version": "1.5.0",
          "state": {
            "_dom_classes": [],
            "_model_module": "@jupyter-widgets/controls",
            "_model_module_version": "1.5.0",
            "_model_name": "IntSliderModel",
            "_view_count": null,
            "_view_module": "@jupyter-widgets/controls",
            "_view_module_version": "1.5.0",
            "_view_name": "IntSliderView",
            "continuous_update": true,
            "description": "start",
            "description_tooltip": null,
            "disabled": false,
            "layout": "IPY_MODEL_ff4c841b59e041bba519035b88938015",
            "max": 10,
            "min": 0,
            "orientation": "horizontal",
            "readout": true,
            "readout_format": "d",
            "step": 1,
            "style": "IPY_MODEL_36a6652eb5b240fa8086d34740cdc3da",
            "value": 0
          }
        },
        "f4b5fac3a2b74b4591aeecf6fe2d6d53": {
          "model_module": "@jupyter-widgets/controls",
          "model_name": "IntSliderModel",
          "model_module_version": "1.5.0",
          "state": {
            "_dom_classes": [],
            "_model_module": "@jupyter-widgets/controls",
            "_model_module_version": "1.5.0",
            "_model_name": "IntSliderModel",
            "_view_count": null,
            "_view_module": "@jupyter-widgets/controls",
            "_view_module_version": "1.5.0",
            "_view_name": "IntSliderView",
            "continuous_update": true,
            "description": "end",
            "description_tooltip": null,
            "disabled": false,
            "layout": "IPY_MODEL_2977aee396954fffb299e49aba4a3874",
            "max": 50,
            "min": 20,
            "orientation": "horizontal",
            "readout": true,
            "readout_format": "d",
            "step": 1,
            "style": "IPY_MODEL_b1430dc89643497185b0be6409f2da14",
            "value": 25
          }
        },
        "b048ae7039ee45b5b840f398e08ec859": {
          "model_module": "@jupyter-widgets/controls",
          "model_name": "FloatSliderModel",
          "model_module_version": "1.5.0",
          "state": {
            "_dom_classes": [],
            "_model_module": "@jupyter-widgets/controls",
            "_model_module_version": "1.5.0",
            "_model_name": "FloatSliderModel",
            "_view_count": null,
            "_view_module": "@jupyter-widgets/controls",
            "_view_module_version": "1.5.0",
            "_view_name": "FloatSliderView",
            "continuous_update": true,
            "description": "A",
            "description_tooltip": null,
            "disabled": false,
            "layout": "IPY_MODEL_8b69a4db41f748b89d9b359c7344cb7d",
            "max": 5,
            "min": 0,
            "orientation": "horizontal",
            "readout": true,
            "readout_format": ".2f",
            "step": 0.1,
            "style": "IPY_MODEL_430d4e6900044334acc7c7762d9fd5ef",
            "value": 1.3
          }
        },
        "94f50945b2324ab0b57b19466a9d0ef3": {
          "model_module": "@jupyter-widgets/controls",
          "model_name": "FloatSliderModel",
          "model_module_version": "1.5.0",
          "state": {
            "_dom_classes": [],
            "_model_module": "@jupyter-widgets/controls",
            "_model_module_version": "1.5.0",
            "_model_name": "FloatSliderModel",
            "_view_count": null,
            "_view_module": "@jupyter-widgets/controls",
            "_view_module_version": "1.5.0",
            "_view_name": "FloatSliderView",
            "continuous_update": true,
            "description": "phi",
            "description_tooltip": null,
            "disabled": false,
            "layout": "IPY_MODEL_93ec5ad100cb4b8790773f60dbeb16e7",
            "max": 6.28,
            "min": 0,
            "orientation": "horizontal",
            "readout": true,
            "readout_format": ".2f",
            "step": 0.05,
            "style": "IPY_MODEL_ccfc4c20eccf47d78dcf993920f13988",
            "value": 3.65
          }
        },
        "0ce55dc94621406faa21e4418ad34c55": {
          "model_module": "@jupyter-widgets/controls",
          "model_name": "CheckboxModel",
          "model_module_version": "1.5.0",
          "state": {
            "_dom_classes": [],
            "_model_module": "@jupyter-widgets/controls",
            "_model_module_version": "1.5.0",
            "_model_name": "CheckboxModel",
            "_view_count": null,
            "_view_module": "@jupyter-widgets/controls",
            "_view_module_version": "1.5.0",
            "_view_name": "CheckboxView",
            "description": "grid",
            "description_tooltip": null,
            "disabled": false,
            "indent": true,
            "layout": "IPY_MODEL_d7bfcf2c787b4e2886366d0e69781009",
            "style": "IPY_MODEL_61438ca3ef854284ae2ac831340fd03c",
            "value": false
          }
        },
        "496d2eed47f945ad97f01ed65e2ad916": {
          "model_module": "@jupyter-widgets/controls",
          "model_name": "CheckboxModel",
          "model_module_version": "1.5.0",
          "state": {
            "_dom_classes": [],
            "_model_module": "@jupyter-widgets/controls",
            "_model_module_version": "1.5.0",
            "_model_name": "CheckboxModel",
            "_view_count": null,
            "_view_module": "@jupyter-widgets/controls",
            "_view_module_version": "1.5.0",
            "_view_name": "CheckboxView",
            "description": "plot_cos",
            "description_tooltip": null,
            "disabled": false,
            "indent": true,
            "layout": "IPY_MODEL_76ced925d38446e89609af832cda07eb",
            "style": "IPY_MODEL_a59987396c254ea98f7127bd0fa58a08",
            "value": true
          }
        },
        "24e955d9571746c2b46358ea7e5c8e99": {
          "model_module": "@jupyter-widgets/output",
          "model_name": "OutputModel",
          "model_module_version": "1.0.0",
          "state": {
            "_dom_classes": [],
            "_model_module": "@jupyter-widgets/output",
            "_model_module_version": "1.0.0",
            "_model_name": "OutputModel",
            "_view_count": null,
            "_view_module": "@jupyter-widgets/output",
            "_view_module_version": "1.0.0",
            "_view_name": "OutputView",
            "layout": "IPY_MODEL_051e6a9b862845e39662304b15ed05a4",
            "msg_id": "",
            "outputs": [
              {
                "output_type": "display_data",
                "data": {
                  "text/plain": "<Figure size 432x288 with 1 Axes>",
                  "image/png": "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\n"
                },
                "metadata": {
                  "needs_background": "light"
                }
              }
            ]
          }
        },
        "ab1fe9185e764321996ff80a0e39786b": {
          "model_module": "@jupyter-widgets/base",
          "model_name": "LayoutModel",
          "model_module_version": "1.2.0",
          "state": {
            "_model_module": "@jupyter-widgets/base",
            "_model_module_version": "1.2.0",
            "_model_name": "LayoutModel",
            "_view_count": null,
            "_view_module": "@jupyter-widgets/base",
            "_view_module_version": "1.2.0",
            "_view_name": "LayoutView",
            "align_content": null,
            "align_items": null,
            "align_self": null,
            "border": null,
            "bottom": null,
            "display": null,
            "flex": null,
            "flex_flow": null,
            "grid_area": null,
            "grid_auto_columns": null,
            "grid_auto_flow": null,
            "grid_auto_rows": null,
            "grid_column": null,
            "grid_gap": null,
            "grid_row": null,
            "grid_template_areas": null,
            "grid_template_columns": null,
            "grid_template_rows": null,
            "height": null,
            "justify_content": null,
            "justify_items": null,
            "left": null,
            "margin": null,
            "max_height": null,
            "max_width": null,
            "min_height": null,
            "min_width": null,
            "object_fit": null,
            "object_position": null,
            "order": null,
            "overflow": null,
            "overflow_x": null,
            "overflow_y": null,
            "padding": null,
            "right": null,
            "top": null,
            "visibility": null,
            "width": null
          }
        },
        "ff4c841b59e041bba519035b88938015": {
          "model_module": "@jupyter-widgets/base",
          "model_name": "LayoutModel",
          "model_module_version": "1.2.0",
          "state": {
            "_model_module": "@jupyter-widgets/base",
            "_model_module_version": "1.2.0",
            "_model_name": "LayoutModel",
            "_view_count": null,
            "_view_module": "@jupyter-widgets/base",
            "_view_module_version": "1.2.0",
            "_view_name": "LayoutView",
            "align_content": null,
            "align_items": null,
            "align_self": null,
            "border": null,
            "bottom": null,
            "display": null,
            "flex": null,
            "flex_flow": null,
            "grid_area": null,
            "grid_auto_columns": null,
            "grid_auto_flow": null,
            "grid_auto_rows": null,
            "grid_column": null,
            "grid_gap": null,
            "grid_row": null,
            "grid_template_areas": null,
            "grid_template_columns": null,
            "grid_template_rows": null,
            "height": null,
            "justify_content": null,
            "justify_items": null,
            "left": null,
            "margin": null,
            "max_height": null,
            "max_width": null,
            "min_height": null,
            "min_width": null,
            "object_fit": null,
            "object_position": null,
            "order": null,
            "overflow": null,
            "overflow_x": null,
            "overflow_y": null,
            "padding": null,
            "right": null,
            "top": null,
            "visibility": null,
            "width": null
          }
        },
        "36a6652eb5b240fa8086d34740cdc3da": {
          "model_module": "@jupyter-widgets/controls",
          "model_name": "SliderStyleModel",
          "model_module_version": "1.5.0",
          "state": {
            "_model_module": "@jupyter-widgets/controls",
            "_model_module_version": "1.5.0",
            "_model_name": "SliderStyleModel",
            "_view_count": null,
            "_view_module": "@jupyter-widgets/base",
            "_view_module_version": "1.2.0",
            "_view_name": "StyleView",
            "description_width": "",
            "handle_color": null
          }
        },
        "2977aee396954fffb299e49aba4a3874": {
          "model_module": "@jupyter-widgets/base",
          "model_name": "LayoutModel",
          "model_module_version": "1.2.0",
          "state": {
            "_model_module": "@jupyter-widgets/base",
            "_model_module_version": "1.2.0",
            "_model_name": "LayoutModel",
            "_view_count": null,
            "_view_module": "@jupyter-widgets/base",
            "_view_module_version": "1.2.0",
            "_view_name": "LayoutView",
            "align_content": null,
            "align_items": null,
            "align_self": null,
            "border": null,
            "bottom": null,
            "display": null,
            "flex": null,
            "flex_flow": null,
            "grid_area": null,
            "grid_auto_columns": null,
            "grid_auto_flow": null,
            "grid_auto_rows": null,
            "grid_column": null,
            "grid_gap": null,
            "grid_row": null,
            "grid_template_areas": null,
            "grid_template_columns": null,
            "grid_template_rows": null,
            "height": null,
            "justify_content": null,
            "justify_items": null,
            "left": null,
            "margin": null,
            "max_height": null,
            "max_width": null,
            "min_height": null,
            "min_width": null,
            "object_fit": null,
            "object_position": null,
            "order": null,
            "overflow": null,
            "overflow_x": null,
            "overflow_y": null,
            "padding": null,
            "right": null,
            "top": null,
            "visibility": null,
            "width": null
          }
        },
        "b1430dc89643497185b0be6409f2da14": {
          "model_module": "@jupyter-widgets/controls",
          "model_name": "SliderStyleModel",
          "model_module_version": "1.5.0",
          "state": {
            "_model_module": "@jupyter-widgets/controls",
            "_model_module_version": "1.5.0",
            "_model_name": "SliderStyleModel",
            "_view_count": null,
            "_view_module": "@jupyter-widgets/base",
            "_view_module_version": "1.2.0",
            "_view_name": "StyleView",
            "description_width": "",
            "handle_color": null
          }
        },
        "8b69a4db41f748b89d9b359c7344cb7d": {
          "model_module": "@jupyter-widgets/base",
          "model_name": "LayoutModel",
          "model_module_version": "1.2.0",
          "state": {
            "_model_module": "@jupyter-widgets/base",
            "_model_module_version": "1.2.0",
            "_model_name": "LayoutModel",
            "_view_count": null,
            "_view_module": "@jupyter-widgets/base",
            "_view_module_version": "1.2.0",
            "_view_name": "LayoutView",
            "align_content": null,
            "align_items": null,
            "align_self": null,
            "border": null,
            "bottom": null,
            "display": null,
            "flex": null,
            "flex_flow": null,
            "grid_area": null,
            "grid_auto_columns": null,
            "grid_auto_flow": null,
            "grid_auto_rows": null,
            "grid_column": null,
            "grid_gap": null,
            "grid_row": null,
            "grid_template_areas": null,
            "grid_template_columns": null,
            "grid_template_rows": null,
            "height": null,
            "justify_content": null,
            "justify_items": null,
            "left": null,
            "margin": null,
            "max_height": null,
            "max_width": null,
            "min_height": null,
            "min_width": null,
            "object_fit": null,
            "object_position": null,
            "order": null,
            "overflow": null,
            "overflow_x": null,
            "overflow_y": null,
            "padding": null,
            "right": null,
            "top": null,
            "visibility": null,
            "width": null
          }
        },
        "430d4e6900044334acc7c7762d9fd5ef": {
          "model_module": "@jupyter-widgets/controls",
          "model_name": "SliderStyleModel",
          "model_module_version": "1.5.0",
          "state": {
            "_model_module": "@jupyter-widgets/controls",
            "_model_module_version": "1.5.0",
            "_model_name": "SliderStyleModel",
            "_view_count": null,
            "_view_module": "@jupyter-widgets/base",
            "_view_module_version": "1.2.0",
            "_view_name": "StyleView",
            "description_width": "",
            "handle_color": null
          }
        },
        "93ec5ad100cb4b8790773f60dbeb16e7": {
          "model_module": "@jupyter-widgets/base",
          "model_name": "LayoutModel",
          "model_module_version": "1.2.0",
          "state": {
            "_model_module": "@jupyter-widgets/base",
            "_model_module_version": "1.2.0",
            "_model_name": "LayoutModel",
            "_view_count": null,
            "_view_module": "@jupyter-widgets/base",
            "_view_module_version": "1.2.0",
            "_view_name": "LayoutView",
            "align_content": null,
            "align_items": null,
            "align_self": null,
            "border": null,
            "bottom": null,
            "display": null,
            "flex": null,
            "flex_flow": null,
            "grid_area": null,
            "grid_auto_columns": null,
            "grid_auto_flow": null,
            "grid_auto_rows": null,
            "grid_column": null,
            "grid_gap": null,
            "grid_row": null,
            "grid_template_areas": null,
            "grid_template_columns": null,
            "grid_template_rows": null,
            "height": null,
            "justify_content": null,
            "justify_items": null,
            "left": null,
            "margin": null,
            "max_height": null,
            "max_width": null,
            "min_height": null,
            "min_width": null,
            "object_fit": null,
            "object_position": null,
            "order": null,
            "overflow": null,
            "overflow_x": null,
            "overflow_y": null,
            "padding": null,
            "right": null,
            "top": null,
            "visibility": null,
            "width": null
          }
        },
        "ccfc4c20eccf47d78dcf993920f13988": {
          "model_module": "@jupyter-widgets/controls",
          "model_name": "SliderStyleModel",
          "model_module_version": "1.5.0",
          "state": {
            "_model_module": "@jupyter-widgets/controls",
            "_model_module_version": "1.5.0",
            "_model_name": "SliderStyleModel",
            "_view_count": null,
            "_view_module": "@jupyter-widgets/base",
            "_view_module_version": "1.2.0",
            "_view_name": "StyleView",
            "description_width": "",
            "handle_color": null
          }
        },
        "d7bfcf2c787b4e2886366d0e69781009": {
          "model_module": "@jupyter-widgets/base",
          "model_name": "LayoutModel",
          "model_module_version": "1.2.0",
          "state": {
            "_model_module": "@jupyter-widgets/base",
            "_model_module_version": "1.2.0",
            "_model_name": "LayoutModel",
            "_view_count": null,
            "_view_module": "@jupyter-widgets/base",
            "_view_module_version": "1.2.0",
            "_view_name": "LayoutView",
            "align_content": null,
            "align_items": null,
            "align_self": null,
            "border": null,
            "bottom": null,
            "display": null,
            "flex": null,
            "flex_flow": null,
            "grid_area": null,
            "grid_auto_columns": null,
            "grid_auto_flow": null,
            "grid_auto_rows": null,
            "grid_column": null,
            "grid_gap": null,
            "grid_row": null,
            "grid_template_areas": null,
            "grid_template_columns": null,
            "grid_template_rows": null,
            "height": null,
            "justify_content": null,
            "justify_items": null,
            "left": null,
            "margin": null,
            "max_height": null,
            "max_width": null,
            "min_height": null,
            "min_width": null,
            "object_fit": null,
            "object_position": null,
            "order": null,
            "overflow": null,
            "overflow_x": null,
            "overflow_y": null,
            "padding": null,
            "right": null,
            "top": null,
            "visibility": null,
            "width": null
          }
        },
        "61438ca3ef854284ae2ac831340fd03c": {
          "model_module": "@jupyter-widgets/controls",
          "model_name": "DescriptionStyleModel",
          "model_module_version": "1.5.0",
          "state": {
            "_model_module": "@jupyter-widgets/controls",
            "_model_module_version": "1.5.0",
            "_model_name": "DescriptionStyleModel",
            "_view_count": null,
            "_view_module": "@jupyter-widgets/base",
            "_view_module_version": "1.2.0",
            "_view_name": "StyleView",
            "description_width": ""
          }
        },
        "76ced925d38446e89609af832cda07eb": {
          "model_module": "@jupyter-widgets/base",
          "model_name": "LayoutModel",
          "model_module_version": "1.2.0",
          "state": {
            "_model_module": "@jupyter-widgets/base",
            "_model_module_version": "1.2.0",
            "_model_name": "LayoutModel",
            "_view_count": null,
            "_view_module": "@jupyter-widgets/base",
            "_view_module_version": "1.2.0",
            "_view_name": "LayoutView",
            "align_content": null,
            "align_items": null,
            "align_self": null,
            "border": null,
            "bottom": null,
            "display": null,
            "flex": null,
            "flex_flow": null,
            "grid_area": null,
            "grid_auto_columns": null,
            "grid_auto_flow": null,
            "grid_auto_rows": null,
            "grid_column": null,
            "grid_gap": null,
            "grid_row": null,
            "grid_template_areas": null,
            "grid_template_columns": null,
            "grid_template_rows": null,
            "height": null,
            "justify_content": null,
            "justify_items": null,
            "left": null,
            "margin": null,
            "max_height": null,
            "max_width": null,
            "min_height": null,
            "min_width": null,
            "object_fit": null,
            "object_position": null,
            "order": null,
            "overflow": null,
            "overflow_x": null,
            "overflow_y": null,
            "padding": null,
            "right": null,
            "top": null,
            "visibility": null,
            "width": null
          }
        },
        "a59987396c254ea98f7127bd0fa58a08": {
          "model_module": "@jupyter-widgets/controls",
          "model_name": "DescriptionStyleModel",
          "model_module_version": "1.5.0",
          "state": {
            "_model_module": "@jupyter-widgets/controls",
            "_model_module_version": "1.5.0",
            "_model_name": "DescriptionStyleModel",
            "_view_count": null,
            "_view_module": "@jupyter-widgets/base",
            "_view_module_version": "1.2.0",
            "_view_name": "StyleView",
            "description_width": ""
          }
        },
        "051e6a9b862845e39662304b15ed05a4": {
          "model_module": "@jupyter-widgets/base",
          "model_name": "LayoutModel",
          "model_module_version": "1.2.0",
          "state": {
            "_model_module": "@jupyter-widgets/base",
            "_model_module_version": "1.2.0",
            "_model_name": "LayoutModel",
            "_view_count": null,
            "_view_module": "@jupyter-widgets/base",
            "_view_module_version": "1.2.0",
            "_view_name": "LayoutView",
            "align_content": null,
            "align_items": null,
            "align_self": null,
            "border": null,
            "bottom": null,
            "display": null,
            "flex": null,
            "flex_flow": null,
            "grid_area": null,
            "grid_auto_columns": null,
            "grid_auto_flow": null,
            "grid_auto_rows": null,
            "grid_column": null,
            "grid_gap": null,
            "grid_row": null,
            "grid_template_areas": null,
            "grid_template_columns": null,
            "grid_template_rows": null,
            "height": null,
            "justify_content": null,
            "justify_items": null,
            "left": null,
            "margin": null,
            "max_height": null,
            "max_width": null,
            "min_height": null,
            "min_width": null,
            "object_fit": null,
            "object_position": null,
            "order": null,
            "overflow": null,
            "overflow_x": null,
            "overflow_y": null,
            "padding": null,
            "right": null,
            "top": null,
            "visibility": null,
            "width": null
          }
        },
        "7f90b0d313cc4f4e86b0e898bedf61ab": {
          "model_module": "@jupyter-widgets/controls",
          "model_name": "VBoxModel",
          "model_module_version": "1.5.0",
          "state": {
            "_dom_classes": [
              "widget-interact"
            ],
            "_model_module": "@jupyter-widgets/controls",
            "_model_module_version": "1.5.0",
            "_model_name": "VBoxModel",
            "_view_count": null,
            "_view_module": "@jupyter-widgets/controls",
            "_view_module_version": "1.5.0",
            "_view_name": "VBoxView",
            "box_style": "",
            "children": [
              "IPY_MODEL_1537384cec984199995b3c5062673a28",
              "IPY_MODEL_5591bddfbea24b808e8e06e370a3fc46",
              "IPY_MODEL_a7495442cc6c41f6979e6c0914532e2d",
              "IPY_MODEL_2396e7ebf2a244258247bc0a9365d5fd",
              "IPY_MODEL_bfcc3186378342e786b21ed35de66d56",
              "IPY_MODEL_b60a75f74cba45f0bceae45c29cba43a",
              "IPY_MODEL_7c8083716c87495aafef2103ba5617a9"
            ],
            "layout": "IPY_MODEL_9d75a940c46d45a99e065d44c4b4e50b"
          }
        },
        "1537384cec984199995b3c5062673a28": {
          "model_module": "@jupyter-widgets/controls",
          "model_name": "IntSliderModel",
          "model_module_version": "1.5.0",
          "state": {
            "_dom_classes": [],
            "_model_module": "@jupyter-widgets/controls",
            "_model_module_version": "1.5.0",
            "_model_name": "IntSliderModel",
            "_view_count": null,
            "_view_module": "@jupyter-widgets/controls",
            "_view_module_version": "1.5.0",
            "_view_name": "IntSliderView",
            "continuous_update": true,
            "description": "start",
            "description_tooltip": null,
            "disabled": false,
            "layout": "IPY_MODEL_8ade1b3a8d5f4a1fbe8c78c717814557",
            "max": 10,
            "min": 0,
            "orientation": "horizontal",
            "readout": true,
            "readout_format": "d",
            "step": 1,
            "style": "IPY_MODEL_b7a63df442cb41f3b2307b60f8047771",
            "value": 0
          }
        },
        "5591bddfbea24b808e8e06e370a3fc46": {
          "model_module": "@jupyter-widgets/controls",
          "model_name": "IntSliderModel",
          "model_module_version": "1.5.0",
          "state": {
            "_dom_classes": [],
            "_model_module": "@jupyter-widgets/controls",
            "_model_module_version": "1.5.0",
            "_model_name": "IntSliderModel",
            "_view_count": null,
            "_view_module": "@jupyter-widgets/controls",
            "_view_module_version": "1.5.0",
            "_view_name": "IntSliderView",
            "continuous_update": true,
            "description": "end",
            "description_tooltip": null,
            "disabled": false,
            "layout": "IPY_MODEL_b5d639a91406468e9fe95ec2a0618f18",
            "max": 50,
            "min": 20,
            "orientation": "horizontal",
            "readout": true,
            "readout_format": "d",
            "step": 1,
            "style": "IPY_MODEL_cc5e5324fc5b4151bc3144daa6d69add",
            "value": 28
          }
        },
        "a7495442cc6c41f6979e6c0914532e2d": {
          "model_module": "@jupyter-widgets/controls",
          "model_name": "CheckboxModel",
          "model_module_version": "1.5.0",
          "state": {
            "_dom_classes": [],
            "_model_module": "@jupyter-widgets/controls",
            "_model_module_version": "1.5.0",
            "_model_name": "CheckboxModel",
            "_view_count": null,
            "_view_module": "@jupyter-widgets/controls",
            "_view_module_version": "1.5.0",
            "_view_name": "CheckboxView",
            "description": "grid",
            "description_tooltip": null,
            "disabled": false,
            "indent": true,
            "layout": "IPY_MODEL_9a8cab42ab3a420e86b4a9507d1a547a",
            "style": "IPY_MODEL_7e27b8327031444589ee633c7fcde1c0",
            "value": false
          }
        },
        "2396e7ebf2a244258247bc0a9365d5fd": {
          "model_module": "@jupyter-widgets/controls",
          "model_name": "IntSliderModel",
          "model_module_version": "1.5.0",
          "state": {
            "_dom_classes": [],
            "_model_module": "@jupyter-widgets/controls",
            "_model_module_version": "1.5.0",
            "_model_name": "IntSliderModel",
            "_view_count": null,
            "_view_module": "@jupyter-widgets/controls",
            "_view_module_version": "1.5.0",
            "_view_name": "IntSliderView",
            "continuous_update": true,
            "description": "A",
            "description_tooltip": null,
            "disabled": false,
            "layout": "IPY_MODEL_9770c2a900934f70bc6747ba7a49db9a",
            "max": 10,
            "min": 1,
            "orientation": "horizontal",
            "readout": true,
            "readout_format": "d",
            "step": 1,
            "style": "IPY_MODEL_e9ba2f9d159b45e1a5a87d951cccbf4c",
            "value": 1
          }
        },
        "bfcc3186378342e786b21ed35de66d56": {
          "model_module": "@jupyter-widgets/controls",
          "model_name": "FloatSliderModel",
          "model_module_version": "1.5.0",
          "state": {
            "_dom_classes": [],
            "_model_module": "@jupyter-widgets/controls",
            "_model_module_version": "1.5.0",
            "_model_name": "FloatSliderModel",
            "_view_count": null,
            "_view_module": "@jupyter-widgets/controls",
            "_view_module_version": "1.5.0",
            "_view_name": "FloatSliderView",
            "continuous_update": true,
            "description": "x0",
            "description_tooltip": null,
            "disabled": false,
            "layout": "IPY_MODEL_218b183026bb4b629cd00195341f00b8",
            "max": 20,
            "min": 1,
            "orientation": "horizontal",
            "readout": true,
            "readout_format": ".2f",
            "step": 0.5,
            "style": "IPY_MODEL_7baf6d0c448d4d44ba3e6cbd0cbb46c4",
            "value": 20
          }
        },
        "b60a75f74cba45f0bceae45c29cba43a": {
          "model_module": "@jupyter-widgets/controls",
          "model_name": "CheckboxModel",
          "model_module_version": "1.5.0",
          "state": {
            "_dom_classes": [],
            "_model_module": "@jupyter-widgets/controls",
            "_model_module_version": "1.5.0",
            "_model_name": "CheckboxModel",
            "_view_count": null,
            "_view_module": "@jupyter-widgets/controls",
            "_view_module_version": "1.5.0",
            "_view_name": "CheckboxView",
            "description": "plot_exp",
            "description_tooltip": null,
            "disabled": false,
            "indent": true,
            "layout": "IPY_MODEL_6c0b7f18075e4155850aac5f4c152610",
            "style": "IPY_MODEL_29d9008c6f314058a4e5131dee50fbb8",
            "value": true
          }
        },
        "7c8083716c87495aafef2103ba5617a9": {
          "model_module": "@jupyter-widgets/output",
          "model_name": "OutputModel",
          "model_module_version": "1.0.0",
          "state": {
            "_dom_classes": [],
            "_model_module": "@jupyter-widgets/output",
            "_model_module_version": "1.0.0",
            "_model_name": "OutputModel",
            "_view_count": null,
            "_view_module": "@jupyter-widgets/output",
            "_view_module_version": "1.0.0",
            "_view_name": "OutputView",
            "layout": "IPY_MODEL_de15b05998544ce89da97ad1ca5c2f42",
            "msg_id": "",
            "outputs": [
              {
                "output_type": "display_data",
                "data": {
                  "text/plain": "<Figure size 432x288 with 1 Axes>",
                  "image/png": "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\n"
                },
                "metadata": {
                  "needs_background": "light"
                }
              }
            ]
          }
        },
        "9d75a940c46d45a99e065d44c4b4e50b": {
          "model_module": "@jupyter-widgets/base",
          "model_name": "LayoutModel",
          "model_module_version": "1.2.0",
          "state": {
            "_model_module": "@jupyter-widgets/base",
            "_model_module_version": "1.2.0",
            "_model_name": "LayoutModel",
            "_view_count": null,
            "_view_module": "@jupyter-widgets/base",
            "_view_module_version": "1.2.0",
            "_view_name": "LayoutView",
            "align_content": null,
            "align_items": null,
            "align_self": null,
            "border": null,
            "bottom": null,
            "display": null,
            "flex": null,
            "flex_flow": null,
            "grid_area": null,
            "grid_auto_columns": null,
            "grid_auto_flow": null,
            "grid_auto_rows": null,
            "grid_column": null,
            "grid_gap": null,
            "grid_row": null,
            "grid_template_areas": null,
            "grid_template_columns": null,
            "grid_template_rows": null,
            "height": null,
            "justify_content": null,
            "justify_items": null,
            "left": null,
            "margin": null,
            "max_height": null,
            "max_width": null,
            "min_height": null,
            "min_width": null,
            "object_fit": null,
            "object_position": null,
            "order": null,
            "overflow": null,
            "overflow_x": null,
            "overflow_y": null,
            "padding": null,
            "right": null,
            "top": null,
            "visibility": null,
            "width": null
          }
        },
        "8ade1b3a8d5f4a1fbe8c78c717814557": {
          "model_module": "@jupyter-widgets/base",
          "model_name": "LayoutModel",
          "model_module_version": "1.2.0",
          "state": {
            "_model_module": "@jupyter-widgets/base",
            "_model_module_version": "1.2.0",
            "_model_name": "LayoutModel",
            "_view_count": null,
            "_view_module": "@jupyter-widgets/base",
            "_view_module_version": "1.2.0",
            "_view_name": "LayoutView",
            "align_content": null,
            "align_items": null,
            "align_self": null,
            "border": null,
            "bottom": null,
            "display": null,
            "flex": null,
            "flex_flow": null,
            "grid_area": null,
            "grid_auto_columns": null,
            "grid_auto_flow": null,
            "grid_auto_rows": null,
            "grid_column": null,
            "grid_gap": null,
            "grid_row": null,
            "grid_template_areas": null,
            "grid_template_columns": null,
            "grid_template_rows": null,
            "height": null,
            "justify_content": null,
            "justify_items": null,
            "left": null,
            "margin": null,
            "max_height": null,
            "max_width": null,
            "min_height": null,
            "min_width": null,
            "object_fit": null,
            "object_position": null,
            "order": null,
            "overflow": null,
            "overflow_x": null,
            "overflow_y": null,
            "padding": null,
            "right": null,
            "top": null,
            "visibility": null,
            "width": null
          }
        },
        "b7a63df442cb41f3b2307b60f8047771": {
          "model_module": "@jupyter-widgets/controls",
          "model_name": "SliderStyleModel",
          "model_module_version": "1.5.0",
          "state": {
            "_model_module": "@jupyter-widgets/controls",
            "_model_module_version": "1.5.0",
            "_model_name": "SliderStyleModel",
            "_view_count": null,
            "_view_module": "@jupyter-widgets/base",
            "_view_module_version": "1.2.0",
            "_view_name": "StyleView",
            "description_width": "",
            "handle_color": null
          }
        },
        "b5d639a91406468e9fe95ec2a0618f18": {
          "model_module": "@jupyter-widgets/base",
          "model_name": "LayoutModel",
          "model_module_version": "1.2.0",
          "state": {
            "_model_module": "@jupyter-widgets/base",
            "_model_module_version": "1.2.0",
            "_model_name": "LayoutModel",
            "_view_count": null,
            "_view_module": "@jupyter-widgets/base",
            "_view_module_version": "1.2.0",
            "_view_name": "LayoutView",
            "align_content": null,
            "align_items": null,
            "align_self": null,
            "border": null,
            "bottom": null,
            "display": null,
            "flex": null,
            "flex_flow": null,
            "grid_area": null,
            "grid_auto_columns": null,
            "grid_auto_flow": null,
            "grid_auto_rows": null,
            "grid_column": null,
            "grid_gap": null,
            "grid_row": null,
            "grid_template_areas": null,
            "grid_template_columns": null,
            "grid_template_rows": null,
            "height": null,
            "justify_content": null,
            "justify_items": null,
            "left": null,
            "margin": null,
            "max_height": null,
            "max_width": null,
            "min_height": null,
            "min_width": null,
            "object_fit": null,
            "object_position": null,
            "order": null,
            "overflow": null,
            "overflow_x": null,
            "overflow_y": null,
            "padding": null,
            "right": null,
            "top": null,
            "visibility": null,
            "width": null
          }
        },
        "cc5e5324fc5b4151bc3144daa6d69add": {
          "model_module": "@jupyter-widgets/controls",
          "model_name": "SliderStyleModel",
          "model_module_version": "1.5.0",
          "state": {
            "_model_module": "@jupyter-widgets/controls",
            "_model_module_version": "1.5.0",
            "_model_name": "SliderStyleModel",
            "_view_count": null,
            "_view_module": "@jupyter-widgets/base",
            "_view_module_version": "1.2.0",
            "_view_name": "StyleView",
            "description_width": "",
            "handle_color": null
          }
        },
        "9a8cab42ab3a420e86b4a9507d1a547a": {
          "model_module": "@jupyter-widgets/base",
          "model_name": "LayoutModel",
          "model_module_version": "1.2.0",
          "state": {
            "_model_module": "@jupyter-widgets/base",
            "_model_module_version": "1.2.0",
            "_model_name": "LayoutModel",
            "_view_count": null,
            "_view_module": "@jupyter-widgets/base",
            "_view_module_version": "1.2.0",
            "_view_name": "LayoutView",
            "align_content": null,
            "align_items": null,
            "align_self": null,
            "border": null,
            "bottom": null,
            "display": null,
            "flex": null,
            "flex_flow": null,
            "grid_area": null,
            "grid_auto_columns": null,
            "grid_auto_flow": null,
            "grid_auto_rows": null,
            "grid_column": null,
            "grid_gap": null,
            "grid_row": null,
            "grid_template_areas": null,
            "grid_template_columns": null,
            "grid_template_rows": null,
            "height": null,
            "justify_content": null,
            "justify_items": null,
            "left": null,
            "margin": null,
            "max_height": null,
            "max_width": null,
            "min_height": null,
            "min_width": null,
            "object_fit": null,
            "object_position": null,
            "order": null,
            "overflow": null,
            "overflow_x": null,
            "overflow_y": null,
            "padding": null,
            "right": null,
            "top": null,
            "visibility": null,
            "width": null
          }
        },
        "7e27b8327031444589ee633c7fcde1c0": {
          "model_module": "@jupyter-widgets/controls",
          "model_name": "DescriptionStyleModel",
          "model_module_version": "1.5.0",
          "state": {
            "_model_module": "@jupyter-widgets/controls",
            "_model_module_version": "1.5.0",
            "_model_name": "DescriptionStyleModel",
            "_view_count": null,
            "_view_module": "@jupyter-widgets/base",
            "_view_module_version": "1.2.0",
            "_view_name": "StyleView",
            "description_width": ""
          }
        },
        "9770c2a900934f70bc6747ba7a49db9a": {
          "model_module": "@jupyter-widgets/base",
          "model_name": "LayoutModel",
          "model_module_version": "1.2.0",
          "state": {
            "_model_module": "@jupyter-widgets/base",
            "_model_module_version": "1.2.0",
            "_model_name": "LayoutModel",
            "_view_count": null,
            "_view_module": "@jupyter-widgets/base",
            "_view_module_version": "1.2.0",
            "_view_name": "LayoutView",
            "align_content": null,
            "align_items": null,
            "align_self": null,
            "border": null,
            "bottom": null,
            "display": null,
            "flex": null,
            "flex_flow": null,
            "grid_area": null,
            "grid_auto_columns": null,
            "grid_auto_flow": null,
            "grid_auto_rows": null,
            "grid_column": null,
            "grid_gap": null,
            "grid_row": null,
            "grid_template_areas": null,
            "grid_template_columns": null,
            "grid_template_rows": null,
            "height": null,
            "justify_content": null,
            "justify_items": null,
            "left": null,
            "margin": null,
            "max_height": null,
            "max_width": null,
            "min_height": null,
            "min_width": null,
            "object_fit": null,
            "object_position": null,
            "order": null,
            "overflow": null,
            "overflow_x": null,
            "overflow_y": null,
            "padding": null,
            "right": null,
            "top": null,
            "visibility": null,
            "width": null
          }
        },
        "e9ba2f9d159b45e1a5a87d951cccbf4c": {
          "model_module": "@jupyter-widgets/controls",
          "model_name": "SliderStyleModel",
          "model_module_version": "1.5.0",
          "state": {
            "_model_module": "@jupyter-widgets/controls",
            "_model_module_version": "1.5.0",
            "_model_name": "SliderStyleModel",
            "_view_count": null,
            "_view_module": "@jupyter-widgets/base",
            "_view_module_version": "1.2.0",
            "_view_name": "StyleView",
            "description_width": "",
            "handle_color": null
          }
        },
        "218b183026bb4b629cd00195341f00b8": {
          "model_module": "@jupyter-widgets/base",
          "model_name": "LayoutModel",
          "model_module_version": "1.2.0",
          "state": {
            "_model_module": "@jupyter-widgets/base",
            "_model_module_version": "1.2.0",
            "_model_name": "LayoutModel",
            "_view_count": null,
            "_view_module": "@jupyter-widgets/base",
            "_view_module_version": "1.2.0",
            "_view_name": "LayoutView",
            "align_content": null,
            "align_items": null,
            "align_self": null,
            "border": null,
            "bottom": null,
            "display": null,
            "flex": null,
            "flex_flow": null,
            "grid_area": null,
            "grid_auto_columns": null,
            "grid_auto_flow": null,
            "grid_auto_rows": null,
            "grid_column": null,
            "grid_gap": null,
            "grid_row": null,
            "grid_template_areas": null,
            "grid_template_columns": null,
            "grid_template_rows": null,
            "height": null,
            "justify_content": null,
            "justify_items": null,
            "left": null,
            "margin": null,
            "max_height": null,
            "max_width": null,
            "min_height": null,
            "min_width": null,
            "object_fit": null,
            "object_position": null,
            "order": null,
            "overflow": null,
            "overflow_x": null,
            "overflow_y": null,
            "padding": null,
            "right": null,
            "top": null,
            "visibility": null,
            "width": null
          }
        },
        "7baf6d0c448d4d44ba3e6cbd0cbb46c4": {
          "model_module": "@jupyter-widgets/controls",
          "model_name": "SliderStyleModel",
          "model_module_version": "1.5.0",
          "state": {
            "_model_module": "@jupyter-widgets/controls",
            "_model_module_version": "1.5.0",
            "_model_name": "SliderStyleModel",
            "_view_count": null,
            "_view_module": "@jupyter-widgets/base",
            "_view_module_version": "1.2.0",
            "_view_name": "StyleView",
            "description_width": "",
            "handle_color": null
          }
        },
        "6c0b7f18075e4155850aac5f4c152610": {
          "model_module": "@jupyter-widgets/base",
          "model_name": "LayoutModel",
          "model_module_version": "1.2.0",
          "state": {
            "_model_module": "@jupyter-widgets/base",
            "_model_module_version": "1.2.0",
            "_model_name": "LayoutModel",
            "_view_count": null,
            "_view_module": "@jupyter-widgets/base",
            "_view_module_version": "1.2.0",
            "_view_name": "LayoutView",
            "align_content": null,
            "align_items": null,
            "align_self": null,
            "border": null,
            "bottom": null,
            "display": null,
            "flex": null,
            "flex_flow": null,
            "grid_area": null,
            "grid_auto_columns": null,
            "grid_auto_flow": null,
            "grid_auto_rows": null,
            "grid_column": null,
            "grid_gap": null,
            "grid_row": null,
            "grid_template_areas": null,
            "grid_template_columns": null,
            "grid_template_rows": null,
            "height": null,
            "justify_content": null,
            "justify_items": null,
            "left": null,
            "margin": null,
            "max_height": null,
            "max_width": null,
            "min_height": null,
            "min_width": null,
            "object_fit": null,
            "object_position": null,
            "order": null,
            "overflow": null,
            "overflow_x": null,
            "overflow_y": null,
            "padding": null,
            "right": null,
            "top": null,
            "visibility": null,
            "width": null
          }
        },
        "29d9008c6f314058a4e5131dee50fbb8": {
          "model_module": "@jupyter-widgets/controls",
          "model_name": "DescriptionStyleModel",
          "model_module_version": "1.5.0",
          "state": {
            "_model_module": "@jupyter-widgets/controls",
            "_model_module_version": "1.5.0",
            "_model_name": "DescriptionStyleModel",
            "_view_count": null,
            "_view_module": "@jupyter-widgets/base",
            "_view_module_version": "1.2.0",
            "_view_name": "StyleView",
            "description_width": ""
          }
        },
        "de15b05998544ce89da97ad1ca5c2f42": {
          "model_module": "@jupyter-widgets/base",
          "model_name": "LayoutModel",
          "model_module_version": "1.2.0",
          "state": {
            "_model_module": "@jupyter-widgets/base",
            "_model_module_version": "1.2.0",
            "_model_name": "LayoutModel",
            "_view_count": null,
            "_view_module": "@jupyter-widgets/base",
            "_view_module_version": "1.2.0",
            "_view_name": "LayoutView",
            "align_content": null,
            "align_items": null,
            "align_self": null,
            "border": null,
            "bottom": null,
            "display": null,
            "flex": null,
            "flex_flow": null,
            "grid_area": null,
            "grid_auto_columns": null,
            "grid_auto_flow": null,
            "grid_auto_rows": null,
            "grid_column": null,
            "grid_gap": null,
            "grid_row": null,
            "grid_template_areas": null,
            "grid_template_columns": null,
            "grid_template_rows": null,
            "height": null,
            "justify_content": null,
            "justify_items": null,
            "left": null,
            "margin": null,
            "max_height": null,
            "max_width": null,
            "min_height": null,
            "min_width": null,
            "object_fit": null,
            "object_position": null,
            "order": null,
            "overflow": null,
            "overflow_x": null,
            "overflow_y": null,
            "padding": null,
            "right": null,
            "top": null,
            "visibility": null,
            "width": null
          }
        },
        "4b44e7b8300b4600ae8e42bd5d0d0a34": {
          "model_module": "@jupyter-widgets/controls",
          "model_name": "VBoxModel",
          "model_module_version": "1.5.0",
          "state": {
            "_dom_classes": [
              "widget-interact"
            ],
            "_model_module": "@jupyter-widgets/controls",
            "_model_module_version": "1.5.0",
            "_model_name": "VBoxModel",
            "_view_count": null,
            "_view_module": "@jupyter-widgets/controls",
            "_view_module_version": "1.5.0",
            "_view_name": "VBoxView",
            "box_style": "",
            "children": [
              "IPY_MODEL_1b42b5feb0144858879447f6eb1058e9",
              "IPY_MODEL_774aba6ad4934f68b23b397257748cdf",
              "IPY_MODEL_d3de99f7d8e64839a4152e4e22fd3153",
              "IPY_MODEL_8f22ca7515a94397a77475406d9cfbb1",
              "IPY_MODEL_7065e10a0e9147a5adee5d1ee046d35e",
              "IPY_MODEL_4cf10fddb0be4a40aa66491d0f05aad2"
            ],
            "layout": "IPY_MODEL_e1ecb970141348f88be0bfd81b13e060"
          }
        },
        "1b42b5feb0144858879447f6eb1058e9": {
          "model_module": "@jupyter-widgets/controls",
          "model_name": "FloatSliderModel",
          "model_module_version": "1.5.0",
          "state": {
            "_dom_classes": [],
            "_model_module": "@jupyter-widgets/controls",
            "_model_module_version": "1.5.0",
            "_model_name": "FloatSliderModel",
            "_view_count": null,
            "_view_module": "@jupyter-widgets/controls",
            "_view_module_version": "1.5.0",
            "_view_name": "FloatSliderView",
            "continuous_update": true,
            "description": "mu",
            "description_tooltip": null,
            "disabled": false,
            "layout": "IPY_MODEL_3632cd1353e643f88c0f98d6b298eefc",
            "max": 10,
            "min": -10,
            "orientation": "horizontal",
            "readout": true,
            "readout_format": ".2f",
            "step": 0.5,
            "style": "IPY_MODEL_d77c0e5dbfcb4a50b6cbfa8af0fbb55f",
            "value": 0
          }
        },
        "774aba6ad4934f68b23b397257748cdf": {
          "model_module": "@jupyter-widgets/controls",
          "model_name": "IntSliderModel",
          "model_module_version": "1.5.0",
          "state": {
            "_dom_classes": [],
            "_model_module": "@jupyter-widgets/controls",
            "_model_module_version": "1.5.0",
            "_model_name": "IntSliderModel",
            "_view_count": null,
            "_view_module": "@jupyter-widgets/controls",
            "_view_module_version": "1.5.0",
            "_view_name": "IntSliderView",
            "continuous_update": true,
            "description": "sigma",
            "description_tooltip": null,
            "disabled": false,
            "layout": "IPY_MODEL_bb62888429b84e0aadfe8fdbcf49cb7e",
            "max": 10,
            "min": 0,
            "orientation": "horizontal",
            "readout": true,
            "readout_format": "d",
            "step": 1,
            "style": "IPY_MODEL_5693859ed45c470b9c3fbcecf288aac1",
            "value": 5
          }
        },
        "d3de99f7d8e64839a4152e4e22fd3153": {
          "model_module": "@jupyter-widgets/controls",
          "model_name": "IntSliderModel",
          "model_module_version": "1.5.0",
          "state": {
            "_dom_classes": [],
            "_model_module": "@jupyter-widgets/controls",
            "_model_module_version": "1.5.0",
            "_model_name": "IntSliderModel",
            "_view_count": null,
            "_view_module": "@jupyter-widgets/controls",
            "_view_module_version": "1.5.0",
            "_view_name": "IntSliderView",
            "continuous_update": true,
            "description": "n",
            "description_tooltip": null,
            "disabled": false,
            "layout": "IPY_MODEL_4f2c60b3ce844e0282799a7e4211897e",
            "max": 1000,
            "min": 10,
            "orientation": "horizontal",
            "readout": true,
            "readout_format": "d",
            "step": 1,
            "style": "IPY_MODEL_33f6f7f093a140aea8a2ef081e7b912d",
            "value": 334
          }
        },
        "8f22ca7515a94397a77475406d9cfbb1": {
          "model_module": "@jupyter-widgets/controls",
          "model_name": "IntSliderModel",
          "model_module_version": "1.5.0",
          "state": {
            "_dom_classes": [],
            "_model_module": "@jupyter-widgets/controls",
            "_model_module_version": "1.5.0",
            "_model_name": "IntSliderModel",
            "_view_count": null,
            "_view_module": "@jupyter-widgets/controls",
            "_view_module_version": "1.5.0",
            "_view_name": "IntSliderView",
            "continuous_update": true,
            "description": "bins",
            "description_tooltip": null,
            "disabled": false,
            "layout": "IPY_MODEL_fb67d3ac6b274330b2c9db715bf8d657",
            "max": 100,
            "min": 1,
            "orientation": "horizontal",
            "readout": true,
            "readout_format": "d",
            "step": 1,
            "style": "IPY_MODEL_c029bafdc5ed41c2be80ae6d388a3274",
            "value": 32
          }
        },
        "7065e10a0e9147a5adee5d1ee046d35e": {
          "model_module": "@jupyter-widgets/controls",
          "model_name": "DropdownModel",
          "model_module_version": "1.5.0",
          "state": {
            "_dom_classes": [],
            "_model_module": "@jupyter-widgets/controls",
            "_model_module_version": "1.5.0",
            "_model_name": "DropdownModel",
            "_options_labels": [
              "red",
              "green",
              "blue"
            ],
            "_view_count": null,
            "_view_module": "@jupyter-widgets/controls",
            "_view_module_version": "1.5.0",
            "_view_name": "DropdownView",
            "description": "color",
            "description_tooltip": null,
            "disabled": false,
            "index": 0,
            "layout": "IPY_MODEL_004b969496574079ad54929581227a6f",
            "style": "IPY_MODEL_cc60e31701c54591a875500e548b215a"
          }
        },
        "4cf10fddb0be4a40aa66491d0f05aad2": {
          "model_module": "@jupyter-widgets/output",
          "model_name": "OutputModel",
          "model_module_version": "1.0.0",
          "state": {
            "_dom_classes": [],
            "_model_module": "@jupyter-widgets/output",
            "_model_module_version": "1.0.0",
            "_model_name": "OutputModel",
            "_view_count": null,
            "_view_module": "@jupyter-widgets/output",
            "_view_module_version": "1.0.0",
            "_view_name": "OutputView",
            "layout": "IPY_MODEL_02189f2a81774d57b4f220da3d0a5b76",
            "msg_id": "",
            "outputs": [
              {
                "output_type": "display_data",
                "data": {
                  "text/plain": "<Figure size 432x288 with 1 Axes>",
                  "image/png": "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\n"
                },
                "metadata": {
                  "needs_background": "light"
                }
              }
            ]
          }
        },
        "e1ecb970141348f88be0bfd81b13e060": {
          "model_module": "@jupyter-widgets/base",
          "model_name": "LayoutModel",
          "model_module_version": "1.2.0",
          "state": {
            "_model_module": "@jupyter-widgets/base",
            "_model_module_version": "1.2.0",
            "_model_name": "LayoutModel",
            "_view_count": null,
            "_view_module": "@jupyter-widgets/base",
            "_view_module_version": "1.2.0",
            "_view_name": "LayoutView",
            "align_content": null,
            "align_items": null,
            "align_self": null,
            "border": null,
            "bottom": null,
            "display": null,
            "flex": null,
            "flex_flow": null,
            "grid_area": null,
            "grid_auto_columns": null,
            "grid_auto_flow": null,
            "grid_auto_rows": null,
            "grid_column": null,
            "grid_gap": null,
            "grid_row": null,
            "grid_template_areas": null,
            "grid_template_columns": null,
            "grid_template_rows": null,
            "height": null,
            "justify_content": null,
            "justify_items": null,
            "left": null,
            "margin": null,
            "max_height": null,
            "max_width": null,
            "min_height": null,
            "min_width": null,
            "object_fit": null,
            "object_position": null,
            "order": null,
            "overflow": null,
            "overflow_x": null,
            "overflow_y": null,
            "padding": null,
            "right": null,
            "top": null,
            "visibility": null,
            "width": null
          }
        },
        "3632cd1353e643f88c0f98d6b298eefc": {
          "model_module": "@jupyter-widgets/base",
          "model_name": "LayoutModel",
          "model_module_version": "1.2.0",
          "state": {
            "_model_module": "@jupyter-widgets/base",
            "_model_module_version": "1.2.0",
            "_model_name": "LayoutModel",
            "_view_count": null,
            "_view_module": "@jupyter-widgets/base",
            "_view_module_version": "1.2.0",
            "_view_name": "LayoutView",
            "align_content": null,
            "align_items": null,
            "align_self": null,
            "border": null,
            "bottom": null,
            "display": null,
            "flex": null,
            "flex_flow": null,
            "grid_area": null,
            "grid_auto_columns": null,
            "grid_auto_flow": null,
            "grid_auto_rows": null,
            "grid_column": null,
            "grid_gap": null,
            "grid_row": null,
            "grid_template_areas": null,
            "grid_template_columns": null,
            "grid_template_rows": null,
            "height": null,
            "justify_content": null,
            "justify_items": null,
            "left": null,
            "margin": null,
            "max_height": null,
            "max_width": null,
            "min_height": null,
            "min_width": null,
            "object_fit": null,
            "object_position": null,
            "order": null,
            "overflow": null,
            "overflow_x": null,
            "overflow_y": null,
            "padding": null,
            "right": null,
            "top": null,
            "visibility": null,
            "width": null
          }
        },
        "d77c0e5dbfcb4a50b6cbfa8af0fbb55f": {
          "model_module": "@jupyter-widgets/controls",
          "model_name": "SliderStyleModel",
          "model_module_version": "1.5.0",
          "state": {
            "_model_module": "@jupyter-widgets/controls",
            "_model_module_version": "1.5.0",
            "_model_name": "SliderStyleModel",
            "_view_count": null,
            "_view_module": "@jupyter-widgets/base",
            "_view_module_version": "1.2.0",
            "_view_name": "StyleView",
            "description_width": "",
            "handle_color": null
          }
        },
        "bb62888429b84e0aadfe8fdbcf49cb7e": {
          "model_module": "@jupyter-widgets/base",
          "model_name": "LayoutModel",
          "model_module_version": "1.2.0",
          "state": {
            "_model_module": "@jupyter-widgets/base",
            "_model_module_version": "1.2.0",
            "_model_name": "LayoutModel",
            "_view_count": null,
            "_view_module": "@jupyter-widgets/base",
            "_view_module_version": "1.2.0",
            "_view_name": "LayoutView",
            "align_content": null,
            "align_items": null,
            "align_self": null,
            "border": null,
            "bottom": null,
            "display": null,
            "flex": null,
            "flex_flow": null,
            "grid_area": null,
            "grid_auto_columns": null,
            "grid_auto_flow": null,
            "grid_auto_rows": null,
            "grid_column": null,
            "grid_gap": null,
            "grid_row": null,
            "grid_template_areas": null,
            "grid_template_columns": null,
            "grid_template_rows": null,
            "height": null,
            "justify_content": null,
            "justify_items": null,
            "left": null,
            "margin": null,
            "max_height": null,
            "max_width": null,
            "min_height": null,
            "min_width": null,
            "object_fit": null,
            "object_position": null,
            "order": null,
            "overflow": null,
            "overflow_x": null,
            "overflow_y": null,
            "padding": null,
            "right": null,
            "top": null,
            "visibility": null,
            "width": null
          }
        },
        "5693859ed45c470b9c3fbcecf288aac1": {
          "model_module": "@jupyter-widgets/controls",
          "model_name": "SliderStyleModel",
          "model_module_version": "1.5.0",
          "state": {
            "_model_module": "@jupyter-widgets/controls",
            "_model_module_version": "1.5.0",
            "_model_name": "SliderStyleModel",
            "_view_count": null,
            "_view_module": "@jupyter-widgets/base",
            "_view_module_version": "1.2.0",
            "_view_name": "StyleView",
            "description_width": "",
            "handle_color": null
          }
        },
        "4f2c60b3ce844e0282799a7e4211897e": {
          "model_module": "@jupyter-widgets/base",
          "model_name": "LayoutModel",
          "model_module_version": "1.2.0",
          "state": {
            "_model_module": "@jupyter-widgets/base",
            "_model_module_version": "1.2.0",
            "_model_name": "LayoutModel",
            "_view_count": null,
            "_view_module": "@jupyter-widgets/base",
            "_view_module_version": "1.2.0",
            "_view_name": "LayoutView",
            "align_content": null,
            "align_items": null,
            "align_self": null,
            "border": null,
            "bottom": null,
            "display": null,
            "flex": null,
            "flex_flow": null,
            "grid_area": null,
            "grid_auto_columns": null,
            "grid_auto_flow": null,
            "grid_auto_rows": null,
            "grid_column": null,
            "grid_gap": null,
            "grid_row": null,
            "grid_template_areas": null,
            "grid_template_columns": null,
            "grid_template_rows": null,
            "height": null,
            "justify_content": null,
            "justify_items": null,
            "left": null,
            "margin": null,
            "max_height": null,
            "max_width": null,
            "min_height": null,
            "min_width": null,
            "object_fit": null,
            "object_position": null,
            "order": null,
            "overflow": null,
            "overflow_x": null,
            "overflow_y": null,
            "padding": null,
            "right": null,
            "top": null,
            "visibility": null,
            "width": null
          }
        },
        "33f6f7f093a140aea8a2ef081e7b912d": {
          "model_module": "@jupyter-widgets/controls",
          "model_name": "SliderStyleModel",
          "model_module_version": "1.5.0",
          "state": {
            "_model_module": "@jupyter-widgets/controls",
            "_model_module_version": "1.5.0",
            "_model_name": "SliderStyleModel",
            "_view_count": null,
            "_view_module": "@jupyter-widgets/base",
            "_view_module_version": "1.2.0",
            "_view_name": "StyleView",
            "description_width": "",
            "handle_color": null
          }
        },
        "fb67d3ac6b274330b2c9db715bf8d657": {
          "model_module": "@jupyter-widgets/base",
          "model_name": "LayoutModel",
          "model_module_version": "1.2.0",
          "state": {
            "_model_module": "@jupyter-widgets/base",
            "_model_module_version": "1.2.0",
            "_model_name": "LayoutModel",
            "_view_count": null,
            "_view_module": "@jupyter-widgets/base",
            "_view_module_version": "1.2.0",
            "_view_name": "LayoutView",
            "align_content": null,
            "align_items": null,
            "align_self": null,
            "border": null,
            "bottom": null,
            "display": null,
            "flex": null,
            "flex_flow": null,
            "grid_area": null,
            "grid_auto_columns": null,
            "grid_auto_flow": null,
            "grid_auto_rows": null,
            "grid_column": null,
            "grid_gap": null,
            "grid_row": null,
            "grid_template_areas": null,
            "grid_template_columns": null,
            "grid_template_rows": null,
            "height": null,
            "justify_content": null,
            "justify_items": null,
            "left": null,
            "margin": null,
            "max_height": null,
            "max_width": null,
            "min_height": null,
            "min_width": null,
            "object_fit": null,
            "object_position": null,
            "order": null,
            "overflow": null,
            "overflow_x": null,
            "overflow_y": null,
            "padding": null,
            "right": null,
            "top": null,
            "visibility": null,
            "width": null
          }
        },
        "c029bafdc5ed41c2be80ae6d388a3274": {
          "model_module": "@jupyter-widgets/controls",
          "model_name": "SliderStyleModel",
          "model_module_version": "1.5.0",
          "state": {
            "_model_module": "@jupyter-widgets/controls",
            "_model_module_version": "1.5.0",
            "_model_name": "SliderStyleModel",
            "_view_count": null,
            "_view_module": "@jupyter-widgets/base",
            "_view_module_version": "1.2.0",
            "_view_name": "StyleView",
            "description_width": "",
            "handle_color": null
          }
        },
        "004b969496574079ad54929581227a6f": {
          "model_module": "@jupyter-widgets/base",
          "model_name": "LayoutModel",
          "model_module_version": "1.2.0",
          "state": {
            "_model_module": "@jupyter-widgets/base",
            "_model_module_version": "1.2.0",
            "_model_name": "LayoutModel",
            "_view_count": null,
            "_view_module": "@jupyter-widgets/base",
            "_view_module_version": "1.2.0",
            "_view_name": "LayoutView",
            "align_content": null,
            "align_items": null,
            "align_self": null,
            "border": null,
            "bottom": null,
            "display": null,
            "flex": null,
            "flex_flow": null,
            "grid_area": null,
            "grid_auto_columns": null,
            "grid_auto_flow": null,
            "grid_auto_rows": null,
            "grid_column": null,
            "grid_gap": null,
            "grid_row": null,
            "grid_template_areas": null,
            "grid_template_columns": null,
            "grid_template_rows": null,
            "height": null,
            "justify_content": null,
            "justify_items": null,
            "left": null,
            "margin": null,
            "max_height": null,
            "max_width": null,
            "min_height": null,
            "min_width": null,
            "object_fit": null,
            "object_position": null,
            "order": null,
            "overflow": null,
            "overflow_x": null,
            "overflow_y": null,
            "padding": null,
            "right": null,
            "top": null,
            "visibility": null,
            "width": null
          }
        },
        "cc60e31701c54591a875500e548b215a": {
          "model_module": "@jupyter-widgets/controls",
          "model_name": "DescriptionStyleModel",
          "model_module_version": "1.5.0",
          "state": {
            "_model_module": "@jupyter-widgets/controls",
            "_model_module_version": "1.5.0",
            "_model_name": "DescriptionStyleModel",
            "_view_count": null,
            "_view_module": "@jupyter-widgets/base",
            "_view_module_version": "1.2.0",
            "_view_name": "StyleView",
            "description_width": ""
          }
        },
        "02189f2a81774d57b4f220da3d0a5b76": {
          "model_module": "@jupyter-widgets/base",
          "model_name": "LayoutModel",
          "model_module_version": "1.2.0",
          "state": {
            "_model_module": "@jupyter-widgets/base",
            "_model_module_version": "1.2.0",
            "_model_name": "LayoutModel",
            "_view_count": null,
            "_view_module": "@jupyter-widgets/base",
            "_view_module_version": "1.2.0",
            "_view_name": "LayoutView",
            "align_content": null,
            "align_items": null,
            "align_self": null,
            "border": null,
            "bottom": null,
            "display": null,
            "flex": null,
            "flex_flow": null,
            "grid_area": null,
            "grid_auto_columns": null,
            "grid_auto_flow": null,
            "grid_auto_rows": null,
            "grid_column": null,
            "grid_gap": null,
            "grid_row": null,
            "grid_template_areas": null,
            "grid_template_columns": null,
            "grid_template_rows": null,
            "height": null,
            "justify_content": null,
            "justify_items": null,
            "left": null,
            "margin": null,
            "max_height": null,
            "max_width": null,
            "min_height": null,
            "min_width": null,
            "object_fit": null,
            "object_position": null,
            "order": null,
            "overflow": null,
            "overflow_x": null,
            "overflow_y": null,
            "padding": null,
            "right": null,
            "top": null,
            "visibility": null,
            "width": null
          }
        },
        "43fd8862bdb74b44b141b84dda92cea9": {
          "model_module": "@jupyter-widgets/controls",
          "model_name": "VBoxModel",
          "model_module_version": "1.5.0",
          "state": {
            "_dom_classes": [
              "widget-interact"
            ],
            "_model_module": "@jupyter-widgets/controls",
            "_model_module_version": "1.5.0",
            "_model_name": "VBoxModel",
            "_view_count": null,
            "_view_module": "@jupyter-widgets/controls",
            "_view_module_version": "1.5.0",
            "_view_name": "VBoxView",
            "box_style": "",
            "children": [
              "IPY_MODEL_5c6d704f6d2b45b7a4ce7db15977fafb",
              "IPY_MODEL_6316ec7291c146c9bcf57030e2f7b9be",
              "IPY_MODEL_c29166ed3def45c68df6e8a6288ebee0",
              "IPY_MODEL_73af070f6a9c4492aaadb0f5e86b38a3",
              "IPY_MODEL_6be7f5287c8f487588d2ce23d1185f60",
              "IPY_MODEL_6bb55ebb70724016a32dd18de927a382",
              "IPY_MODEL_7a5ff24acb574b3d84c2031eea867c67"
            ],
            "layout": "IPY_MODEL_c2de2f74a6454482b45966c2a622d323"
          }
        },
        "5c6d704f6d2b45b7a4ce7db15977fafb": {
          "model_module": "@jupyter-widgets/controls",
          "model_name": "FloatSliderModel",
          "model_module_version": "1.5.0",
          "state": {
            "_dom_classes": [],
            "_model_module": "@jupyter-widgets/controls",
            "_model_module_version": "1.5.0",
            "_model_name": "FloatSliderModel",
            "_view_count": null,
            "_view_module": "@jupyter-widgets/controls",
            "_view_module_version": "1.5.0",
            "_view_name": "FloatSliderView",
            "continuous_update": true,
            "description": "mu",
            "description_tooltip": null,
            "disabled": false,
            "layout": "IPY_MODEL_0fbb1e6098e7497198795898e055a6d9",
            "max": 10,
            "min": -10,
            "orientation": "horizontal",
            "readout": true,
            "readout_format": ".2f",
            "step": 0.5,
            "style": "IPY_MODEL_08ce6330f0344c10a06baeef4b6a0da8",
            "value": 0
          }
        },
        "6316ec7291c146c9bcf57030e2f7b9be": {
          "model_module": "@jupyter-widgets/controls",
          "model_name": "IntSliderModel",
          "model_module_version": "1.5.0",
          "state": {
            "_dom_classes": [],
            "_model_module": "@jupyter-widgets/controls",
            "_model_module_version": "1.5.0",
            "_model_name": "IntSliderModel",
            "_view_count": null,
            "_view_module": "@jupyter-widgets/controls",
            "_view_module_version": "1.5.0",
            "_view_name": "IntSliderView",
            "continuous_update": true,
            "description": "sigma",
            "description_tooltip": null,
            "disabled": false,
            "layout": "IPY_MODEL_d97bf8c5294c44e19606a447bdffb3b0",
            "max": 10,
            "min": 0,
            "orientation": "horizontal",
            "readout": true,
            "readout_format": "d",
            "step": 1,
            "style": "IPY_MODEL_c7132e27de6c4d4184c35b0d88f4d89a",
            "value": 5
          }
        },
        "c29166ed3def45c68df6e8a6288ebee0": {
          "model_module": "@jupyter-widgets/controls",
          "model_name": "IntSliderModel",
          "model_module_version": "1.5.0",
          "state": {
            "_dom_classes": [],
            "_model_module": "@jupyter-widgets/controls",
            "_model_module_version": "1.5.0",
            "_model_name": "IntSliderModel",
            "_view_count": null,
            "_view_module": "@jupyter-widgets/controls",
            "_view_module_version": "1.5.0",
            "_view_name": "IntSliderView",
            "continuous_update": true,
            "description": "n",
            "description_tooltip": null,
            "disabled": false,
            "layout": "IPY_MODEL_e183ed0b46424f6f8f412a86ddc0ab27",
            "max": 1000,
            "min": 10,
            "orientation": "horizontal",
            "readout": true,
            "readout_format": "d",
            "step": 1,
            "style": "IPY_MODEL_1d29fcd2117342f58df58e2bbcabc236",
            "value": 100
          }
        },
        "73af070f6a9c4492aaadb0f5e86b38a3": {
          "model_module": "@jupyter-widgets/controls",
          "model_name": "IntSliderModel",
          "model_module_version": "1.5.0",
          "state": {
            "_dom_classes": [],
            "_model_module": "@jupyter-widgets/controls",
            "_model_module_version": "1.5.0",
            "_model_name": "IntSliderModel",
            "_view_count": null,
            "_view_module": "@jupyter-widgets/controls",
            "_view_module_version": "1.5.0",
            "_view_name": "IntSliderView",
            "continuous_update": true,
            "description": "bins",
            "description_tooltip": null,
            "disabled": false,
            "layout": "IPY_MODEL_974a59105c21431686c959e472e2dc62",
            "max": 100,
            "min": 1,
            "orientation": "horizontal",
            "readout": true,
            "readout_format": "d",
            "step": 1,
            "style": "IPY_MODEL_ff673e21a1334f9aba9b57bce77e459e",
            "value": 10
          }
        },
        "6be7f5287c8f487588d2ce23d1185f60": {
          "model_module": "@jupyter-widgets/controls",
          "model_name": "DropdownModel",
          "model_module_version": "1.5.0",
          "state": {
            "_dom_classes": [],
            "_model_module": "@jupyter-widgets/controls",
            "_model_module_version": "1.5.0",
            "_model_name": "DropdownModel",
            "_options_labels": [
              "red",
              "green",
              "blue"
            ],
            "_view_count": null,
            "_view_module": "@jupyter-widgets/controls",
            "_view_module_version": "1.5.0",
            "_view_name": "DropdownView",
            "description": "color",
            "description_tooltip": null,
            "disabled": false,
            "index": 2,
            "layout": "IPY_MODEL_4450be316e08443cbdb750dedae519e1",
            "style": "IPY_MODEL_3206be9b8318420dbda8a081bcf880e7"
          }
        },
        "6bb55ebb70724016a32dd18de927a382": {
          "model_module": "@jupyter-widgets/controls",
          "model_name": "ButtonModel",
          "model_module_version": "1.5.0",
          "state": {
            "_dom_classes": [],
            "_model_module": "@jupyter-widgets/controls",
            "_model_module_version": "1.5.0",
            "_model_name": "ButtonModel",
            "_view_count": null,
            "_view_module": "@jupyter-widgets/controls",
            "_view_module_version": "1.5.0",
            "_view_name": "ButtonView",
            "button_style": "",
            "description": "Run Interact",
            "disabled": false,
            "icon": "",
            "layout": "IPY_MODEL_8417492e05174cd5898a52b9ab63efcb",
            "style": "IPY_MODEL_6a099ca8612340539d5d8b3a825f4dd3",
            "tooltip": ""
          }
        },
        "7a5ff24acb574b3d84c2031eea867c67": {
          "model_module": "@jupyter-widgets/output",
          "model_name": "OutputModel",
          "model_module_version": "1.0.0",
          "state": {
            "_dom_classes": [],
            "_model_module": "@jupyter-widgets/output",
            "_model_module_version": "1.0.0",
            "_model_name": "OutputModel",
            "_view_count": null,
            "_view_module": "@jupyter-widgets/output",
            "_view_module_version": "1.0.0",
            "_view_name": "OutputView",
            "layout": "IPY_MODEL_511c9345ac7346909f4fd99e984dce83",
            "msg_id": "",
            "outputs": []
          }
        },
        "c2de2f74a6454482b45966c2a622d323": {
          "model_module": "@jupyter-widgets/base",
          "model_name": "LayoutModel",
          "model_module_version": "1.2.0",
          "state": {
            "_model_module": "@jupyter-widgets/base",
            "_model_module_version": "1.2.0",
            "_model_name": "LayoutModel",
            "_view_count": null,
            "_view_module": "@jupyter-widgets/base",
            "_view_module_version": "1.2.0",
            "_view_name": "LayoutView",
            "align_content": null,
            "align_items": null,
            "align_self": null,
            "border": null,
            "bottom": null,
            "display": null,
            "flex": null,
            "flex_flow": null,
            "grid_area": null,
            "grid_auto_columns": null,
            "grid_auto_flow": null,
            "grid_auto_rows": null,
            "grid_column": null,
            "grid_gap": null,
            "grid_row": null,
            "grid_template_areas": null,
            "grid_template_columns": null,
            "grid_template_rows": null,
            "height": null,
            "justify_content": null,
            "justify_items": null,
            "left": null,
            "margin": null,
            "max_height": null,
            "max_width": null,
            "min_height": null,
            "min_width": null,
            "object_fit": null,
            "object_position": null,
            "order": null,
            "overflow": null,
            "overflow_x": null,
            "overflow_y": null,
            "padding": null,
            "right": null,
            "top": null,
            "visibility": null,
            "width": null
          }
        },
        "0fbb1e6098e7497198795898e055a6d9": {
          "model_module": "@jupyter-widgets/base",
          "model_name": "LayoutModel",
          "model_module_version": "1.2.0",
          "state": {
            "_model_module": "@jupyter-widgets/base",
            "_model_module_version": "1.2.0",
            "_model_name": "LayoutModel",
            "_view_count": null,
            "_view_module": "@jupyter-widgets/base",
            "_view_module_version": "1.2.0",
            "_view_name": "LayoutView",
            "align_content": null,
            "align_items": null,
            "align_self": null,
            "border": null,
            "bottom": null,
            "display": null,
            "flex": null,
            "flex_flow": null,
            "grid_area": null,
            "grid_auto_columns": null,
            "grid_auto_flow": null,
            "grid_auto_rows": null,
            "grid_column": null,
            "grid_gap": null,
            "grid_row": null,
            "grid_template_areas": null,
            "grid_template_columns": null,
            "grid_template_rows": null,
            "height": null,
            "justify_content": null,
            "justify_items": null,
            "left": null,
            "margin": null,
            "max_height": null,
            "max_width": null,
            "min_height": null,
            "min_width": null,
            "object_fit": null,
            "object_position": null,
            "order": null,
            "overflow": null,
            "overflow_x": null,
            "overflow_y": null,
            "padding": null,
            "right": null,
            "top": null,
            "visibility": null,
            "width": null
          }
        },
        "08ce6330f0344c10a06baeef4b6a0da8": {
          "model_module": "@jupyter-widgets/controls",
          "model_name": "SliderStyleModel",
          "model_module_version": "1.5.0",
          "state": {
            "_model_module": "@jupyter-widgets/controls",
            "_model_module_version": "1.5.0",
            "_model_name": "SliderStyleModel",
            "_view_count": null,
            "_view_module": "@jupyter-widgets/base",
            "_view_module_version": "1.2.0",
            "_view_name": "StyleView",
            "description_width": "",
            "handle_color": null
          }
        },
        "d97bf8c5294c44e19606a447bdffb3b0": {
          "model_module": "@jupyter-widgets/base",
          "model_name": "LayoutModel",
          "model_module_version": "1.2.0",
          "state": {
            "_model_module": "@jupyter-widgets/base",
            "_model_module_version": "1.2.0",
            "_model_name": "LayoutModel",
            "_view_count": null,
            "_view_module": "@jupyter-widgets/base",
            "_view_module_version": "1.2.0",
            "_view_name": "LayoutView",
            "align_content": null,
            "align_items": null,
            "align_self": null,
            "border": null,
            "bottom": null,
            "display": null,
            "flex": null,
            "flex_flow": null,
            "grid_area": null,
            "grid_auto_columns": null,
            "grid_auto_flow": null,
            "grid_auto_rows": null,
            "grid_column": null,
            "grid_gap": null,
            "grid_row": null,
            "grid_template_areas": null,
            "grid_template_columns": null,
            "grid_template_rows": null,
            "height": null,
            "justify_content": null,
            "justify_items": null,
            "left": null,
            "margin": null,
            "max_height": null,
            "max_width": null,
            "min_height": null,
            "min_width": null,
            "object_fit": null,
            "object_position": null,
            "order": null,
            "overflow": null,
            "overflow_x": null,
            "overflow_y": null,
            "padding": null,
            "right": null,
            "top": null,
            "visibility": null,
            "width": null
          }
        },
        "c7132e27de6c4d4184c35b0d88f4d89a": {
          "model_module": "@jupyter-widgets/controls",
          "model_name": "SliderStyleModel",
          "model_module_version": "1.5.0",
          "state": {
            "_model_module": "@jupyter-widgets/controls",
            "_model_module_version": "1.5.0",
            "_model_name": "SliderStyleModel",
            "_view_count": null,
            "_view_module": "@jupyter-widgets/base",
            "_view_module_version": "1.2.0",
            "_view_name": "StyleView",
            "description_width": "",
            "handle_color": null
          }
        },
        "e183ed0b46424f6f8f412a86ddc0ab27": {
          "model_module": "@jupyter-widgets/base",
          "model_name": "LayoutModel",
          "model_module_version": "1.2.0",
          "state": {
            "_model_module": "@jupyter-widgets/base",
            "_model_module_version": "1.2.0",
            "_model_name": "LayoutModel",
            "_view_count": null,
            "_view_module": "@jupyter-widgets/base",
            "_view_module_version": "1.2.0",
            "_view_name": "LayoutView",
            "align_content": null,
            "align_items": null,
            "align_self": null,
            "border": null,
            "bottom": null,
            "display": null,
            "flex": null,
            "flex_flow": null,
            "grid_area": null,
            "grid_auto_columns": null,
            "grid_auto_flow": null,
            "grid_auto_rows": null,
            "grid_column": null,
            "grid_gap": null,
            "grid_row": null,
            "grid_template_areas": null,
            "grid_template_columns": null,
            "grid_template_rows": null,
            "height": null,
            "justify_content": null,
            "justify_items": null,
            "left": null,
            "margin": null,
            "max_height": null,
            "max_width": null,
            "min_height": null,
            "min_width": null,
            "object_fit": null,
            "object_position": null,
            "order": null,
            "overflow": null,
            "overflow_x": null,
            "overflow_y": null,
            "padding": null,
            "right": null,
            "top": null,
            "visibility": null,
            "width": null
          }
        },
        "1d29fcd2117342f58df58e2bbcabc236": {
          "model_module": "@jupyter-widgets/controls",
          "model_name": "SliderStyleModel",
          "model_module_version": "1.5.0",
          "state": {
            "_model_module": "@jupyter-widgets/controls",
            "_model_module_version": "1.5.0",
            "_model_name": "SliderStyleModel",
            "_view_count": null,
            "_view_module": "@jupyter-widgets/base",
            "_view_module_version": "1.2.0",
            "_view_name": "StyleView",
            "description_width": "",
            "handle_color": null
          }
        },
        "974a59105c21431686c959e472e2dc62": {
          "model_module": "@jupyter-widgets/base",
          "model_name": "LayoutModel",
          "model_module_version": "1.2.0",
          "state": {
            "_model_module": "@jupyter-widgets/base",
            "_model_module_version": "1.2.0",
            "_model_name": "LayoutModel",
            "_view_count": null,
            "_view_module": "@jupyter-widgets/base",
            "_view_module_version": "1.2.0",
            "_view_name": "LayoutView",
            "align_content": null,
            "align_items": null,
            "align_self": null,
            "border": null,
            "bottom": null,
            "display": null,
            "flex": null,
            "flex_flow": null,
            "grid_area": null,
            "grid_auto_columns": null,
            "grid_auto_flow": null,
            "grid_auto_rows": null,
            "grid_column": null,
            "grid_gap": null,
            "grid_row": null,
            "grid_template_areas": null,
            "grid_template_columns": null,
            "grid_template_rows": null,
            "height": null,
            "justify_content": null,
            "justify_items": null,
            "left": null,
            "margin": null,
            "max_height": null,
            "max_width": null,
            "min_height": null,
            "min_width": null,
            "object_fit": null,
            "object_position": null,
            "order": null,
            "overflow": null,
            "overflow_x": null,
            "overflow_y": null,
            "padding": null,
            "right": null,
            "top": null,
            "visibility": null,
            "width": null
          }
        },
        "ff673e21a1334f9aba9b57bce77e459e": {
          "model_module": "@jupyter-widgets/controls",
          "model_name": "SliderStyleModel",
          "model_module_version": "1.5.0",
          "state": {
            "_model_module": "@jupyter-widgets/controls",
            "_model_module_version": "1.5.0",
            "_model_name": "SliderStyleModel",
            "_view_count": null,
            "_view_module": "@jupyter-widgets/base",
            "_view_module_version": "1.2.0",
            "_view_name": "StyleView",
            "description_width": "",
            "handle_color": null
          }
        },
        "4450be316e08443cbdb750dedae519e1": {
          "model_module": "@jupyter-widgets/base",
          "model_name": "LayoutModel",
          "model_module_version": "1.2.0",
          "state": {
            "_model_module": "@jupyter-widgets/base",
            "_model_module_version": "1.2.0",
            "_model_name": "LayoutModel",
            "_view_count": null,
            "_view_module": "@jupyter-widgets/base",
            "_view_module_version": "1.2.0",
            "_view_name": "LayoutView",
            "align_content": null,
            "align_items": null,
            "align_self": null,
            "border": null,
            "bottom": null,
            "display": null,
            "flex": null,
            "flex_flow": null,
            "grid_area": null,
            "grid_auto_columns": null,
            "grid_auto_flow": null,
            "grid_auto_rows": null,
            "grid_column": null,
            "grid_gap": null,
            "grid_row": null,
            "grid_template_areas": null,
            "grid_template_columns": null,
            "grid_template_rows": null,
            "height": null,
            "justify_content": null,
            "justify_items": null,
            "left": null,
            "margin": null,
            "max_height": null,
            "max_width": null,
            "min_height": null,
            "min_width": null,
            "object_fit": null,
            "object_position": null,
            "order": null,
            "overflow": null,
            "overflow_x": null,
            "overflow_y": null,
            "padding": null,
            "right": null,
            "top": null,
            "visibility": null,
            "width": null
          }
        },
        "3206be9b8318420dbda8a081bcf880e7": {
          "model_module": "@jupyter-widgets/controls",
          "model_name": "DescriptionStyleModel",
          "model_module_version": "1.5.0",
          "state": {
            "_model_module": "@jupyter-widgets/controls",
            "_model_module_version": "1.5.0",
            "_model_name": "DescriptionStyleModel",
            "_view_count": null,
            "_view_module": "@jupyter-widgets/base",
            "_view_module_version": "1.2.0",
            "_view_name": "StyleView",
            "description_width": ""
          }
        },
        "8417492e05174cd5898a52b9ab63efcb": {
          "model_module": "@jupyter-widgets/base",
          "model_name": "LayoutModel",
          "model_module_version": "1.2.0",
          "state": {
            "_model_module": "@jupyter-widgets/base",
            "_model_module_version": "1.2.0",
            "_model_name": "LayoutModel",
            "_view_count": null,
            "_view_module": "@jupyter-widgets/base",
            "_view_module_version": "1.2.0",
            "_view_name": "LayoutView",
            "align_content": null,
            "align_items": null,
            "align_self": null,
            "border": null,
            "bottom": null,
            "display": null,
            "flex": null,
            "flex_flow": null,
            "grid_area": null,
            "grid_auto_columns": null,
            "grid_auto_flow": null,
            "grid_auto_rows": null,
            "grid_column": null,
            "grid_gap": null,
            "grid_row": null,
            "grid_template_areas": null,
            "grid_template_columns": null,
            "grid_template_rows": null,
            "height": null,
            "justify_content": null,
            "justify_items": null,
            "left": null,
            "margin": null,
            "max_height": null,
            "max_width": null,
            "min_height": null,
            "min_width": null,
            "object_fit": null,
            "object_position": null,
            "order": null,
            "overflow": null,
            "overflow_x": null,
            "overflow_y": null,
            "padding": null,
            "right": null,
            "top": null,
            "visibility": null,
            "width": null
          }
        },
        "6a099ca8612340539d5d8b3a825f4dd3": {
          "model_module": "@jupyter-widgets/controls",
          "model_name": "ButtonStyleModel",
          "model_module_version": "1.5.0",
          "state": {
            "_model_module": "@jupyter-widgets/controls",
            "_model_module_version": "1.5.0",
            "_model_name": "ButtonStyleModel",
            "_view_count": null,
            "_view_module": "@jupyter-widgets/base",
            "_view_module_version": "1.2.0",
            "_view_name": "StyleView",
            "button_color": null,
            "font_weight": ""
          }
        },
        "511c9345ac7346909f4fd99e984dce83": {
          "model_module": "@jupyter-widgets/base",
          "model_name": "LayoutModel",
          "model_module_version": "1.2.0",
          "state": {
            "_model_module": "@jupyter-widgets/base",
            "_model_module_version": "1.2.0",
            "_model_name": "LayoutModel",
            "_view_count": null,
            "_view_module": "@jupyter-widgets/base",
            "_view_module_version": "1.2.0",
            "_view_name": "LayoutView",
            "align_content": null,
            "align_items": null,
            "align_self": null,
            "border": null,
            "bottom": null,
            "display": null,
            "flex": null,
            "flex_flow": null,
            "grid_area": null,
            "grid_auto_columns": null,
            "grid_auto_flow": null,
            "grid_auto_rows": null,
            "grid_column": null,
            "grid_gap": null,
            "grid_row": null,
            "grid_template_areas": null,
            "grid_template_columns": null,
            "grid_template_rows": null,
            "height": null,
            "justify_content": null,
            "justify_items": null,
            "left": null,
            "margin": null,
            "max_height": null,
            "max_width": null,
            "min_height": null,
            "min_width": null,
            "object_fit": null,
            "object_position": null,
            "order": null,
            "overflow": null,
            "overflow_x": null,
            "overflow_y": null,
            "padding": null,
            "right": null,
            "top": null,
            "visibility": null,
            "width": null
          }
        },
        "9784580d3a3d44bd9fe5a3df8491cec7": {
          "model_module": "@jupyter-widgets/controls",
          "model_name": "VBoxModel",
          "model_module_version": "1.5.0",
          "state": {
            "_dom_classes": [
              "widget-interact"
            ],
            "_model_module": "@jupyter-widgets/controls",
            "_model_module_version": "1.5.0",
            "_model_name": "VBoxModel",
            "_view_count": null,
            "_view_module": "@jupyter-widgets/controls",
            "_view_module_version": "1.5.0",
            "_view_name": "VBoxView",
            "box_style": "",
            "children": [
              "IPY_MODEL_b07c0b6209ff49b7bcdf8ef6cf87332a",
              "IPY_MODEL_d3f6937c702d460baa0171cb17c1c28b"
            ],
            "layout": "IPY_MODEL_4937eb127c604071bdaea3faad0c8385"
          }
        },
        "b07c0b6209ff49b7bcdf8ef6cf87332a": {
          "model_module": "@jupyter-widgets/controls",
          "model_name": "FloatSliderModel",
          "model_module_version": "1.5.0",
          "state": {
            "_dom_classes": [],
            "_model_module": "@jupyter-widgets/controls",
            "_model_module_version": "1.5.0",
            "_model_name": "FloatSliderModel",
            "_view_count": null,
            "_view_module": "@jupyter-widgets/controls",
            "_view_module_version": "1.5.0",
            "_view_name": "FloatSliderView",
            "continuous_update": true,
            "description": "x_in",
            "description_tooltip": null,
            "disabled": false,
            "layout": "IPY_MODEL_411a45705ed9441482d4e22a4f37ca24",
            "max": 5,
            "min": -5,
            "orientation": "horizontal",
            "readout": true,
            "readout_format": ".2f",
            "step": 0.1,
            "style": "IPY_MODEL_e2e4a7046fec4e7c8406238c2e6ff15a",
            "value": 5
          }
        },
        "d3f6937c702d460baa0171cb17c1c28b": {
          "model_module": "@jupyter-widgets/output",
          "model_name": "OutputModel",
          "model_module_version": "1.0.0",
          "state": {
            "_dom_classes": [],
            "_model_module": "@jupyter-widgets/output",
            "_model_module_version": "1.0.0",
            "_model_name": "OutputModel",
            "_view_count": null,
            "_view_module": "@jupyter-widgets/output",
            "_view_module_version": "1.0.0",
            "_view_name": "OutputView",
            "layout": "IPY_MODEL_18891c52ee0d4844bf6ccec3a729943e",
            "msg_id": "",
            "outputs": [
              {
                "output_type": "stream",
                "name": "stdout",
                "text": [
                  "y_in = 0.9933071490757153\n"
                ]
              },
              {
                "output_type": "display_data",
                "data": {
                  "text/plain": "<Figure size 432x288 with 1 Axes>",
                  "image/png": "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\n"
                },
                "metadata": {
                  "needs_background": "light"
                }
              }
            ]
          }
        },
        "4937eb127c604071bdaea3faad0c8385": {
          "model_module": "@jupyter-widgets/base",
          "model_name": "LayoutModel",
          "model_module_version": "1.2.0",
          "state": {
            "_model_module": "@jupyter-widgets/base",
            "_model_module_version": "1.2.0",
            "_model_name": "LayoutModel",
            "_view_count": null,
            "_view_module": "@jupyter-widgets/base",
            "_view_module_version": "1.2.0",
            "_view_name": "LayoutView",
            "align_content": null,
            "align_items": null,
            "align_self": null,
            "border": null,
            "bottom": null,
            "display": null,
            "flex": null,
            "flex_flow": null,
            "grid_area": null,
            "grid_auto_columns": null,
            "grid_auto_flow": null,
            "grid_auto_rows": null,
            "grid_column": null,
            "grid_gap": null,
            "grid_row": null,
            "grid_template_areas": null,
            "grid_template_columns": null,
            "grid_template_rows": null,
            "height": null,
            "justify_content": null,
            "justify_items": null,
            "left": null,
            "margin": null,
            "max_height": null,
            "max_width": null,
            "min_height": null,
            "min_width": null,
            "object_fit": null,
            "object_position": null,
            "order": null,
            "overflow": null,
            "overflow_x": null,
            "overflow_y": null,
            "padding": null,
            "right": null,
            "top": null,
            "visibility": null,
            "width": null
          }
        },
        "411a45705ed9441482d4e22a4f37ca24": {
          "model_module": "@jupyter-widgets/base",
          "model_name": "LayoutModel",
          "model_module_version": "1.2.0",
          "state": {
            "_model_module": "@jupyter-widgets/base",
            "_model_module_version": "1.2.0",
            "_model_name": "LayoutModel",
            "_view_count": null,
            "_view_module": "@jupyter-widgets/base",
            "_view_module_version": "1.2.0",
            "_view_name": "LayoutView",
            "align_content": null,
            "align_items": null,
            "align_self": null,
            "border": null,
            "bottom": null,
            "display": null,
            "flex": null,
            "flex_flow": null,
            "grid_area": null,
            "grid_auto_columns": null,
            "grid_auto_flow": null,
            "grid_auto_rows": null,
            "grid_column": null,
            "grid_gap": null,
            "grid_row": null,
            "grid_template_areas": null,
            "grid_template_columns": null,
            "grid_template_rows": null,
            "height": null,
            "justify_content": null,
            "justify_items": null,
            "left": null,
            "margin": null,
            "max_height": null,
            "max_width": null,
            "min_height": null,
            "min_width": null,
            "object_fit": null,
            "object_position": null,
            "order": null,
            "overflow": null,
            "overflow_x": null,
            "overflow_y": null,
            "padding": null,
            "right": null,
            "top": null,
            "visibility": null,
            "width": null
          }
        },
        "e2e4a7046fec4e7c8406238c2e6ff15a": {
          "model_module": "@jupyter-widgets/controls",
          "model_name": "SliderStyleModel",
          "model_module_version": "1.5.0",
          "state": {
            "_model_module": "@jupyter-widgets/controls",
            "_model_module_version": "1.5.0",
            "_model_name": "SliderStyleModel",
            "_view_count": null,
            "_view_module": "@jupyter-widgets/base",
            "_view_module_version": "1.2.0",
            "_view_name": "StyleView",
            "description_width": "",
            "handle_color": null
          }
        },
        "18891c52ee0d4844bf6ccec3a729943e": {
          "model_module": "@jupyter-widgets/base",
          "model_name": "LayoutModel",
          "model_module_version": "1.2.0",
          "state": {
            "_model_module": "@jupyter-widgets/base",
            "_model_module_version": "1.2.0",
            "_model_name": "LayoutModel",
            "_view_count": null,
            "_view_module": "@jupyter-widgets/base",
            "_view_module_version": "1.2.0",
            "_view_name": "LayoutView",
            "align_content": null,
            "align_items": null,
            "align_self": null,
            "border": null,
            "bottom": null,
            "display": null,
            "flex": null,
            "flex_flow": null,
            "grid_area": null,
            "grid_auto_columns": null,
            "grid_auto_flow": null,
            "grid_auto_rows": null,
            "grid_column": null,
            "grid_gap": null,
            "grid_row": null,
            "grid_template_areas": null,
            "grid_template_columns": null,
            "grid_template_rows": null,
            "height": null,
            "justify_content": null,
            "justify_items": null,
            "left": null,
            "margin": null,
            "max_height": null,
            "max_width": null,
            "min_height": null,
            "min_width": null,
            "object_fit": null,
            "object_position": null,
            "order": null,
            "overflow": null,
            "overflow_x": null,
            "overflow_y": null,
            "padding": null,
            "right": null,
            "top": null,
            "visibility": null,
            "width": null
          }
        }
      }
    }
  },
  "cells": [
    {
      "cell_type": "markdown",
      "metadata": {
        "id": "view-in-github",
        "colab_type": "text"
      },
      "source": [
        "<a href=\"https://colab.research.google.com/github/gabrielrflopes/estudos/blob/main/iPyWidgets_Criando_intera%C3%A7%C3%B5es_com_os_plots.ipynb\" target=\"_parent\"><img src=\"https://colab.research.google.com/assets/colab-badge.svg\" alt=\"Open In Colab\"/></a>"
      ]
    },
    {
      "cell_type": "markdown",
      "source": [
        "# Criando interações com gráficos usando o iPyWidgets\n",
        "\n",
        "A visualização de dados pode ir muito além da apresentação estática dos gráficos. A biblioteca `iPyWidgets` permite criar controles interativos de parâmetros dos plots, auxiliando na compreensão do gráficos e na dinâmica das variáveis.\n",
        "\n",
        "O `iPyWidgets` é interessante justamente por permitir manipular os dados de maneira simples e intuitiva. \n",
        "\n",
        "Como é dito na [documentação](https://ipywidgets.readthedocs.io/en/stable/), pesquisadores podem visualizar facilmente como as mudanças nos _inputs_ afetam diretamente em seus modelos e impactam os resultados. Da mesma forma, cientistas podem compartilhar interfaces interativas que ajudam na compreensão de teorias de forma mais imersiva e experimental.\n",
        "\n",
        "Neste notebook, iremos explorar as diferentes abordagens que a biblioteca `iPyWidgets`permite, utilizando o `Numpy` para gerar dados randômicos e o `Matplotlib` para a visualização dos gráficos. Ao final, você terá exemplos de interações com gráficos de diversos tipos, como histograma, dispersão e de linha."
      ],
      "metadata": {
        "id": "mXy4YuG9oWM1"
      }
    },
    {
      "cell_type": "markdown",
      "source": [
        "## Instalando o `iPyWidgets` e importando as bibliotecas\n",
        "\n",
        "Inicialmente, iremos instalar o `iPyWidgets` no ambiente do Colaboratory. Para isso, vamos utilizar o `!pip install ipywidgets -q`. Em seguida, ao importar as bibliotecas, chamamos diretamente as funções `interact` e `interact_manual`, que são responsáveis pela visualização do gráfico juntamente com os controles interativos."
      ],
      "metadata": {
        "id": "lU591kQer1Rd"
      }
    },
    {
      "cell_type": "code",
      "execution_count": 1,
      "metadata": {
        "id": "NJ5gXPEgOwJ4"
      },
      "outputs": [],
      "source": [
        "!pip install ipywidgets -q"
      ]
    },
    {
      "cell_type": "code",
      "source": [
        "from ipywidgets import interact, interact_manual\n",
        "import ipywidgets\n",
        "import numpy as np\n",
        "import matplotlib.pyplot as plt"
      ],
      "metadata": {
        "id": "9pHlUutIO8o5"
      },
      "execution_count": 2,
      "outputs": []
    },
    {
      "cell_type": "markdown",
      "source": [
        "### Exemplo 1: Função linear com ruído\n",
        "\n",
        "Já colocando a mão na massa, o primeiro exemplo é de uma função linear construída com dados randômicos a partir do `Numpy`. A ideia aqui será visualizar como o ruído influencia na dispersão dos dados à medida que ele aumenta. A estrutura básica da função é a seguinte:\n",
        "\n",
        "$$ y = ax + ϵb  $$\n",
        "\n",
        "em que o fator $ϵ$ representa o ruído que acompanha o coeficiente linear, $b$. Neste exemplo, $a = 2$ e _noise_ representa a variável do ruído.\n",
        "\n",
        "Primeiramente, definimos os valores de x com uma distribuição randomizada de valores entre 0 e 5, e uma amostra de tamanho 100. Em seguida, definimos os valores que vão compor o fator do ruído, utilizando o `np.random.normal` que retorna uma distribuição normal de dados aleatórios.\n"
      ],
      "metadata": {
        "id": "EwmghxCAsqW0"
      }
    },
    {
      "cell_type": "code",
      "source": [
        "# definindo os valores para x e para o ruído a partir de arrays numpy.\n",
        "x = np.random.uniform(0, 5, size = 100)\n",
        "noise = np.random.normal(size = 100)\n",
        "\n",
        "def plot_fct(b = 1):\n",
        "\n",
        "  y = 2*x + b*noise\n",
        "  plt.scatter(x, y, color = 'g');"
      ],
      "metadata": {
        "id": "7XTZi0OeQ74q"
      },
      "execution_count": 3,
      "outputs": []
    },
    {
      "cell_type": "markdown",
      "source": [
        "Definimos a função `plt_fct()` deixando o valor do coeficiente $b = 1$ por padrão. Dentro da função, escrevemos a relação entre a variável dependente $y$ e a variável independente $x$, juntamente com o produto do termo linear e o ruído.\n",
        "\n",
        "Para criar a interação com o gráfico, vamos utilizar o `interact` passando como argumentos a função que foi criada e um intervalo para a variação do coeficiente linear $b$. À medida que variamos $b$, o peso do ruído será maior ou menor, causando mais dispersão ou menos. "
      ],
      "metadata": {
        "id": "jsDaVmaNvHGG"
      }
    },
    {
      "cell_type": "code",
      "source": [
        "interact(plot_fct, b = (0, 5, 0.5))"
      ],
      "metadata": {
        "colab": {
          "base_uri": "https://localhost:8080/",
          "height": 314,
          "referenced_widgets": [
            "3a0157bb51b44a15bea9daee08d12e02",
            "9d9aab48497b4907ad3be8866df62756",
            "f6abc241a04b475aba63ba701a149f3e",
            "bae872d4d665423a856602bd38d42b21",
            "fcd1537eb667421fbcc05f562d13dd73",
            "ce5ed0967c7043299bd79e753cbb355e",
            "a4a57f82e59a4b729d51077799de2c67"
          ]
        },
        "id": "7uz8dTSOPp1L",
        "outputId": "3e788606-f453-46a4-dbc4-ebde64aceb9a"
      },
      "execution_count": 4,
      "outputs": [
        {
          "output_type": "display_data",
          "data": {
            "text/plain": [
              "interactive(children=(FloatSlider(value=1.0, description='b', max=5.0, step=0.5), Output()), _dom_classes=('wi…"
            ],
            "application/vnd.jupyter.widget-view+json": {
              "version_major": 2,
              "version_minor": 0,
              "model_id": "3a0157bb51b44a15bea9daee08d12e02"
            }
          },
          "metadata": {}
        },
        {
          "output_type": "execute_result",
          "data": {
            "text/plain": [
              "<function __main__.plot_fct(b=1)>"
            ]
          },
          "metadata": {},
          "execution_count": 4
        }
      ]
    },
    {
      "cell_type": "markdown",
      "source": [
        "### Exemplo 2: Dataset _`make_moons`_ do `Scikit Learn`\n",
        "\n",
        "É possível trabalhar as interações com _datasets_, de modo a manipular o número de elementos na amostra, por exemplo. Neste exemplo, vamos utilizar o conjunto de dados _`make_moons`_ da biblioteca `Scikit Learn`."
      ],
      "metadata": {
        "id": "cxkhGbRjxD8r"
      }
    },
    {
      "cell_type": "code",
      "source": [
        "from sklearn.datasets import make_moons\n",
        "\n",
        "moons = make_moons(n_samples = 100, noise = 0.01)\n",
        "x0, x1 = moons[0], moons[1]"
      ],
      "metadata": {
        "id": "bI2NNpp_RnVe"
      },
      "execution_count": 5,
      "outputs": []
    },
    {
      "cell_type": "markdown",
      "source": [
        "Acima, definimos a variáve `moons` para guardar o _dataset_ com 100 amostras e um ruído de 0.01.  Em seguida, associamos a variável $x_{0}$ e $x_{1}$ às componentes `moons[0]` e `moons[1]`. \n",
        "\n",
        "Para visualizarmos do que se tratam essas componentes, vamos printar os 10 primeiros elementos contidos nas variáveis."
      ],
      "metadata": {
        "id": "nzxWYJGkXABv"
      }
    },
    {
      "cell_type": "code",
      "source": [
        "print(x0[0:10])\n",
        "\n",
        "print('A variável x0 é do tipo', type(x0))"
      ],
      "metadata": {
        "colab": {
          "base_uri": "https://localhost:8080/"
        },
        "id": "qgyed3f_Xjr3",
        "outputId": "2bcb6a9a-b62d-437b-a3f7-9291316ea9e1"
      },
      "execution_count": 6,
      "outputs": [
        {
          "output_type": "stream",
          "name": "stdout",
          "text": [
            "[[-0.14750948  0.98434022]\n",
            " [ 1.94941783  0.17861901]\n",
            " [ 0.64197069 -0.45244115]\n",
            " [-0.99351942  0.06876784]\n",
            " [-0.67042146  0.73322186]\n",
            " [ 1.97798409  0.26641476]\n",
            " [-0.00816244  0.37042338]\n",
            " [ 0.31843648 -0.22049539]\n",
            " [ 1.44587957 -0.39744282]\n",
            " [ 0.97373049  0.26210214]]\n",
            "A variável x0 é do tipo <class 'numpy.ndarray'>\n"
          ]
        }
      ]
    },
    {
      "cell_type": "code",
      "source": [
        "print(x1[0:10])\n",
        "\n",
        "print('A variável x1 é do tipo', type(x1))"
      ],
      "metadata": {
        "colab": {
          "base_uri": "https://localhost:8080/"
        },
        "id": "StOLK4GAWb6Z",
        "outputId": "523d007e-489b-48c0-c725-0753d64395bc"
      },
      "execution_count": 7,
      "outputs": [
        {
          "output_type": "stream",
          "name": "stdout",
          "text": [
            "[0 1 1 0 0 1 1 1 1 0]\n",
            "A variável x1 é do tipo <class 'numpy.ndarray'>\n"
          ]
        }
      ]
    },
    {
      "cell_type": "markdown",
      "source": [
        "Note que ambas as variáveis são _arrays_ do `Numpy`, ou seja, estruturas de dados de uma dimensão ou mais. No caso de `x_{0}`, temos um array de duas colunas com valores randomizados, enquanto que para `x_{1}` temos uma estrutura unidimensional com zeros e uns. \n",
        "\n",
        "Para definir a função que será usada na interação vamos utilizar dessa construção, construindo um gráfico de dispersão em que a variável independente $x$ estará relacionada com a primeira coluna de `x_{0}` e a variável dependente $y$ com a segunda coluna de `x_{0}`. \n",
        "\n",
        "Os valores de `x_{1}` servirão como índice para distinguir as duas classes que formarão a imagem, por isso associamos essa variável ao argumento da cor."
      ],
      "metadata": {
        "id": "jJuvpQEZXzYb"
      }
    },
    {
      "cell_type": "code",
      "source": [
        "def plot_moons(samples = 200, noise = 0.5):\n",
        "  \n",
        "  moons = make_moons(n_samples = samples, noise = noise)\n",
        "  x0, x1 = moons[0], moons[1]\n",
        "\n",
        "  plt.scatter(x = x0[:, 0], y = x0[:, 1], c = x1)"
      ],
      "metadata": {
        "id": "zWP1NYa3WjZ0"
      },
      "execution_count": 8,
      "outputs": []
    },
    {
      "cell_type": "markdown",
      "source": [
        "Para criar a interação, os dois argumentos que poderão ser manipulados serão o tamanho da amostra (`n_samples`) e o ruído (`noise`).\n",
        "\n",
        "---\n",
        "\n"
      ],
      "metadata": {
        "id": "OGg8Q4qSZhMd"
      }
    },
    {
      "cell_type": "code",
      "source": [
        "interact(plot_moons, samples = [100, 200, 500, 1000], noise = (0, 2, 0.025))"
      ],
      "metadata": {
        "colab": {
          "base_uri": "https://localhost:8080/",
          "height": 346,
          "referenced_widgets": [
            "75ce8ebde72e4832a15fee9a4554ffa2",
            "38218deebc3a45a8829274cacb3d8b00",
            "9a95c053f1474c36a7331c66bfccfe46",
            "7b9393c8af4c4751be408ddfa1a679b3",
            "0030e3de05aa408290822ddda782fc6a",
            "2255f5904e8f4fa0b3f17bf36a1c096e",
            "1051dc6929f3457490790bd71b381214",
            "99de1405be4a440abd8be9ef6d54a1bd",
            "652336e131a048e5a9bc64ec473e694a",
            "28d21cb997434562bce908ee49f4eba2"
          ]
        },
        "id": "D7qNurcGxVl7",
        "outputId": "39ab592c-3991-4127-9ce2-28b6a91ff6c5"
      },
      "execution_count": 9,
      "outputs": [
        {
          "output_type": "display_data",
          "data": {
            "text/plain": [
              "interactive(children=(Dropdown(description='samples', index=1, options=(100, 200, 500, 1000), value=200), Floa…"
            ],
            "application/vnd.jupyter.widget-view+json": {
              "version_major": 2,
              "version_minor": 0,
              "model_id": "75ce8ebde72e4832a15fee9a4554ffa2"
            }
          },
          "metadata": {}
        },
        {
          "output_type": "execute_result",
          "data": {
            "text/plain": [
              "<function __main__.plot_moons(samples=200, noise=0.5)>"
            ]
          },
          "metadata": {},
          "execution_count": 9
        }
      ]
    },
    {
      "cell_type": "markdown",
      "source": [
        "Uma coisa interessante do `iPyWidgets` quando utilizamos o `interact` é que ele reconhece o tipo de estrutura que estamos fornecendo como argumento e ajusta os controles para a melhor visualização. \n",
        "\n",
        "> Neste caso, como passamos uma lista para `samples`, ele identificou que o melhor controle seria um _dropdown menu_, enquanto que o ruído (uma tupla), pode ser controlado com um _slider_. "
      ],
      "metadata": {
        "id": "GIV4ohn1aDcL"
      }
    },
    {
      "cell_type": "markdown",
      "source": [
        "### Exemplo 3: Comparação de funções harmônicas\n",
        "\n",
        "Com o exemplo acima, vimos o potencial do `iPyWidgets` ao permitir a visualização da dinâmica de um _dataset_, manipulando parâmetros importantes de acordo com o contexto de dados que estamos lidando. \n",
        "\n",
        "Agora, veremos uma aplicação que pode ter um valor didático para cientistas e professores, ao explicar como evolui determinada função em comparação com outra.\n",
        "\n",
        "A função seno e cosseno são funções harmônicas, ou seja, após um período $T = 2π$, elas retornam ao valor inicial que tinham. Não somente isso, mas as duas funções podem ser modificadas por um fator de amplitude ou pela fase em que se encontram. \n",
        "\n",
        "Nessa demonstração, será possível manipular a amplitude da função senoidal, além de sua fase, seguindo a equação:\n",
        "\n",
        "$$ y(x, \\phi) = Asin(x + ϕ)$$\n",
        "\n",
        "em que A é a amplitude e $ϕ$ a fase. Além disso, a função cosseno poderá ser ligada ou desligada para comparações."
      ],
      "metadata": {
        "id": "X2D7US3pasiY"
      }
    },
    {
      "cell_type": "code",
      "source": [
        "# definindo a função que plota o seno\n",
        "\n",
        "def plot_sin(start = 0, end = 2, A = 1, phi = 0, grid = False, plot_cos = False):\n",
        "\n",
        "  # utilizando o linspace do numpy, que retorna números espaçados de maneira uniforme por um determinado intervalo.\n",
        "  x = np.linspace(start, end, (end-start) * 10) \n",
        "  y = np.sin(x + phi) * A\n",
        "\n",
        "  plt.grid(grid)\n",
        "  plt.plot(x, y)\n",
        "\n",
        "  if plot_cos:\n",
        "    y = np.cos(x)\n",
        "    plt.plot(x, y,'g')"
      ],
      "metadata": {
        "id": "HYjrJEuQTW9B"
      },
      "execution_count": 10,
      "outputs": []
    },
    {
      "cell_type": "markdown",
      "source": [
        "Com o `interact`, vamos passar os intervalos que poderão ser modificados para cada parâmetro. Note que a fase (`phi`) poderá ser modificada de 0 até $2\\pi$."
      ],
      "metadata": {
        "id": "Zs9O3e3NemSL"
      }
    },
    {
      "cell_type": "code",
      "source": [
        "interact(plot_sin, start = (0, 10, 1), end = (20, 50, 1), A = (0, 5, 0.1), phi = (0, 6.28, 0.05), grid = False)"
      ],
      "metadata": {
        "colab": {
          "base_uri": "https://localhost:8080/",
          "height": 474,
          "referenced_widgets": [
            "1150ee5a2d2143c5a931817c2b7793f2",
            "f17bc07bdd4644b9aa10e22d9a973229",
            "f4b5fac3a2b74b4591aeecf6fe2d6d53",
            "b048ae7039ee45b5b840f398e08ec859",
            "94f50945b2324ab0b57b19466a9d0ef3",
            "0ce55dc94621406faa21e4418ad34c55",
            "496d2eed47f945ad97f01ed65e2ad916",
            "24e955d9571746c2b46358ea7e5c8e99",
            "ab1fe9185e764321996ff80a0e39786b",
            "ff4c841b59e041bba519035b88938015",
            "36a6652eb5b240fa8086d34740cdc3da",
            "2977aee396954fffb299e49aba4a3874",
            "b1430dc89643497185b0be6409f2da14",
            "8b69a4db41f748b89d9b359c7344cb7d",
            "430d4e6900044334acc7c7762d9fd5ef",
            "93ec5ad100cb4b8790773f60dbeb16e7",
            "ccfc4c20eccf47d78dcf993920f13988",
            "d7bfcf2c787b4e2886366d0e69781009",
            "61438ca3ef854284ae2ac831340fd03c",
            "76ced925d38446e89609af832cda07eb",
            "a59987396c254ea98f7127bd0fa58a08",
            "051e6a9b862845e39662304b15ed05a4"
          ]
        },
        "id": "F0R5TKzWbbyS",
        "outputId": "65c0f69b-76a3-44be-df58-dadf16a6b8c4"
      },
      "execution_count": 11,
      "outputs": [
        {
          "output_type": "display_data",
          "data": {
            "text/plain": [
              "interactive(children=(IntSlider(value=0, description='start', max=10), IntSlider(value=20, description='end', …"
            ],
            "application/vnd.jupyter.widget-view+json": {
              "version_major": 2,
              "version_minor": 0,
              "model_id": "1150ee5a2d2143c5a931817c2b7793f2"
            }
          },
          "metadata": {}
        },
        {
          "output_type": "execute_result",
          "data": {
            "text/plain": [
              "<function __main__.plot_sin(start=0, end=2, A=1, phi=0, grid=False, plot_cos=False)>"
            ]
          },
          "metadata": {},
          "execution_count": 11
        }
      ]
    },
    {
      "cell_type": "markdown",
      "source": [
        "Neste exemplo, note que foi utilizado um `toggle` (ou caixa de marcação) para habilitar a função cosseno e o _grid_. O `interact` interpretou como sendo a melhor alternativa para o uso do `if` dentro da função e do booleano para o `grid` no argumento."
      ],
      "metadata": {
        "id": "tOhgUbLcfd6n"
      }
    },
    {
      "cell_type": "markdown",
      "source": [
        "### Exemplo 4: Função harmônica amortecida\n",
        "\n",
        "Trazendo agora um pouco mais de requinte teórico à demonstração, vamos interagir com uma função harmônica amortecida, ou seja, que decai sua amplitude com o tempo.\n",
        "\n",
        "Uma função amortecida pode ser definida da seguinte forma:\n",
        "\n",
        "$$y(x) = Ae^{-\\frac{x}{x_{0}}}sen(x). $$\n",
        "\n",
        "A função exponencial real negativa restringe a amplitude da função seno à medida que $x$ cresce. O fator $x_{0}$ ajuda a regular a velocidade com a qual esse amortecimento acontece: quanto maior for o valor de $x_{0}$, menor será a velocidade de decaimento da função seno.\n",
        "\n",
        "O código para criar esse gráfico é semelhante ao anterior, apenas com a adição do parâmetro $x_{0}$ e da função `plot_exp`."
      ],
      "metadata": {
        "id": "MnBOnYA2biYW"
      }
    },
    {
      "cell_type": "code",
      "source": [
        "# criando uma interação de uma função harmônica amortecida\n",
        "\n",
        "def plot_sin(start = 0, end = 2, grid = False, A = 1, x0 = 1, plot_exp = True):\n",
        "\n",
        "  x = np.linspace(start, end, (end-start) * 10)\n",
        "  y = np.sin(x)\n",
        "\n",
        "  plt.grid(grid)\n",
        "  plt.plot(x, y, alpha = 0.5)\n",
        "\n",
        "  # criando a função exponencial\n",
        "  if plot_exp:\n",
        "    damp = A * np.exp(-x/x0)\n",
        "    y = np.sin(x) * damp\n",
        "    plt.plot(x, y, 'g')\n",
        "\n",
        "    # Linhas exponenciais para guiar os olhos\n",
        "    plt.plot(x, damp, 'r--')\n",
        "    plt.plot(x, -damp, 'r--')"
      ],
      "metadata": {
        "id": "7CiKr3faiTCr"
      },
      "execution_count": 12,
      "outputs": []
    },
    {
      "cell_type": "code",
      "source": [
        "interact(plot_sin, start = (0, 10, 1), end = (20, 50, 1), A = (1, 10, 1), x0 =(1, 20, 0.5), grid = False)"
      ],
      "metadata": {
        "colab": {
          "base_uri": "https://localhost:8080/",
          "height": 474,
          "referenced_widgets": [
            "7f90b0d313cc4f4e86b0e898bedf61ab",
            "1537384cec984199995b3c5062673a28",
            "5591bddfbea24b808e8e06e370a3fc46",
            "a7495442cc6c41f6979e6c0914532e2d",
            "2396e7ebf2a244258247bc0a9365d5fd",
            "bfcc3186378342e786b21ed35de66d56",
            "b60a75f74cba45f0bceae45c29cba43a",
            "7c8083716c87495aafef2103ba5617a9",
            "9d75a940c46d45a99e065d44c4b4e50b",
            "8ade1b3a8d5f4a1fbe8c78c717814557",
            "b7a63df442cb41f3b2307b60f8047771",
            "b5d639a91406468e9fe95ec2a0618f18",
            "cc5e5324fc5b4151bc3144daa6d69add",
            "9a8cab42ab3a420e86b4a9507d1a547a",
            "7e27b8327031444589ee633c7fcde1c0",
            "9770c2a900934f70bc6747ba7a49db9a",
            "e9ba2f9d159b45e1a5a87d951cccbf4c",
            "218b183026bb4b629cd00195341f00b8",
            "7baf6d0c448d4d44ba3e6cbd0cbb46c4",
            "6c0b7f18075e4155850aac5f4c152610",
            "29d9008c6f314058a4e5131dee50fbb8",
            "de15b05998544ce89da97ad1ca5c2f42"
          ]
        },
        "id": "89i019hBgxyz",
        "outputId": "dce7829c-71ef-4ee7-b2e1-050603b726f2"
      },
      "execution_count": 13,
      "outputs": [
        {
          "output_type": "display_data",
          "data": {
            "text/plain": [
              "interactive(children=(IntSlider(value=0, description='start', max=10), IntSlider(value=20, description='end', …"
            ],
            "application/vnd.jupyter.widget-view+json": {
              "version_major": 2,
              "version_minor": 0,
              "model_id": "7f90b0d313cc4f4e86b0e898bedf61ab"
            }
          },
          "metadata": {}
        },
        {
          "output_type": "execute_result",
          "data": {
            "text/plain": [
              "<function __main__.plot_sin(start=0, end=2, grid=False, A=1, x0=1, plot_exp=True)>"
            ]
          },
          "metadata": {},
          "execution_count": 13
        }
      ]
    },
    {
      "cell_type": "markdown",
      "source": [
        "> Neste exemplo, fica claro como a função seno tende a zero para valores de $x$ muito grandes. Podemos também ver que, mesmo se colocarmos uma amplitude inicial muito alta no começo, a função seno ainda decairá rapidamente.\n",
        "\n",
        "Do ponto de vista didático, este é uma ótima visualização dos efeitos do amortecimento, que pode ser utilizado em aulas de física e de cálculo com muita facilidade."
      ],
      "metadata": {
        "id": "PrmHw-0Litnk"
      }
    },
    {
      "cell_type": "markdown",
      "source": [
        "### Exemplo 5: Interagindo com histogramas\n",
        "\n",
        "Os histogramas são favoritos na análise de dados contínuos que podem ser divididos em intervalos definidos. Esse tipo de gráfico ajuda na visualização da distribuição dos dados e pode ser muito útil na hora de analisar modelos de mineração de dados, no contexto de problemas de negócios.\n",
        "\n",
        "A interação com um gráfico desse tipo pode ser útil para justamente testar parâmetros desses modelos, como número de elementos, a média e o desvio-padrão. \n",
        "\n",
        "Nesse exemplo, será construído um histograma para mostrar como a variação da média, do desvio-padrão, do tamanho da amostra e dos intervalos influencia na distribuição de dados aleatórios que seguem uma normal. Para isso, primeiro definimos a função `plot_hist` em que:\n",
        "\n",
        "- `mu` - Média\n",
        "- `sigma` - Desvio-padrão\n",
        "- `n` - Tamanho da amostra\n",
        "- `bins` - Intervalo dos dados"
      ],
      "metadata": {
        "id": "K8Br5zgVbpUI"
      }
    },
    {
      "cell_type": "code",
      "source": [
        "def plot_hist(mu = 0, sigma = 5, n = 100, bins = 10, color = 'blue'):\n",
        "\n",
        "  plt.xlim(-20,20)\n",
        "  x = np.random.normal(mu, sigma, n)\n",
        "  plt.hist(x, bins = bins, color = color)"
      ],
      "metadata": {
        "id": "2Afo856aoFNV"
      },
      "execution_count": 53,
      "outputs": []
    },
    {
      "cell_type": "code",
      "source": [
        "interact(plot_hist, mu = (-10, 10, 0.5), n = (10, 1000, 1), sigma = (0, 10, 1), bins = (1, 100, 1), color = ['red', 'green', 'blue'])"
      ],
      "metadata": {
        "colab": {
          "base_uri": "https://localhost:8080/",
          "height": 442,
          "referenced_widgets": [
            "4b44e7b8300b4600ae8e42bd5d0d0a34",
            "1b42b5feb0144858879447f6eb1058e9",
            "774aba6ad4934f68b23b397257748cdf",
            "d3de99f7d8e64839a4152e4e22fd3153",
            "8f22ca7515a94397a77475406d9cfbb1",
            "7065e10a0e9147a5adee5d1ee046d35e",
            "4cf10fddb0be4a40aa66491d0f05aad2",
            "e1ecb970141348f88be0bfd81b13e060",
            "3632cd1353e643f88c0f98d6b298eefc",
            "d77c0e5dbfcb4a50b6cbfa8af0fbb55f",
            "bb62888429b84e0aadfe8fdbcf49cb7e",
            "5693859ed45c470b9c3fbcecf288aac1",
            "4f2c60b3ce844e0282799a7e4211897e",
            "33f6f7f093a140aea8a2ef081e7b912d",
            "fb67d3ac6b274330b2c9db715bf8d657",
            "c029bafdc5ed41c2be80ae6d388a3274",
            "004b969496574079ad54929581227a6f",
            "cc60e31701c54591a875500e548b215a",
            "02189f2a81774d57b4f220da3d0a5b76"
          ]
        },
        "id": "VOzVEILCvMZN",
        "outputId": "6c2c62db-3812-4263-a6e3-5782d07948e6"
      },
      "execution_count": 54,
      "outputs": [
        {
          "output_type": "display_data",
          "data": {
            "text/plain": [
              "interactive(children=(FloatSlider(value=0.0, description='mu', max=10.0, min=-10.0, step=0.5), IntSlider(value…"
            ],
            "application/vnd.jupyter.widget-view+json": {
              "version_major": 2,
              "version_minor": 0,
              "model_id": "4b44e7b8300b4600ae8e42bd5d0d0a34"
            }
          },
          "metadata": {}
        },
        {
          "output_type": "execute_result",
          "data": {
            "text/plain": [
              "<function __main__.plot_hist(mu=0, sigma=5, n=100, bins=10, color='blue')>"
            ]
          },
          "metadata": {},
          "execution_count": 54
        }
      ]
    },
    {
      "cell_type": "markdown",
      "source": [
        "Apenas com essa visualização, é possível constatar alguns fatos sobre a distribuição normal representada nos histogramas:\n",
        "\n",
        "- À medida que o desvio-padrão aumenta, maior é a dispersão dos dados com respeito à média;\n",
        "- O aumento do tamanho da amostra aproxima o histograma da curva de sino característica da distribuição normal;\n",
        "- Com uma amostra grande, os dados têm mais definição à medida que os intervalos aumentam.\n",
        "\n",
        "Note também que foi passada uma lista de cores no argumento de `interact`e, novamente, ele interpretou que o melhor controle seria um _dropdown menu_.\n",
        "\n",
        "Por último, o `interact_manual` abaixo permite que você defina primeiro os parâmetros da interação antes de visualizar o gráfico, bastando clicar em **`Run Interact`**.\n"
      ],
      "metadata": {
        "id": "-Yj-yhNDvTjA"
      }
    },
    {
      "cell_type": "code",
      "source": [
        "interact_manual(plot_hist, mu = (-10, 10, 0.5), n = (10, 1000, 1), sigma = (0, 10, 1), bins = (1, 100, 1), color = ['red', 'green', 'blue'])"
      ],
      "metadata": {
        "colab": {
          "base_uri": "https://localhost:8080/",
          "height": 226,
          "referenced_widgets": [
            "43fd8862bdb74b44b141b84dda92cea9",
            "5c6d704f6d2b45b7a4ce7db15977fafb",
            "6316ec7291c146c9bcf57030e2f7b9be",
            "c29166ed3def45c68df6e8a6288ebee0",
            "73af070f6a9c4492aaadb0f5e86b38a3",
            "6be7f5287c8f487588d2ce23d1185f60",
            "6bb55ebb70724016a32dd18de927a382",
            "7a5ff24acb574b3d84c2031eea867c67",
            "c2de2f74a6454482b45966c2a622d323",
            "0fbb1e6098e7497198795898e055a6d9",
            "08ce6330f0344c10a06baeef4b6a0da8",
            "d97bf8c5294c44e19606a447bdffb3b0",
            "c7132e27de6c4d4184c35b0d88f4d89a",
            "e183ed0b46424f6f8f412a86ddc0ab27",
            "1d29fcd2117342f58df58e2bbcabc236",
            "974a59105c21431686c959e472e2dc62",
            "ff673e21a1334f9aba9b57bce77e459e",
            "4450be316e08443cbdb750dedae519e1",
            "3206be9b8318420dbda8a081bcf880e7",
            "8417492e05174cd5898a52b9ab63efcb",
            "6a099ca8612340539d5d8b3a825f4dd3",
            "511c9345ac7346909f4fd99e984dce83"
          ]
        },
        "id": "p9X7LVIxrFsd",
        "outputId": "70b42570-7c80-42a8-d6fd-6512c1873535"
      },
      "execution_count": 16,
      "outputs": [
        {
          "output_type": "display_data",
          "data": {
            "text/plain": [
              "interactive(children=(FloatSlider(value=0.0, description='mu', max=10.0, min=-10.0, step=0.5), IntSlider(value…"
            ],
            "application/vnd.jupyter.widget-view+json": {
              "version_major": 2,
              "version_minor": 0,
              "model_id": "43fd8862bdb74b44b141b84dda92cea9"
            }
          },
          "metadata": {}
        },
        {
          "output_type": "execute_result",
          "data": {
            "text/plain": [
              "<function __main__.plot_hist(mu=0, sigma=5, n=100, bins=10, color='blue')>"
            ]
          },
          "metadata": {},
          "execution_count": 16
        }
      ]
    },
    {
      "cell_type": "markdown",
      "source": [
        "### Bônus: Função sigmoide\n",
        "\n",
        "Por último, quero finalizar esse estudo com a função sigmoide, que mapeia qualquer valor de `input` num intervalo entre 0 e 1. A sigmoide tem uma curva em S característica, sendo um exemplo a função logística, definida por:\n",
        "\n",
        "$$y(x) = \\frac{1}{1 + e^{x}}$$\n",
        "\n",
        "em que x é o valor de _input_ e $e$ é o logaritmo neperiano. \n",
        "\n",
        "Funções sigmoide são comumente utilizadas nas áreas de inteligência artificial e _machine learning_, para tarefas como classificação e predição. Elas podem ser usadas para transformar o _output_ de um modelo de regressão linear em um valor que pode ser interpretado como a densidade de probabilidade de um elemento pertencer a determinada classe."
      ],
      "metadata": {
        "id": "sLBFGX7jbxbe"
      }
    },
    {
      "cell_type": "markdown",
      "source": [
        "Para criar a função que será usada na interação, definimos um espaço linear no `Numpy`para ser a variável $x$.\n",
        "\n",
        "As variáveis `x_in` e `y_in` representam os valores de $x$ e $y$ que servirão como _input_. Note que o valor de `y_in`está definido como o resultado de uma função logística para cada valor de `x_in`. \n",
        "\n",
        "A ideia é criar uma curva sigmoide de guia para visualizar o ponto (`x_in`, `y_in`) que seguirá exatamente sobre essa curva. A interação se dará com a manipulação do valor do _input_ através de um _slider_.\n",
        "\n"
      ],
      "metadata": {
        "id": "_n9NcVOKzI5m"
      }
    },
    {
      "cell_type": "code",
      "source": [
        "import math\n",
        "\n",
        "def plot_sigmoid(x_in = 0):\n",
        "\n",
        "  x = np.linspace(-5, 5, 1000)\n",
        "  y = 1 / (1 + np.exp(-x))\n",
        "  y_in = 1 / (1 + math.exp(-x_in))\n",
        "\n",
        "  plt.plot(x, y)\n",
        "  plt.scatter(x_in, y_in, c = 'r')\n",
        "\n",
        "  # desenhando as linhas tracejadas que identificam o par x_in e y_in à medida que modificamos o input\n",
        "  plt.plot([x_in, x_in], [0, y_in], 'r--')\n",
        "  plt.plot([-5, x_in], [y_in, y_in], 'r--')\n",
        "\n",
        "  print('y_in =', y_in)"
      ],
      "metadata": {
        "id": "u2lgExOpoW8P"
      },
      "execution_count": 55,
      "outputs": []
    },
    {
      "cell_type": "code",
      "source": [
        "interact(plot_sigmoid, x_in = (-5, 5, 0.1))"
      ],
      "metadata": {
        "colab": {
          "base_uri": "https://localhost:8080/",
          "height": 332,
          "referenced_widgets": [
            "9784580d3a3d44bd9fe5a3df8491cec7",
            "b07c0b6209ff49b7bcdf8ef6cf87332a",
            "d3f6937c702d460baa0171cb17c1c28b",
            "4937eb127c604071bdaea3faad0c8385",
            "411a45705ed9441482d4e22a4f37ca24",
            "e2e4a7046fec4e7c8406238c2e6ff15a",
            "18891c52ee0d4844bf6ccec3a729943e"
          ]
        },
        "id": "uu6q_kJr0evJ",
        "outputId": "9e153ed4-8503-48a2-efd5-59d2be6ee9a9"
      },
      "execution_count": 56,
      "outputs": [
        {
          "output_type": "display_data",
          "data": {
            "text/plain": [
              "interactive(children=(FloatSlider(value=0.0, description='x_in', max=5.0, min=-5.0), Output()), _dom_classes=(…"
            ],
            "application/vnd.jupyter.widget-view+json": {
              "version_major": 2,
              "version_minor": 0,
              "model_id": "9784580d3a3d44bd9fe5a3df8491cec7"
            }
          },
          "metadata": {}
        },
        {
          "output_type": "execute_result",
          "data": {
            "text/plain": [
              "<function __main__.plot_sigmoid(x_in=0)>"
            ]
          },
          "metadata": {},
          "execution_count": 56
        }
      ]
    },
    {
      "cell_type": "markdown",
      "source": [
        "## O poder da visualização de dados com interação\n",
        "\n",
        "O poder da interação com os dados através do **`iPyWidgets`** não pode ser subestimado. Com o aumento da quantidade de dados sendo gerados diariamente, é crucial ter ferramentas que nos permite explorar e analisar os dados rapida e efetivamente, para conseguir _insights_ e tomar decisões informadas.\n",
        "\n",
        "A biblioteca **`iPyWidgets`** possibilita uma maneira interativa e amigável de alcançar esses objetivos, permitindo que os usuários manipulem parâmetros e personalizem a aparência dos gráficos instantaneamente. Essa capacidade facilita a exploração dos dados para o aprendizado sobre a distribuição, o que seria muito mais difícil apenas com visualizações estáticas.\n",
        "\n",
        "Além disso, a interatividade torna os gráficos mais engajadores e propiciam uma comunicação efetiva para problemas de negócios, apresentações de modelos e para o ensino. Com essa ferramenta em mãos, o potencial da visualização de dados pode ser destravada para muito além de dashboards estáticos e aprendizados monótonos, em direção à apresentações mais dinâmicas e esclarecedoras."
      ],
      "metadata": {
        "id": "b9QCU4SR06TB"
      }
    }
  ]
}