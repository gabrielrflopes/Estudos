{
  "nbformat": 4,
  "nbformat_minor": 0,
  "metadata": {
    "colab": {
      "provenance": [],
      "authorship_tag": "ABX9TyN0F25KwqFpfVtYH8IOImji",
      "include_colab_link": true
    },
    "kernelspec": {
      "name": "python3",
      "display_name": "Python 3"
    },
    "language_info": {
      "name": "python"
    }
  },
  "cells": [
    {
      "cell_type": "markdown",
      "metadata": {
        "id": "view-in-github",
        "colab_type": "text"
      },
      "source": [
        "<a href=\"https://colab.research.google.com/github/gabrielrflopes/Estudos/blob/main/IBM_ML0101EN_KNN_Classification_Telecom_Services.ipynb\" target=\"_parent\"><img src=\"https://colab.research.google.com/assets/colab-badge.svg\" alt=\"Open In Colab\"/></a>"
      ]
    },
    {
      "cell_type": "markdown",
      "source": [
        "# IBM ML0101EN - Classificação"
      ],
      "metadata": {
        "id": "FDWgv5oQHJYr"
      }
    },
    {
      "cell_type": "markdown",
      "source": [
        "**Este projeto consiste no laboratório realizado para o curso IBM ML0101EN, e tem o propósito de aplicação dos conteúdos aprendidos.**"
      ],
      "metadata": {
        "id": "S2cJ-aHvTvWg"
      }
    },
    {
      "cell_type": "markdown",
      "source": [
        "Em Machine Learning, classificação é um tipo de aprendizado supervisionado em que se busca rotular novos exemplos em diferentes classes da variável-alvo, que neste caso assume valores discretos. Os modelos de classificação podem lidars com problemas que envolvem alvos binários ou multi-classes, como previsão de risco de crédito, previsão de rotatividade, filtragem de e-mails, reconhecimento de fala, classificação de documentos, previsão de receita de remédios, etc."
      ],
      "metadata": {
        "id": "xu3aTKZOHUb1"
      }
    },
    {
      "cell_type": "markdown",
      "source": [
        "Neste projeto, iremos trabalhar com um conjunto de dados de uma empresa de telecomunicações que deseja construir um classificador para prever qual serviço é o mais provável de um novo cliente contratar, baseado nos dados históricos e demográficos disponíveis."
      ],
      "metadata": {
        "id": "B2g3dyIJ-pFR"
      }
    },
    {
      "cell_type": "markdown",
      "source": [
        "### Importando as Bibliotecas"
      ],
      "metadata": {
        "id": "5TqoCpVH_IGz"
      }
    },
    {
      "cell_type": "code",
      "source": [
        "import pandas as pd\n",
        "import numpy as np\n",
        "import matplotlib.pyplot as plt\n",
        "import seaborn as sns\n",
        "\n",
        "%matplotlib inline"
      ],
      "metadata": {
        "id": "nKFXshTsJ3y2"
      },
      "execution_count": null,
      "outputs": []
    },
    {
      "cell_type": "markdown",
      "source": [
        "### Importando os Dados"
      ],
      "metadata": {
        "id": "OE4PglIxKUQX"
      }
    },
    {
      "cell_type": "code",
      "source": [
        "data_path = 'https://raw.githubusercontent.com/gabrielrflopes/Estudos/main/datasets/teleCust1000t.csv'\n",
        "\n",
        "df = pd.read_csv(data_path)\n",
        "\n",
        "df.head()"
      ],
      "metadata": {
        "colab": {
          "base_uri": "https://localhost:8080/",
          "height": 206
        },
        "id": "wCeyQ0FkKGYh",
        "outputId": "c7883c69-8974-48f4-c8fe-759fa401280a"
      },
      "execution_count": null,
      "outputs": [
        {
          "output_type": "execute_result",
          "data": {
            "text/plain": [
              "   region  tenure  age  marital  address  income  ed  employ  retire  gender  \\\n",
              "0       2      13   44        1        9    64.0   4       5     0.0       0   \n",
              "1       3      11   33        1        7   136.0   5       5     0.0       0   \n",
              "2       3      68   52        1       24   116.0   1      29     0.0       1   \n",
              "3       2      33   33        0       12    33.0   2       0     0.0       1   \n",
              "4       2      23   30        1        9    30.0   1       2     0.0       0   \n",
              "\n",
              "   reside  custcat  \n",
              "0       2        1  \n",
              "1       6        4  \n",
              "2       2        3  \n",
              "3       1        1  \n",
              "4       4        3  "
            ],
            "text/html": [
              "\n",
              "  <div id=\"df-3928e440-fea7-4a2f-b6ab-664c2fd0959d\">\n",
              "    <div class=\"colab-df-container\">\n",
              "      <div>\n",
              "<style scoped>\n",
              "    .dataframe tbody tr th:only-of-type {\n",
              "        vertical-align: middle;\n",
              "    }\n",
              "\n",
              "    .dataframe tbody tr th {\n",
              "        vertical-align: top;\n",
              "    }\n",
              "\n",
              "    .dataframe thead th {\n",
              "        text-align: right;\n",
              "    }\n",
              "</style>\n",
              "<table border=\"1\" class=\"dataframe\">\n",
              "  <thead>\n",
              "    <tr style=\"text-align: right;\">\n",
              "      <th></th>\n",
              "      <th>region</th>\n",
              "      <th>tenure</th>\n",
              "      <th>age</th>\n",
              "      <th>marital</th>\n",
              "      <th>address</th>\n",
              "      <th>income</th>\n",
              "      <th>ed</th>\n",
              "      <th>employ</th>\n",
              "      <th>retire</th>\n",
              "      <th>gender</th>\n",
              "      <th>reside</th>\n",
              "      <th>custcat</th>\n",
              "    </tr>\n",
              "  </thead>\n",
              "  <tbody>\n",
              "    <tr>\n",
              "      <th>0</th>\n",
              "      <td>2</td>\n",
              "      <td>13</td>\n",
              "      <td>44</td>\n",
              "      <td>1</td>\n",
              "      <td>9</td>\n",
              "      <td>64.0</td>\n",
              "      <td>4</td>\n",
              "      <td>5</td>\n",
              "      <td>0.0</td>\n",
              "      <td>0</td>\n",
              "      <td>2</td>\n",
              "      <td>1</td>\n",
              "    </tr>\n",
              "    <tr>\n",
              "      <th>1</th>\n",
              "      <td>3</td>\n",
              "      <td>11</td>\n",
              "      <td>33</td>\n",
              "      <td>1</td>\n",
              "      <td>7</td>\n",
              "      <td>136.0</td>\n",
              "      <td>5</td>\n",
              "      <td>5</td>\n",
              "      <td>0.0</td>\n",
              "      <td>0</td>\n",
              "      <td>6</td>\n",
              "      <td>4</td>\n",
              "    </tr>\n",
              "    <tr>\n",
              "      <th>2</th>\n",
              "      <td>3</td>\n",
              "      <td>68</td>\n",
              "      <td>52</td>\n",
              "      <td>1</td>\n",
              "      <td>24</td>\n",
              "      <td>116.0</td>\n",
              "      <td>1</td>\n",
              "      <td>29</td>\n",
              "      <td>0.0</td>\n",
              "      <td>1</td>\n",
              "      <td>2</td>\n",
              "      <td>3</td>\n",
              "    </tr>\n",
              "    <tr>\n",
              "      <th>3</th>\n",
              "      <td>2</td>\n",
              "      <td>33</td>\n",
              "      <td>33</td>\n",
              "      <td>0</td>\n",
              "      <td>12</td>\n",
              "      <td>33.0</td>\n",
              "      <td>2</td>\n",
              "      <td>0</td>\n",
              "      <td>0.0</td>\n",
              "      <td>1</td>\n",
              "      <td>1</td>\n",
              "      <td>1</td>\n",
              "    </tr>\n",
              "    <tr>\n",
              "      <th>4</th>\n",
              "      <td>2</td>\n",
              "      <td>23</td>\n",
              "      <td>30</td>\n",
              "      <td>1</td>\n",
              "      <td>9</td>\n",
              "      <td>30.0</td>\n",
              "      <td>1</td>\n",
              "      <td>2</td>\n",
              "      <td>0.0</td>\n",
              "      <td>0</td>\n",
              "      <td>4</td>\n",
              "      <td>3</td>\n",
              "    </tr>\n",
              "  </tbody>\n",
              "</table>\n",
              "</div>\n",
              "      <button class=\"colab-df-convert\" onclick=\"convertToInteractive('df-3928e440-fea7-4a2f-b6ab-664c2fd0959d')\"\n",
              "              title=\"Convert this dataframe to an interactive table.\"\n",
              "              style=\"display:none;\">\n",
              "        \n",
              "  <svg xmlns=\"http://www.w3.org/2000/svg\" height=\"24px\"viewBox=\"0 0 24 24\"\n",
              "       width=\"24px\">\n",
              "    <path d=\"M0 0h24v24H0V0z\" fill=\"none\"/>\n",
              "    <path d=\"M18.56 5.44l.94 2.06.94-2.06 2.06-.94-2.06-.94-.94-2.06-.94 2.06-2.06.94zm-11 1L8.5 8.5l.94-2.06 2.06-.94-2.06-.94L8.5 2.5l-.94 2.06-2.06.94zm10 10l.94 2.06.94-2.06 2.06-.94-2.06-.94-.94-2.06-.94 2.06-2.06.94z\"/><path d=\"M17.41 7.96l-1.37-1.37c-.4-.4-.92-.59-1.43-.59-.52 0-1.04.2-1.43.59L10.3 9.45l-7.72 7.72c-.78.78-.78 2.05 0 2.83L4 21.41c.39.39.9.59 1.41.59.51 0 1.02-.2 1.41-.59l7.78-7.78 2.81-2.81c.8-.78.8-2.07 0-2.86zM5.41 20L4 18.59l7.72-7.72 1.47 1.35L5.41 20z\"/>\n",
              "  </svg>\n",
              "      </button>\n",
              "      \n",
              "  <style>\n",
              "    .colab-df-container {\n",
              "      display:flex;\n",
              "      flex-wrap:wrap;\n",
              "      gap: 12px;\n",
              "    }\n",
              "\n",
              "    .colab-df-convert {\n",
              "      background-color: #E8F0FE;\n",
              "      border: none;\n",
              "      border-radius: 50%;\n",
              "      cursor: pointer;\n",
              "      display: none;\n",
              "      fill: #1967D2;\n",
              "      height: 32px;\n",
              "      padding: 0 0 0 0;\n",
              "      width: 32px;\n",
              "    }\n",
              "\n",
              "    .colab-df-convert:hover {\n",
              "      background-color: #E2EBFA;\n",
              "      box-shadow: 0px 1px 2px rgba(60, 64, 67, 0.3), 0px 1px 3px 1px rgba(60, 64, 67, 0.15);\n",
              "      fill: #174EA6;\n",
              "    }\n",
              "\n",
              "    [theme=dark] .colab-df-convert {\n",
              "      background-color: #3B4455;\n",
              "      fill: #D2E3FC;\n",
              "    }\n",
              "\n",
              "    [theme=dark] .colab-df-convert:hover {\n",
              "      background-color: #434B5C;\n",
              "      box-shadow: 0px 1px 3px 1px rgba(0, 0, 0, 0.15);\n",
              "      filter: drop-shadow(0px 1px 2px rgba(0, 0, 0, 0.3));\n",
              "      fill: #FFFFFF;\n",
              "    }\n",
              "  </style>\n",
              "\n",
              "      <script>\n",
              "        const buttonEl =\n",
              "          document.querySelector('#df-3928e440-fea7-4a2f-b6ab-664c2fd0959d button.colab-df-convert');\n",
              "        buttonEl.style.display =\n",
              "          google.colab.kernel.accessAllowed ? 'block' : 'none';\n",
              "\n",
              "        async function convertToInteractive(key) {\n",
              "          const element = document.querySelector('#df-3928e440-fea7-4a2f-b6ab-664c2fd0959d');\n",
              "          const dataTable =\n",
              "            await google.colab.kernel.invokeFunction('convertToInteractive',\n",
              "                                                     [key], {});\n",
              "          if (!dataTable) return;\n",
              "\n",
              "          const docLinkHtml = 'Like what you see? Visit the ' +\n",
              "            '<a target=\"_blank\" href=https://colab.research.google.com/notebooks/data_table.ipynb>data table notebook</a>'\n",
              "            + ' to learn more about interactive tables.';\n",
              "          element.innerHTML = '';\n",
              "          dataTable['output_type'] = 'display_data';\n",
              "          await google.colab.output.renderOutput(dataTable, element);\n",
              "          const docLink = document.createElement('div');\n",
              "          docLink.innerHTML = docLinkHtml;\n",
              "          element.appendChild(docLink);\n",
              "        }\n",
              "      </script>\n",
              "    </div>\n",
              "  </div>\n",
              "  "
            ]
          },
          "metadata": {},
          "execution_count": 3
        }
      ]
    },
    {
      "cell_type": "markdown",
      "source": [
        "Imagine que uma empresa de telecomunicações segmentou seus clientes com base nos padrões de uso dos serviços, categorizando os clientes em 4 grupos. Se os dados demográficos podem ser usados para prever o grupo de serviços contratado pelos clientes, a empresa pode providenciar ofertas customizadas para prospectar um tipo específico de consumidor.\n",
        "\n",
        "É um problema de classificação, visto que é preciso construir um modelo capaz de prever, para um novo exemplo, qual serviço é mais compatível com o consumidor, utilizando-se para isso um conjunto de dados históricos rotulados."
      ],
      "metadata": {
        "id": "Yw6g4F3yKjCC"
      }
    },
    {
      "cell_type": "markdown",
      "source": [
        "### Dicionário de Variáveis"
      ],
      "metadata": {
        "id": "IE0TAjbGSMRn"
      }
    },
    {
      "cell_type": "markdown",
      "source": [
        "- `Region`- Região em que se encontra o cliente;\n",
        "- `tenure` - Tempo de permanência na empresa;\n",
        "- `age`- Idade do cliente;\n",
        "- `marital` - Se determinado cliente é casado ou não;\n",
        "- `adress`- Endereço do cliente;\n",
        "- `income` - Salário do cliente;\n",
        "- `ed` - Grau de educação do cliente;\n",
        "- `employ` - Tempo (em meses) que determinado cliente está empregado;\n",
        "- `retire` - Se determinado cliente é aposentado ou não;\n",
        "- `gender` - Gênero do cliente;\n",
        "- `custcat`- Tipo de serviço contratado."
      ],
      "metadata": {
        "id": "ibGE9zTHSOT8"
      }
    },
    {
      "cell_type": "markdown",
      "source": [
        "## Análise Exploratória"
      ],
      "metadata": {
        "id": "PLsfHjLwTyPK"
      }
    },
    {
      "cell_type": "markdown",
      "source": [
        "- **Dimensões do Dataset**"
      ],
      "metadata": {
        "id": "ZVkrkg5jFyNP"
      }
    },
    {
      "cell_type": "code",
      "source": [
        "print(f'Entradas:\\t {df.shape[0]}',\n",
        "      f'\\nVariáveis:\\t {df.shape[1]}')"
      ],
      "metadata": {
        "colab": {
          "base_uri": "https://localhost:8080/"
        },
        "id": "WAVfi5yLF0qV",
        "outputId": "658cd28a-1e2c-41b4-e8a1-9c07ee72f5f6"
      },
      "execution_count": null,
      "outputs": [
        {
          "output_type": "stream",
          "name": "stdout",
          "text": [
            "Entradas:\t 1000 \n",
            "Variáveis:\t 12\n"
          ]
        }
      ]
    },
    {
      "cell_type": "markdown",
      "source": [
        "- **Tipos das variáveis**"
      ],
      "metadata": {
        "id": "clyL6owYWA5l"
      }
    },
    {
      "cell_type": "markdown",
      "source": [
        "O conjunto de dados já se encontra com variáveis, que seriam categóricas, codificadas."
      ],
      "metadata": {
        "id": "gbLdT43TUi9F"
      }
    },
    {
      "cell_type": "code",
      "source": [
        "df.dtypes"
      ],
      "metadata": {
        "colab": {
          "base_uri": "https://localhost:8080/"
        },
        "id": "nHCLvW8uT2UM",
        "outputId": "f1074986-242d-4d86-cd98-54c27f0027e4"
      },
      "execution_count": null,
      "outputs": [
        {
          "output_type": "execute_result",
          "data": {
            "text/plain": [
              "region       int64\n",
              "tenure       int64\n",
              "age          int64\n",
              "marital      int64\n",
              "address      int64\n",
              "income     float64\n",
              "ed           int64\n",
              "employ       int64\n",
              "retire     float64\n",
              "gender       int64\n",
              "reside       int64\n",
              "custcat      int64\n",
              "dtype: object"
            ]
          },
          "metadata": {},
          "execution_count": 5
        }
      ]
    },
    {
      "cell_type": "code",
      "source": [
        "columns = df.columns\n",
        "\n",
        "print('Quantidade de valores únicos por coluna:\\n')\n",
        "\n",
        "for i in columns:\n",
        "  print(f'{i}:', df[i].nunique())"
      ],
      "metadata": {
        "colab": {
          "base_uri": "https://localhost:8080/"
        },
        "id": "LgR0uT06UYrf",
        "outputId": "4987d2fc-1861-4dd2-883a-ab7feb813055"
      },
      "execution_count": null,
      "outputs": [
        {
          "output_type": "stream",
          "name": "stdout",
          "text": [
            "Quantidade de valores únicos por coluna:\n",
            "\n",
            "region: 3\n",
            "tenure: 72\n",
            "age: 60\n",
            "marital: 2\n",
            "address: 50\n",
            "income: 218\n",
            "ed: 5\n",
            "employ: 46\n",
            "retire: 2\n",
            "gender: 2\n",
            "reside: 8\n",
            "custcat: 4\n"
          ]
        }
      ]
    },
    {
      "cell_type": "markdown",
      "source": [
        "- **Valores ausentes**"
      ],
      "metadata": {
        "id": "RVcfAI4fV9ku"
      }
    },
    {
      "cell_type": "code",
      "source": [
        "df.isna().sum()"
      ],
      "metadata": {
        "colab": {
          "base_uri": "https://localhost:8080/"
        },
        "id": "3uBLMI0LVz4P",
        "outputId": "02c076fc-a2d8-4e2c-f7c8-d31d25d6a365"
      },
      "execution_count": null,
      "outputs": [
        {
          "output_type": "execute_result",
          "data": {
            "text/plain": [
              "region     0\n",
              "tenure     0\n",
              "age        0\n",
              "marital    0\n",
              "address    0\n",
              "income     0\n",
              "ed         0\n",
              "employ     0\n",
              "retire     0\n",
              "gender     0\n",
              "reside     0\n",
              "custcat    0\n",
              "dtype: int64"
            ]
          },
          "metadata": {},
          "execution_count": 14
        }
      ]
    },
    {
      "cell_type": "markdown",
      "source": [
        "- **Convertendo a coluna `retire` de _float64_ para _int64_**"
      ],
      "metadata": {
        "id": "tT981BVQWTj7"
      }
    },
    {
      "cell_type": "code",
      "source": [
        "df['retire'] = df['retire'].astype('int64')\n",
        "\n",
        "print(df['retire'].unique())\n",
        "print(df['retire'].dtypes)"
      ],
      "metadata": {
        "colab": {
          "base_uri": "https://localhost:8080/"
        },
        "id": "-0bcCDTmWf_T",
        "outputId": "c4623da9-aac4-472f-ce8b-e9500e8eac87"
      },
      "execution_count": null,
      "outputs": [
        {
          "output_type": "stream",
          "name": "stdout",
          "text": [
            "[0 1]\n",
            "int64\n"
          ]
        }
      ]
    },
    {
      "cell_type": "code",
      "source": [
        "target_count = df['custcat'].value_counts()[[1, 2, 3, 4]]"
      ],
      "metadata": {
        "colab": {
          "base_uri": "https://localhost:8080/"
        },
        "id": "AqsjEwMEWFEK",
        "outputId": "3b1d3687-9ff5-42c1-ad8f-f3f964afccb0"
      },
      "execution_count": null,
      "outputs": [
        {
          "output_type": "execute_result",
          "data": {
            "text/plain": [
              "1    266\n",
              "2    217\n",
              "3    281\n",
              "4    236\n",
              "Name: custcat, dtype: int64"
            ]
          },
          "metadata": {},
          "execution_count": 88
        }
      ]
    },
    {
      "cell_type": "code",
      "source": [
        "fig, ax = plt.subplots()\n",
        "\n",
        "ax.bar(x = range(1, 5), height = target_count.values)\n",
        "\n",
        "ax.set_xticks(ticks = [1, 2, 3, 4], labels = ['Basic Service', 'E-Service', 'Plus Service', 'Total Service'])\n",
        "ax.set_title('Tipos de Serviços')\n",
        "ax.set_xlabel('Frequência')\n",
        "\n",
        "\n",
        "\n",
        "fig.tight_layout()\n",
        "fig.show()"
      ],
      "metadata": {
        "colab": {
          "base_uri": "https://localhost:8080/",
          "height": 487
        },
        "id": "rrFyrKaTXKFa",
        "outputId": "77bc74db-f809-4edd-da46-5517c1b8a7d3"
      },
      "execution_count": null,
      "outputs": [
        {
          "output_type": "display_data",
          "data": {
            "text/plain": [
              "<Figure size 640x480 with 1 Axes>"
            ],
            "image/png": "[encoded data removed]"
          },
          "metadata": {}
        }
      ]
    },
    {
      "cell_type": "code",
      "source": [
        "fig, ax = plt.subplots(1, 2, figsize = (14, 4))\n",
        "\n",
        "ax[0].hist(df['income'], bins = 50)\n",
        "sns.boxplot(df['income'], ax = ax[1], orient = 'h')\n",
        "\n",
        "ax[0].set_title('Distribuição de Renda', fontsize = 14)\n",
        "ax[0].set_xlabel('Renda', fontsize = 12)\n",
        "ax[0].set_ylabel('Frequência', fontsize = 12)\n",
        "\n",
        "ax[1].set_title('Boxplot da Distribuição de Renda', fontsize = 14)\n",
        "ax[1].set_xlabel('Renda', fontsize = 12)\n",
        "\n",
        "fig.tight_layout()\n",
        "fig.show()"
      ],
      "metadata": {
        "colab": {
          "base_uri": "https://localhost:8080/",
          "height": 407
        },
        "id": "mXeeCW85XPsg",
        "outputId": "07c453af-15b6-4074-fe8d-f982eb256211"
      },
      "execution_count": null,
      "outputs": [
        {
          "output_type": "display_data",
          "data": {
            "text/plain": [
              "<Figure size 1400x400 with 2 Axes>"
            ],
            "image/png": "[encoded data removed]"
          },
          "metadata": {}
        }
      ]
    },
    {
      "cell_type": "markdown",
      "source": [
        "### Tratando os Outliers para a Variável `Income`"
      ],
      "metadata": {
        "id": "byiVfyuS-UE5"
      }
    },
    {
      "cell_type": "code",
      "source": [
        "df['income'].describe()"
      ],
      "metadata": {
        "colab": {
          "base_uri": "https://localhost:8080/"
        },
        "id": "8-pJYMW9_87m",
        "outputId": "75b70c87-9ee5-429a-eec7-f1565cbb7720"
      },
      "execution_count": null,
      "outputs": [
        {
          "output_type": "execute_result",
          "data": {
            "text/plain": [
              "count    1000.000000\n",
              "mean       77.535000\n",
              "std       107.044165\n",
              "min         9.000000\n",
              "25%        29.000000\n",
              "50%        47.000000\n",
              "75%        83.000000\n",
              "max      1668.000000\n",
              "Name: income, dtype: float64"
            ]
          },
          "metadata": {},
          "execution_count": 141
        }
      ]
    },
    {
      "cell_type": "code",
      "source": [
        "# Calculando o IQR\n",
        "IQR = df['income'].quantile(.75) - df['income'].quantile(.25)\n",
        "\n",
        "print(f'A amplitude entre quartis para a variável income é {IQR}')"
      ],
      "metadata": {
        "colab": {
          "base_uri": "https://localhost:8080/"
        },
        "id": "ImdCOEsq-XWA",
        "outputId": "c38f72e5-9f44-4904-b83e-90c07afe5364"
      },
      "execution_count": null,
      "outputs": [
        {
          "output_type": "stream",
          "name": "stdout",
          "text": [
            "A amplitude entre quartis para a variável income é 54.0\n"
          ]
        }
      ]
    },
    {
      "cell_type": "code",
      "source": [
        "# Definindo limites inferior e superior: sup = Q3 + 3 x IQR e inf = Q1 - 3 x IQR\n",
        "sup = df['income'].quantile(.75) + 3 * IQR\n",
        "inf = df['income'].quantile(.25) - 3 * IQR\n",
        "\n",
        "print(f'Limite superior: {sup}',\n",
        "      f'\\nLimite inferior: {inf}')"
      ],
      "metadata": {
        "colab": {
          "base_uri": "https://localhost:8080/"
        },
        "id": "vZtNPHeZ_Hip",
        "outputId": "1023d6ef-91ff-4a8a-a1bf-044a5789cdb9"
      },
      "execution_count": null,
      "outputs": [
        {
          "output_type": "stream",
          "name": "stdout",
          "text": [
            "Limite superior: 245.0 \n",
            "Limite inferior: -133.0\n"
          ]
        }
      ]
    },
    {
      "cell_type": "code",
      "source": [
        "data_income = df['income'].loc[df['income'] <= 245.0]"
      ],
      "metadata": {
        "id": "tYsBI8jd_0Ot"
      },
      "execution_count": null,
      "outputs": []
    },
    {
      "cell_type": "code",
      "source": [
        "fig, ax = plt.subplots(1, 2, figsize = (14, 4))\n",
        "\n",
        "ax[0].hist(data_income, bins = 50)\n",
        "sns.boxplot(data_income, orient = 'h', ax = ax[1])\n",
        "\n",
        "ax[0].set_title('Distribuição de Renda', fontsize = 14)\n",
        "ax[0].set_xlabel('Renda', fontsize = 12)\n",
        "ax[0].set_ylabel('Frequência', fontsize = 12)\n",
        "\n",
        "ax[1].set_title('Boxplot da Distribuição de Renda', fontsize = 14)\n",
        "ax[1].set_xlabel('Renda', fontsize = 12)\n",
        "\n",
        "fig.tight_layout()\n",
        "fig.show()"
      ],
      "metadata": {
        "colab": {
          "base_uri": "https://localhost:8080/",
          "height": 407
        },
        "id": "4ybrKAM1AjIJ",
        "outputId": "50c3b2c4-01e1-43b0-f223-ce2eccb14319"
      },
      "execution_count": null,
      "outputs": [
        {
          "output_type": "display_data",
          "data": {
            "text/plain": [
              "<Figure size 1400x400 with 2 Axes>"
            ],
            "image/png": "[encoded data removed]"
          },
          "metadata": {}
        }
      ]
    },
    {
      "cell_type": "markdown",
      "source": [
        "## Construção do Modelo de Classificação"
      ],
      "metadata": {
        "id": "uzL_VnTHCxWB"
      }
    },
    {
      "cell_type": "markdown",
      "source": [
        "### K-Nearest Neighbours"
      ],
      "metadata": {
        "id": "bxS46JmZCzxw"
      }
    },
    {
      "cell_type": "markdown",
      "source": [
        "Para a construção do classificador, iremos utilizar o algoritmo de aprendizado supervisionado K-Nearest Neighbours (KNN). O KNN classifica novos exemplos baseando-se nas classes dos exemplos vizinhos. Para isso, é utilizado o cálculo de distância de Minkowski, que é basicamente a distância euclidiana, definida por:\n",
        "\n",
        "$$ d(x, y) = \\sqrt{\\sum_{i = 1}^n|x_i - y_i|^2} $$\n",
        "\n",
        "A equação acima define a distância entre o conjunto de pontos $x_i$ e $y_i$.\n",
        "\n",
        "Além do cálculo da distância, a escolha da nova classe é definida de acordo com a similaridade dos K vizinhos mais próximos do novo exemplo. Assim, se definimos um modelo 5-NN, significa que iremos fazer o cálculo de distância dos 5 vizinhos mais próximos do novo exemplo que queremos classificar."
      ],
      "metadata": {
        "id": "iz_W8DIUC8Yj"
      }
    },
    {
      "cell_type": "markdown",
      "source": [
        "- **Definindo a matriz de atributos e o alvo**"
      ],
      "metadata": {
        "id": "NyyrRv1LC7yY"
      }
    },
    {
      "cell_type": "code",
      "source": [
        "X = df.drop('custcat', axis = 1)\n",
        "y = df['custcat']"
      ],
      "metadata": {
        "id": "K-aNsippEkK_"
      },
      "execution_count": null,
      "outputs": []
    },
    {
      "cell_type": "markdown",
      "source": [
        "- **Padronização dos Dados**\n",
        "\n",
        "Em algoritmos baseados em distância, é importante se atentar à padronização dos dados. Vamos utilizar o `StandardScaler` que transforma os dados, de modo que eles tenham média zero e desvio-padrão unitário."
      ],
      "metadata": {
        "id": "Ha1qrChEE7vD"
      }
    },
    {
      "cell_type": "code",
      "source": [
        "from sklearn.preprocessing import StandardScaler\n",
        "\n",
        "std = StandardScaler()\n",
        "\n",
        "X = std.fit_transform(X)"
      ],
      "metadata": {
        "colab": {
          "base_uri": "https://localhost:8080/"
        },
        "id": "Tn8cAogKFVua",
        "outputId": "fd37f11b-013a-4226-d0e2-19878b41e218"
      },
      "execution_count": null,
      "outputs": [
        {
          "output_type": "execute_result",
          "data": {
            "text/plain": [
              "array([[-0.02696767, -1.055125  ,  0.18450456, ..., -0.22207644,\n",
              "        -1.03459817, -0.23065004],\n",
              "       [ 1.19883553, -1.14880563, -0.69181243, ..., -0.22207644,\n",
              "        -1.03459817,  2.55666158],\n",
              "       [ 1.19883553,  1.52109247,  0.82182601, ..., -0.22207644,\n",
              "         0.96655883, -0.23065004],\n",
              "       ...,\n",
              "       [ 1.19883553,  1.47425216,  1.37948227, ..., -0.22207644,\n",
              "         0.96655883, -0.92747794],\n",
              "       [ 1.19883553,  1.61477311,  0.58283046, ..., -0.22207644,\n",
              "         0.96655883, -0.92747794],\n",
              "       [ 1.19883553,  0.67796676, -0.45281689, ..., -0.22207644,\n",
              "         0.96655883,  0.46617787]])"
            ]
          },
          "metadata": {},
          "execution_count": 163
        }
      ]
    },
    {
      "cell_type": "code",
      "source": [
        "from sklearn.model_selection import train_test_split\n",
        "\n",
        "X_train, X_test, y_train, y_test = train_test_split(X, y, test_size = .2)\n",
        "\n",
        "print('Dimensões dos conjuntos de treino e teste:',\n",
        "      f'\\nTreino:\\t {X_train.shape, y_train.shape}',\n",
        "      f'\\nTeste:\\t {X_test.shape, y_test.shape}')"
      ],
      "metadata": {
        "colab": {
          "base_uri": "https://localhost:8080/"
        },
        "id": "Vk8UuzagFpJg",
        "outputId": "64839ae6-b3e9-414e-eae8-45c9c69d70bc"
      },
      "execution_count": null,
      "outputs": [
        {
          "output_type": "stream",
          "name": "stdout",
          "text": [
            "Dimensões dos conjuntos de treino e teste: \n",
            "Treino:\t ((800, 11), (800,)) \n",
            "Teste:\t ((200, 11), (200,))\n"
          ]
        }
      ]
    },
    {
      "cell_type": "markdown",
      "source": [
        "### Classificação"
      ],
      "metadata": {
        "id": "IhytTKYoGWXC"
      }
    },
    {
      "cell_type": "code",
      "source": [
        "from sklearn.neighbors import KNeighborsClassifier\n",
        "from sklearn.metrics import accuracy_score\n",
        "from sklearn.model_selection import cross_val_score"
      ],
      "metadata": {
        "id": "L1e_LncoGYEM"
      },
      "execution_count": null,
      "outputs": []
    },
    {
      "cell_type": "markdown",
      "source": [
        "- **Escolhendo o valor mais apropriado de K**"
      ],
      "metadata": {
        "id": "uV_G1qvuG1hO"
      }
    },
    {
      "cell_type": "code",
      "source": [
        "ks = range(1, 11)\n",
        "\n",
        "mean = []\n",
        "std = []\n",
        "\n",
        "for k in ks:\n",
        "\n",
        "  knn = KNeighborsClassifier(n_neighbors = k, weights = 'distance')\n",
        "  score = cross_val_score(knn, X_train, y_train, scoring = 'accuracy', cv = 10)\n",
        "  mean.append(score.mean())\n",
        "  std.append(score.std())\n",
        "\n",
        "print(mean)"
      ],
      "metadata": {
        "colab": {
          "base_uri": "https://localhost:8080/"
        },
        "id": "AMCLXzlgG4LI",
        "outputId": "94948812-ff30-4bce-bd0b-4560b6893c9b"
      },
      "execution_count": null,
      "outputs": [
        {
          "output_type": "stream",
          "name": "stdout",
          "text": [
            "[0.28125, 0.28125, 0.2775, 0.31625, 0.30625, 0.3012499999999999, 0.3225, 0.31, 0.31625000000000003, 0.31875]\n"
          ]
        }
      ]
    },
    {
      "cell_type": "code",
      "source": [
        "index = mean.index(max(mean))"
      ],
      "metadata": {
        "id": "sT8EF5XYLt5u"
      },
      "execution_count": null,
      "outputs": []
    },
    {
      "cell_type": "code",
      "source": [
        "fig, ax = plt.subplots()\n",
        "\n",
        "x_range = np.arange(1, 11, 1)\n",
        "\n",
        "ax.plot(x_range, mean, label = 'Acurácia')\n",
        "ax.vlines(x = index + 1, ymin = .15, ymax = max(mean), colors = 'green', linestyles = 'dashed')\n",
        "ax.fill_between(x_range, np.array(mean) - np.array(std), np.array(mean) + np.array(std), color = 'darkgreen', alpha = .12, label = '+/- 1 std')\n",
        "ax.fill_between(x_range, np.array(mean) - 2 * np.array(std), np.array(mean) + 2 * np.array(std), color = 'darkgreen', alpha = .05, label = '+/- 2 std')\n",
        "\n",
        "ax.set_xticks([1, 2, 3, 4, 5, 6, 7, 8, 9, 10])\n",
        "ax.set_title('Acurácia como função de K', fontsize = 14)\n",
        "ax.set_xlabel('Valor de K', fontsize = 12)\n",
        "ax.set_ylabel('Acurácia', fontsize = 12)\n",
        "ax.set_ylim(0.15, 0.45)\n",
        "ax.legend()\n",
        "\n",
        "fig.tight_layout()\n",
        "fig.show()"
      ],
      "metadata": {
        "colab": {
          "base_uri": "https://localhost:8080/",
          "height": 487
        },
        "id": "sUwwjl07HIUH",
        "outputId": "308b68e5-191e-48d7-dad8-2afd3aafa0a6"
      },
      "execution_count": null,
      "outputs": [
        {
          "output_type": "display_data",
          "data": {
            "text/plain": [
              "<Figure size 640x480 with 1 Axes>"
            ],
            "image/png": "[encoded data removed]"
          },
          "metadata": {}
        }
      ]
    },
    {
      "cell_type": "markdown",
      "source": [
        "### Previsões"
      ],
      "metadata": {
        "id": "5BMmhrMxLd3-"
      }
    },
    {
      "cell_type": "markdown",
      "source": [
        "Agora que definimos o K correspondente à melhor acurácia, iremos construir o modelo final."
      ],
      "metadata": {
        "id": "J3xmQ5YARiqV"
      }
    },
    {
      "cell_type": "code",
      "source": [
        "# Instanciando o modelo\n",
        "knn_final = KNeighborsClassifier(n_neighbors = 7, weights = 'distance')\n",
        "\n",
        "# Ajustando o modelo\n",
        "knn_final.fit(X_train, y_train)\n",
        "\n",
        "# Realizando as previsões\n",
        "y_pred = knn_final.predict(X_test)"
      ],
      "metadata": {
        "id": "BSLjqiU5NyYc"
      },
      "execution_count": null,
      "outputs": []
    },
    {
      "cell_type": "markdown",
      "source": [
        "- **Métricas**"
      ],
      "metadata": {
        "id": "SCyTbFbsSLEi"
      }
    },
    {
      "cell_type": "code",
      "source": [
        "print(f'Acurácia no Teste: {accuracy_score(y_test, y_pred):.3f}')"
      ],
      "metadata": {
        "colab": {
          "base_uri": "https://localhost:8080/"
        },
        "id": "aNpP23mCSlFY",
        "outputId": "c3ec6e87-daff-48b5-9bc7-443a2a7c938e"
      },
      "execution_count": null,
      "outputs": [
        {
          "output_type": "stream",
          "name": "stdout",
          "text": [
            "Acurácia no Teste: 0.380\n"
          ]
        }
      ]
    }
  ]
}